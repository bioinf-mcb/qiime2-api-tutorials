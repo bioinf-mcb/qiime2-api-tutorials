{
 "cells": [
  {
   "cell_type": "markdown",
   "metadata": {},
   "source": [
    "## Atacama soil microbiome tutorial\n",
    "This repository includes Jupyter notebooks to generate the figures using the 2020.2 version of QIIME 2. \n",
    "\n",
    "### Notes to the reader\n",
    "In this tutorial you will use QIIME 2 to perform an analysis of soil samples from the Atacama Desert in northern Chile. This tutorial utilizes the data generated for this study and metadata tables.\n",
    "\n",
    "### Repository Structure\n",
    "1. Artifact API\n",
    "This directory contains codes for each step of analysis. he sequences for the full study are accessible at EBI with accession [PRJEB17694](https://www.ebi.ac.uk/ena/browser/view/PRJEB17694); processed tables from the full study can be downloaded from the [Qiita](https://qiita.ucsd.edu/) database from study 10483.data\n",
    "This directory contains the input data download URL, including metadata table and multiplexed reads.\n",
    "\n",
    "2. Data\n",
    "This directory contains the input data download URL, including metadata table and multiplexed reads.questions\n",
    "\n",
    "3. Questions\n",
    "The crucial figures and tables from the paper which can be interpreted are followed with clarifying questions to ensure understanding and obtain essential information of tutorials. \n",
    "\n",
    "4. Instructions \n",
    "This notebook contains step-by-step instructions, which provide explanatory information for every part of analysis.\n",
    "\n",
    "### Notebooks running\n",
    "This guide assumes you have QIIME 2 installed (e.g. using [this procedure](https://docs.qiime2.org/2020.8/install/native/)). To execute the script properly, open this notebook in a Jupyter Notebook from within a conda QIIME 2 environment."
   ]
  },
  {
   "cell_type": "code",
   "execution_count": null,
   "metadata": {},
   "outputs": [],
   "source": []
  }
 ],
 "metadata": {
  "kernelspec": {
   "display_name": "Python 3",
   "language": "python",
   "name": "python3"
  },
  "language_info": {
   "codemirror_mode": {
    "name": "ipython",
    "version": 3
   },
   "file_extension": ".py",
   "mimetype": "text/x-python",
   "name": "python",
   "nbconvert_exporter": "python",
   "pygments_lexer": "ipython3",
   "version": "3.6.7"
  }
 },
 "nbformat": 4,
 "nbformat_minor": 4
}
