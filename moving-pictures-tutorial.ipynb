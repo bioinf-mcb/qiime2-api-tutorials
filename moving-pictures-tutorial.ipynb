{
 "cells": [
  {
   "cell_type": "markdown",
   "metadata": {},
   "source": [
    "# \"Moving Pictures\" tutorial\n",
    "\n",
    "**_note:_ This guide assumes you have QIIME 2 installed (e.g. using this [procedure](https://docs.qiime2.org/2020.11/install/native/)). To execute the script properly, open this notebook in a Jupyter Notebook from within a conda QIIME 2 environment.**\n",
    "\n",
    "**_note:_ This tutorial is an adaptation of the same tutorial that may be found on the [official QIIME 2 docs website](https://docs.qiime2.org/2020.11/tutorials/moving-pictures/). The original tutorial uses the QIIME 2 CLI interface.**\n",
    "\n",
    "Instead of CLI interface, this tutorial uses [Artifact API](https://docs.qiime2.org/2020.11/interfaces/artifact-api/) - a Python 3 application programmer interface (API) for QIIME 2. The Artifact API supports interactive computing with QIIME 2 using the Python 3 programming language. The API is automatically generated, and its availability depends on which QIIME 2 plugins are currently installed. It has been optimized for use in the Jupyter Notebook. The Artifact API is a part of the QIIME 2 framework; no additional software needs to be installed to use it. \n",
    "\n",
    "**The notebook was tested using the `2022.2` version of QIIME 2.**\n",
    "\n",
    "In this tutorial you’ll use QIIME 2 to perform an analysis of human microbiome samples from two individuals at four body sites at five timepoints, the first of which immediately followed antibiotic usage. A study based on these samples was originally published in [Caporaso et al. (2011)](https://www.ncbi.nlm.nih.gov/pubmed/21624126). The data used in this tutorial were sequenced on an Illumina HiSeq using the [Earth Microbiome Project](http://earthmicrobiome.org/) hypervariable region 4 (V4) 16S rRNA sequencing protocol.\n",
    "\n",
    "> Question 1: Why is 16S rRNA marker gene sequencing so often used to study the microbiome? What other marker genes are commonly used to identify Bacteria and Archaea? What marker genes do we use to identify other microbial kingdoms (e.g. Fungi and microbial Eukaryotes)?\n",
    "\n",
    "Let's import all necessary modules"
   ]
  },
  {
   "cell_type": "code",
   "execution_count": 14,
   "metadata": {},
   "outputs": [],
   "source": [
    "%matplotlib inline\n",
    "import qiime2\n",
    "from tempfile import mkdtemp\n",
    "from qiime2.plugins import demux, dada2, deblur, quality_filter, \\\n",
    "                           metadata, feature_table, alignment, \\\n",
    "                           phylogeny, diversity, emperor, feature_classifier, \\\n",
    "                           taxa, composition"
   ]
  },
  {
   "cell_type": "markdown",
   "metadata": {},
   "source": [
    "Before beginning this tutorial, create a new directory and change to that directory. The following two commands should do it for you. \n",
    "\n",
    "#### make sure to change the path in workdir"
   ]
  },
  {
   "cell_type": "code",
   "execution_count": 4,
   "metadata": {},
   "outputs": [],
   "source": [
    "workdir='./data'"
   ]
  },
  {
   "cell_type": "code",
   "execution_count": 5,
   "metadata": {},
   "outputs": [],
   "source": [
    "!mkdir -p $workdir\n",
    "!cd $workdir"
   ]
  },
  {
   "cell_type": "markdown",
   "metadata": {},
   "source": [
    "## Sample metadata\n",
    "\n",
    "Before starting the analysis, explore the sample metadata to familiarize yourself with the samples used in this study. The [sample metadata](https://docs.google.com/spreadsheets/d/16oomVnULW-uesehNZc_mKIDTnuRoTiun0CpzSFZagvo/edit#gid=0) is available as a Google Sheet. You can download this file as tab-separated text by selecting `File` > `Download as` > `Tab-separated values`. Alternatively, the following command will download the sample metadata as tab-separated text and save it in the file `sample-metadata.tsv`. This `sample-metadata.tsv` file is used throughout the rest of the tutorial."
   ]
  },
  {
   "cell_type": "code",
   "execution_count": 10,
   "metadata": {},
   "outputs": [
    {
     "name": "stdout",
     "output_type": "stream",
     "text": [
      "--2022-06-07 13:45:17--  https://data.qiime2.org/2022.2/tutorials/moving-pictures/sample_metadata.tsv\n",
      "Resolving data.qiime2.org (data.qiime2.org)... 54.200.1.12\n",
      "Connecting to data.qiime2.org (data.qiime2.org)|54.200.1.12|:443... connected.\n",
      "HTTP request sent, awaiting response... 302 FOUND\n",
      "Location: https://docs.google.com/spreadsheets/d/e/2PACX-1vTDeMqrgOV0OAB8XUJnS_1ULbIgAIbEUuaM5MMGnx8B2S0QzBgYSwPsKw_O_KzZ9rC50IcgIcc4924S/pub?gid=0&single=true&output=tsv [following]\n",
      "--2022-06-07 13:45:19--  https://docs.google.com/spreadsheets/d/e/2PACX-1vTDeMqrgOV0OAB8XUJnS_1ULbIgAIbEUuaM5MMGnx8B2S0QzBgYSwPsKw_O_KzZ9rC50IcgIcc4924S/pub?gid=0&single=true&output=tsv\n",
      "Resolving docs.google.com (docs.google.com)... 142.250.186.206, 2a00:1450:401b:80e::200e\n",
      "Connecting to docs.google.com (docs.google.com)|142.250.186.206|:443... connected.\n",
      "HTTP request sent, awaiting response... 307 Temporary Redirect\n",
      "Location: https://doc-0s-08-sheets.googleusercontent.com/pub/70cmver1f290kjsnpar5ku2h9g/vo9d8buhuev9egndahib4qh414/1654609515000/114171628350043197367/*/e@2PACX-1vTDeMqrgOV0OAB8XUJnS_1ULbIgAIbEUuaM5MMGnx8B2S0QzBgYSwPsKw_O_KzZ9rC50IcgIcc4924S?gid=0&single=true&output=tsv [following]\n",
      "Warning: wildcards not supported in HTTP.\n",
      "--2022-06-07 13:45:19--  https://doc-0s-08-sheets.googleusercontent.com/pub/70cmver1f290kjsnpar5ku2h9g/vo9d8buhuev9egndahib4qh414/1654609515000/114171628350043197367/*/e@2PACX-1vTDeMqrgOV0OAB8XUJnS_1ULbIgAIbEUuaM5MMGnx8B2S0QzBgYSwPsKw_O_KzZ9rC50IcgIcc4924S?gid=0&single=true&output=tsv\n",
      "Resolving doc-0s-08-sheets.googleusercontent.com (doc-0s-08-sheets.googleusercontent.com)... 172.217.16.33, 2a00:1450:401b:805::2001\n",
      "Connecting to doc-0s-08-sheets.googleusercontent.com (doc-0s-08-sheets.googleusercontent.com)|172.217.16.33|:443... connected.\n",
      "HTTP request sent, awaiting response... 200 OK\n",
      "Length: unspecified [text/tab-separated-values]\n",
      "Saving to: ‘./data/sample-metadata.tsv’\n",
      "\n",
      "./data/sample-metad     [ <=>                ]   2.04K  --.-KB/s    in 0s      \n",
      "\n",
      "2022-06-07 13:45:21 (28.6 MB/s) - ‘./data/sample-metadata.tsv’ saved [2094]\n",
      "\n"
     ]
    }
   ],
   "source": [
    "!wget -O $workdir/\"sample-metadata.tsv\" \"https://data.qiime2.org/2022.2/tutorials/moving-pictures/sample_metadata.tsv\""
   ]
  },
  {
   "cell_type": "markdown",
   "metadata": {},
   "source": [
    "## Obtaining and importing data\n",
    "\n",
    "Download the sequence reads that we’ll use in this analysis. In this tutorial we’ll work with a small subset of the complete sequence data so that the commands will run quickly.\n",
    "\n",
    "_Make new directory for the archives to be downloaded._"
   ]
  },
  {
   "cell_type": "code",
   "execution_count": 7,
   "metadata": {},
   "outputs": [
    {
     "name": "stdout",
     "output_type": "stream",
     "text": [
      "mkdir: cannot create directory ‘./data/emp-single-end-sequences’: File exists\r\n"
     ]
    }
   ],
   "source": [
    "!mkdir $workdir\"/emp-single-end-sequences\""
   ]
  },
  {
   "cell_type": "markdown",
   "metadata": {},
   "source": [
    "Download `barcodes.fastq.gz` archive containing barcode sequances identifying individual samples."
   ]
  },
  {
   "cell_type": "code",
   "execution_count": 11,
   "metadata": {},
   "outputs": [
    {
     "name": "stdout",
     "output_type": "stream",
     "text": [
      "--2022-06-07 13:45:24--  https://data.qiime2.org/2022.2/tutorials/moving-pictures/emp-single-end-sequences/barcodes.fastq.gz\n",
      "Resolving data.qiime2.org (data.qiime2.org)... 54.200.1.12\n",
      "Connecting to data.qiime2.org (data.qiime2.org)|54.200.1.12|:443... connected.\n",
      "HTTP request sent, awaiting response... 302 FOUND\n",
      "Location: https://s3-us-west-2.amazonaws.com/qiime2-data/2022.2/tutorials/moving-pictures/emp-single-end-sequences/barcodes.fastq.gz [following]\n",
      "--2022-06-07 13:45:26--  https://s3-us-west-2.amazonaws.com/qiime2-data/2022.2/tutorials/moving-pictures/emp-single-end-sequences/barcodes.fastq.gz\n",
      "Resolving s3-us-west-2.amazonaws.com (s3-us-west-2.amazonaws.com)... 52.218.205.160\n",
      "Connecting to s3-us-west-2.amazonaws.com (s3-us-west-2.amazonaws.com)|52.218.205.160|:443... connected.\n",
      "HTTP request sent, awaiting response... 200 OK\n",
      "Length: 3783785 (3.6M) [application/x-gzip]\n",
      "Saving to: ‘./data/emp-single-end-sequences/barcodes.fastq.gz’\n",
      "\n",
      "./data/emp-single-e 100%[===================>]   3.61M  1.58MB/s    in 2.3s    \n",
      "\n",
      "2022-06-07 13:45:30 (1.58 MB/s) - ‘./data/emp-single-end-sequences/barcodes.fastq.gz’ saved [3783785/3783785]\n",
      "\n"
     ]
    }
   ],
   "source": [
    "!wget -O $workdir/\"emp-single-end-sequences/barcodes.fastq.gz\" \"https://data.qiime2.org/2022.2/tutorials/moving-pictures/emp-single-end-sequences/barcodes.fastq.gz\""
   ]
  },
  {
   "cell_type": "markdown",
   "metadata": {},
   "source": [
    "Download `sequences.fastq.gz` archive containing all the reads sequanced."
   ]
  },
  {
   "cell_type": "code",
   "execution_count": 12,
   "metadata": {},
   "outputs": [
    {
     "name": "stdout",
     "output_type": "stream",
     "text": [
      "--2022-06-07 13:45:32--  https://data.qiime2.org/2022.2/tutorials/moving-pictures/emp-single-end-sequences/sequences.fastq.gz\n",
      "Resolving data.qiime2.org (data.qiime2.org)... 54.200.1.12\n",
      "Connecting to data.qiime2.org (data.qiime2.org)|54.200.1.12|:443... connected.\n",
      "HTTP request sent, awaiting response... 302 FOUND\n",
      "Location: https://s3-us-west-2.amazonaws.com/qiime2-data/2022.2/tutorials/moving-pictures/emp-single-end-sequences/sequences.fastq.gz [following]\n",
      "--2022-06-07 13:45:34--  https://s3-us-west-2.amazonaws.com/qiime2-data/2022.2/tutorials/moving-pictures/emp-single-end-sequences/sequences.fastq.gz\n",
      "Resolving s3-us-west-2.amazonaws.com (s3-us-west-2.amazonaws.com)... 52.218.237.112\n",
      "Connecting to s3-us-west-2.amazonaws.com (s3-us-west-2.amazonaws.com)|52.218.237.112|:443... connected.\n",
      "HTTP request sent, awaiting response... 200 OK\n",
      "Length: 25303756 (24M) [binary/octet-stream]\n",
      "Saving to: ‘./data/emp-single-end-sequences/sequences.fastq.gz’\n",
      "\n",
      "./data/emp-single-e 100%[===================>]  24.13M  1.79MB/s    in 19s     \n",
      "\n",
      "2022-06-07 13:45:54 (1.29 MB/s) - ‘./data/emp-single-end-sequences/sequences.fastq.gz’ saved [25303756/25303756]\n",
      "\n"
     ]
    }
   ],
   "source": [
    "!wget -O $workdir/\"emp-single-end-sequences/sequences.fastq.gz\" \"https://data.qiime2.org/2022.2/tutorials/moving-pictures/emp-single-end-sequences/sequences.fastq.gz\""
   ]
  },
  {
   "cell_type": "markdown",
   "metadata": {},
   "source": [
    "### Import data as a qiime2 artifact\n",
    "\n",
    "All data that is used as input to QIIME 2 is in form of QIIME 2 artifacts, which contain information about the type of data and the source of the data. So, the first thing we need to do is import these sequence data files into a QIIME 2 artifact.\n",
    "\n",
    "The semantic type of this QIIME 2 artifact is `EMPSingleEndSequences`. `EMPSingleEndSequences` QIIME 2 artifacts contain sequences that are multiplexed, meaning that the sequences have not yet been assigned to samples (hence the inclusion of both `sequences.fastq.gz` and `barcodes.fastq.gz` files, where the `barcodes.fastq.gz` contains the barcode read associated with each sequence in `sequences.fastq.gz.`) \n"
   ]
  },
  {
   "cell_type": "code",
   "execution_count": 15,
   "metadata": {
    "scrolled": true
   },
   "outputs": [],
   "source": [
    "single_end_sequences = qiime2.Artifact.import_data('EMPSingleEndSequences', workdir+'/emp-single-end-sequences/')"
   ]
  },
  {
   "cell_type": "markdown",
   "metadata": {},
   "source": [
    "### Read metadata into `qiime2.Metadata` object"
   ]
  },
  {
   "cell_type": "code",
   "execution_count": 16,
   "metadata": {},
   "outputs": [],
   "source": [
    "sample_metadata = qiime2.Metadata.load(workdir+'/sample-metadata.tsv')"
   ]
  },
  {
   "cell_type": "markdown",
   "metadata": {},
   "source": [
    "## Demultiplexing sequences \n",
    "\n",
    "> Question 2: What is demultiplexing and why do we need to demultiplex? \n",
    "\n",
    "To demultiplex sequences we need to know which barcode sequence is associated with each sample. This information is contained in the [sample metadata](https://docs.google.com/spreadsheets/d/16oomVnULW-uesehNZc_mKIDTnuRoTiun0CpzSFZagvo/edit#gid=0) file. You can run the following commands to demultiplex the sequences (the `demux.methods.emp_single` function refers to the fact that these sequences are barcoded according to the [Earth Microbiome Project](http://earthmicrobiome.or-g/) protocol, and are single-end reads). The `demux.qza` QIIME 2 artifact will contain the demultiplexed sequences."
   ]
  },
  {
   "cell_type": "code",
   "execution_count": 17,
   "metadata": {},
   "outputs": [],
   "source": [
    "demux_sequences = demux.methods.emp_single(single_end_sequences,\n",
    "                                           sample_metadata.get_column('barcode-sequence'))"
   ]
  },
  {
   "cell_type": "markdown",
   "metadata": {},
   "source": [
    "After demultiplexing, it’s useful to generate a summary of the demultiplexing results. This allows you to determine how many sequences were obtained per sample, and also to get a summary of the distribution of sequence qualities at each position in your sequence data."
   ]
  },
  {
   "cell_type": "code",
   "execution_count": 18,
   "metadata": {},
   "outputs": [
    {
     "data": {
      "text/html": [
       "<div><img onload=\"(function(div, url){\n",
       "if (typeof require !== 'undefined') {\n",
       "    var baseURL = require.toUrl('').split('/').slice(0, -2).join('/');\n",
       "} else {\n",
       "    var baseURL = JSON.parse(\n",
       "        document.getElementById('jupyter-config-data').innerHTML\n",
       "    ).baseUrl.slice(0, -1);\n",
       "}\n",
       "url = baseURL + url;\n",
       "fetch(url).then(function(res) {\n",
       "    if (res.status === 404) {\n",
       "        div.innerHTML = 'Install QIIME 2 Jupyter extension with:<br />' +\n",
       "                        '<code>jupyter serverextension enable --py qiime2' +\n",
       "                        ' --sys-prefix</code><br />then restart your server.' +\n",
       "                        '<br /><br />(Interactive output not available on ' +\n",
       "                        'static notebook viewer services like nbviewer.)';\n",
       "    } else if (res.status === 409) {\n",
       "        div.innerHTML = 'Visualization no longer in scope. Re-run this cell' +\n",
       "                        ' to see the visualization.';\n",
       "    } else if (res.ok) {\n",
       "        url = res.url;\n",
       "        div.innerHTML = '<iframe src=\\'' + url + '\\' style=\\'' +\n",
       "                        'width: 100%; height: 700px; border: 0;\\'>' +\n",
       "                        '</iframe><hr />Open in a: <a href=\\'' + url + '\\'' +\n",
       "                        ' target=\\'_blank\\'>new window</a>'\n",
       "    } else {\n",
       "        div.innerHTML = 'Something has gone wrong. Check notebook server for' +\n",
       "                        ' errors.';\n",
       "    }\n",
       "});\n",
       "})(this.parentElement, '/qiime2/redirect?location=/tmp/qiime2-archive-fkwh2a6y')\" src=\"data:image/gif;base64,R0lGODlhAQABAIAAAP///wAAACH5BAEAAAAALAAAAAABAAEAAAICRAEAOw==\" /></div>"
      ],
      "text/plain": [
       "<visualization: Visualization uuid: d8a15656-0f6f-4385-9eff-4c6867114d71>"
      ]
     },
     "execution_count": 18,
     "metadata": {},
     "output_type": "execute_result"
    },
    {
     "data": {
      "text/plain": [
       "<Figure size 432x288 with 0 Axes>"
      ]
     },
     "metadata": {},
     "output_type": "display_data"
    }
   ],
   "source": [
    "demux_summary = demux.visualizers.summarize(demux_sequences.per_sample_sequences)\n",
    "demux_summary.visualization"
   ]
  },
  {
   "cell_type": "markdown",
   "metadata": {},
   "source": [
    "\n",
    "## Sequence quality control and feature table construction\n",
    "\n",
    "QIIME 2 plugins are available for several quality control methods, including DADA2, Deblur, and basic quality-score-based filtering. In this tutorial we present this step using [DADA2](https://www.ncbi.nlm.nih.gov/pubmed/27214047) and [Deblur](https://msystems.asm.org/content/2/2/e00191-16). These steps are interchangeable, so you can use whichever of these you prefer. The result of both of these methods will be a `FeatureTable[Frequency]` QIIME 2 artifact, which contains counts (frequencies) of each unique sequence in each sample in the dataset, and a `FeatureData[Sequence]` QIIME 2 artifact, which maps feature identifiers in the `FeatureTable` to the sequences they represent.\n",
    "\n",
    "## Option 1: DADA2\n",
    "\n",
    "[DADA2](https://www.ncbi.nlm.nih.gov/pubmed/27214047) is a pipeline for detecting and correcting (where possible) Illumina amplicon sequence data. As implemented in the `q2-dada2` plugin, this quality control process will additionally filter any phiX reads (commonly present in marker gene Illumina sequence data) that are identified in the sequencing data, and will filter chimeric sequences.\n",
    "\n",
    "The `dada2.methods.denoise_single` method requires two parameters that are used in quality filtering: `trim_left`, which trims off the first `m` bases of each sequence, and `trunc_len` which truncates each sequence at position `n`. This allows the user to remove low quality regions of the sequences. To determine what values to pass for these two parameters, you should review the Interactive Quality Plot tab in the `demux.qzv` file that was generated by qiime demux summarize above.\n",
    "\n",
    "In the `demux.qzv` quality plots, we see that the quality of the initial bases seems to be high, so we won’t trim any bases from the beginning of the sequences. The quality seems to drop off around position 120, so we’ll truncate our sequences at 120 bases. This next command may take up to 10 minutes to run, and is the slowest step in this tutorial.\n"
   ]
  },
  {
   "cell_type": "code",
   "execution_count": 19,
   "metadata": {},
   "outputs": [
    {
     "name": "stdout",
     "output_type": "stream",
     "text": [
      "Running external command line application(s). This may print messages to stdout and/or stderr.\n",
      "The command(s) being run are below. These commands cannot be manually re-run as they will depend on temporary files that no longer exist.\n",
      "\n",
      "Command: run_dada_single.R /tmp/qiime2-archive-rh5cmgsk/b6c9a639-ee1b-4cab-a4c7-00fb2e9ee994/data /tmp/tmpgts1s3ke/output.tsv.biom /tmp/tmpgts1s3ke/track.tsv /tmp/tmpgts1s3ke 120 0 2.0 2 Inf independent consensus 1.0 1 1000000 NULL 16\n",
      "\n",
      "R version 4.1.3 (2022-03-10) \n"
     ]
    },
    {
     "name": "stderr",
     "output_type": "stream",
     "text": [
      "Loading required package: Rcpp\n"
     ]
    },
    {
     "name": "stdout",
     "output_type": "stream",
     "text": [
      "DADA2: 1.22.0 / Rcpp: 1.0.8.3 / RcppParallel: 5.1.5 \n",
      "1) Filtering ..................................\n",
      "2) Learning Error Rates\n",
      "19539480 total bases in 162829 reads from 34 samples will be used for learning the error rates.\n",
      "3) Denoise samples ..................................\n",
      "4) Remove chimeras (method = consensus)\n",
      "5) Report read numbers through the pipeline\n",
      "6) Write output\n"
     ]
    }
   ],
   "source": [
    "denoised_sequences = dada2.methods.denoise_single(demux_sequences.per_sample_sequences, trim_left = 0, \\\n",
    "trunc_len = 120)"
   ]
  },
  {
   "cell_type": "code",
   "execution_count": 20,
   "metadata": {
    "scrolled": true
   },
   "outputs": [
    {
     "data": {
      "text/html": [
       "<div><img onload=\"(function(div, url){\n",
       "if (typeof require !== 'undefined') {\n",
       "    var baseURL = require.toUrl('').split('/').slice(0, -2).join('/');\n",
       "} else {\n",
       "    var baseURL = JSON.parse(\n",
       "        document.getElementById('jupyter-config-data').innerHTML\n",
       "    ).baseUrl.slice(0, -1);\n",
       "}\n",
       "url = baseURL + url;\n",
       "fetch(url).then(function(res) {\n",
       "    if (res.status === 404) {\n",
       "        div.innerHTML = 'Install QIIME 2 Jupyter extension with:<br />' +\n",
       "                        '<code>jupyter serverextension enable --py qiime2' +\n",
       "                        ' --sys-prefix</code><br />then restart your server.' +\n",
       "                        '<br /><br />(Interactive output not available on ' +\n",
       "                        'static notebook viewer services like nbviewer.)';\n",
       "    } else if (res.status === 409) {\n",
       "        div.innerHTML = 'Visualization no longer in scope. Re-run this cell' +\n",
       "                        ' to see the visualization.';\n",
       "    } else if (res.ok) {\n",
       "        url = res.url;\n",
       "        div.innerHTML = '<iframe src=\\'' + url + '\\' style=\\'' +\n",
       "                        'width: 100%; height: 700px; border: 0;\\'>' +\n",
       "                        '</iframe><hr />Open in a: <a href=\\'' + url + '\\'' +\n",
       "                        ' target=\\'_blank\\'>new window</a>'\n",
       "    } else {\n",
       "        div.innerHTML = 'Something has gone wrong. Check notebook server for' +\n",
       "                        ' errors.';\n",
       "    }\n",
       "});\n",
       "})(this.parentElement, '/qiime2/redirect?location=/tmp/qiime2-archive-4t2y2kzy')\" src=\"data:image/gif;base64,R0lGODlhAQABAIAAAP///wAAACH5BAEAAAAALAAAAAABAAEAAAICRAEAOw==\" /></div>"
      ],
      "text/plain": [
       "<visualization: Visualization uuid: d0f58af5-b268-4a67-bee5-bf5075a62ac3>"
      ]
     },
     "execution_count": 20,
     "metadata": {},
     "output_type": "execute_result"
    }
   ],
   "source": [
    "denoise_stats = metadata.visualizers.tabulate(denoised_sequences.denoising_stats.view(qiime2.Metadata))\n",
    "denoise_stats.visualization"
   ]
  },
  {
   "cell_type": "markdown",
   "metadata": {},
   "source": [
    "**If you want to stay with Option 1, go straight to FeatureTable and FeatureData summaries. If you want to try Option 2, denoising sequances with Deblur, proceed to the next cell.**"
   ]
  },
  {
   "cell_type": "markdown",
   "metadata": {},
   "source": [
    "## Option 2: Deblur\n",
    "\n",
    "Deblur uses sequence error profiles to associate erroneous sequence reads with the true biological sequence from which they are derived, resulting in high quality sequence variant data. This is applied in two steps. First, an initial quality filtering process based on quality scores is applied. This method is an implementation of the quality filtering approach described by [Bokulich et al. (2013)](https://www.nature.com/articles/nmeth.2276)."
   ]
  },
  {
   "cell_type": "code",
   "execution_count": 21,
   "metadata": {},
   "outputs": [],
   "source": [
    "demux_filter_stats = quality_filter.methods.q_score(demux_sequences.per_sample_sequences)"
   ]
  },
  {
   "cell_type": "markdown",
   "metadata": {},
   "source": [
    "Next, the Deblur workflow is applied using the `deblur.methods.denoise-16S method`. This method requires one parameter that is used in quality filtering, `trim_length = n` which truncates the sequences at position `n`. In general, the Deblur developers recommend setting this value to a length where the median quality score begins to drop too low. On these data, the quality plots (prior to quality filtering) suggest a reasonable choice is in the 115 to 130 sequence position range. This is a subjective assessment. One situation where you might deviate from that ecommendation is when performing a meta-analysis across multiple sequencing runs. In this type of meta-analysis, it is critical that the read lengths be the same for all of the sequencing runs being compared to avoid introducing a study-specific bias. Since 120 is reasonable given the quality plots, we’ll pass `trim_length` parameter the value of 120. This next command may take up to 10 minutes to run."
   ]
  },
  {
   "cell_type": "code",
   "execution_count": 22,
   "metadata": {},
   "outputs": [
    {
     "name": "stderr",
     "output_type": "stream",
     "text": [
      "/opt/conda/envs/jupyterhub/bin/deblur:531: DeprecationWarning: The 'warn' method is deprecated, use 'warning' instead\n",
      "  logger.warn('deblur version %s workflow started on %s' %\n",
      "/opt/conda/envs/jupyterhub/bin/deblur:533: DeprecationWarning: The 'warn' method is deprecated, use 'warning' instead\n",
      "  logger.warn('parameters: %s' % locals())\n"
     ]
    }
   ],
   "source": [
    "denoised_sequences = deblur.methods.denoise_16S(demux_sequences.per_sample_sequences,\n",
    "                                             trim_length=120,\n",
    "                                              sample_stats=True)"
   ]
  },
  {
   "cell_type": "markdown",
   "metadata": {},
   "source": [
    "The two commands used in this section generate QIIME 2 artifacts containing summary statistics. To view those summary statistics, you can visualize them using `metadata.visualizers.tabulate` and `deblur.visulaizers.visualize-stats`, respectively.\n",
    "> Question 3: Look at generated filtering stats after demultiplexing. Pay attention to columns names. What is the meaning of `reads-too-short-after-truncation` and `reads-exceeding-maximum-ambiguous-bases` columns in the context of filtering?\n",
    "\n",
    "> Question 4: Look at statistics visulization after appling denoising using Deblur. How do you understand `reads-missed-reference`, `reads-hit-artifact`, `reads-derep`, `reads-chimeric` in context of methodology (sequancing errors, using reference data bases)?"
   ]
  },
  {
   "cell_type": "code",
   "execution_count": 23,
   "metadata": {
    "scrolled": true
   },
   "outputs": [
    {
     "data": {
      "text/html": [
       "<div><img onload=\"(function(div, url){\n",
       "if (typeof require !== 'undefined') {\n",
       "    var baseURL = require.toUrl('').split('/').slice(0, -2).join('/');\n",
       "} else {\n",
       "    var baseURL = JSON.parse(\n",
       "        document.getElementById('jupyter-config-data').innerHTML\n",
       "    ).baseUrl.slice(0, -1);\n",
       "}\n",
       "url = baseURL + url;\n",
       "fetch(url).then(function(res) {\n",
       "    if (res.status === 404) {\n",
       "        div.innerHTML = 'Install QIIME 2 Jupyter extension with:<br />' +\n",
       "                        '<code>jupyter serverextension enable --py qiime2' +\n",
       "                        ' --sys-prefix</code><br />then restart your server.' +\n",
       "                        '<br /><br />(Interactive output not available on ' +\n",
       "                        'static notebook viewer services like nbviewer.)';\n",
       "    } else if (res.status === 409) {\n",
       "        div.innerHTML = 'Visualization no longer in scope. Re-run this cell' +\n",
       "                        ' to see the visualization.';\n",
       "    } else if (res.ok) {\n",
       "        url = res.url;\n",
       "        div.innerHTML = '<iframe src=\\'' + url + '\\' style=\\'' +\n",
       "                        'width: 100%; height: 700px; border: 0;\\'>' +\n",
       "                        '</iframe><hr />Open in a: <a href=\\'' + url + '\\'' +\n",
       "                        ' target=\\'_blank\\'>new window</a>'\n",
       "    } else {\n",
       "        div.innerHTML = 'Something has gone wrong. Check notebook server for' +\n",
       "                        ' errors.';\n",
       "    }\n",
       "});\n",
       "})(this.parentElement, '/qiime2/redirect?location=/tmp/qiime2-archive-gu6ybt6a')\" src=\"data:image/gif;base64,R0lGODlhAQABAIAAAP///wAAACH5BAEAAAAALAAAAAABAAEAAAICRAEAOw==\" /></div>"
      ],
      "text/plain": [
       "<visualization: Visualization uuid: 79cbe37f-0f3c-4fbb-a79a-a22a8de896d7>"
      ]
     },
     "execution_count": 23,
     "metadata": {},
     "output_type": "execute_result"
    }
   ],
   "source": [
    "filter_stats = metadata.visualizers.tabulate(demux_filter_stats.filter_stats.view(qiime2.Metadata))\n",
    "filter_stats.visualization"
   ]
  },
  {
   "cell_type": "code",
   "execution_count": 24,
   "metadata": {},
   "outputs": [
    {
     "data": {
      "text/html": [
       "<div><img onload=\"(function(div, url){\n",
       "if (typeof require !== 'undefined') {\n",
       "    var baseURL = require.toUrl('').split('/').slice(0, -2).join('/');\n",
       "} else {\n",
       "    var baseURL = JSON.parse(\n",
       "        document.getElementById('jupyter-config-data').innerHTML\n",
       "    ).baseUrl.slice(0, -1);\n",
       "}\n",
       "url = baseURL + url;\n",
       "fetch(url).then(function(res) {\n",
       "    if (res.status === 404) {\n",
       "        div.innerHTML = 'Install QIIME 2 Jupyter extension with:<br />' +\n",
       "                        '<code>jupyter serverextension enable --py qiime2' +\n",
       "                        ' --sys-prefix</code><br />then restart your server.' +\n",
       "                        '<br /><br />(Interactive output not available on ' +\n",
       "                        'static notebook viewer services like nbviewer.)';\n",
       "    } else if (res.status === 409) {\n",
       "        div.innerHTML = 'Visualization no longer in scope. Re-run this cell' +\n",
       "                        ' to see the visualization.';\n",
       "    } else if (res.ok) {\n",
       "        url = res.url;\n",
       "        div.innerHTML = '<iframe src=\\'' + url + '\\' style=\\'' +\n",
       "                        'width: 100%; height: 700px; border: 0;\\'>' +\n",
       "                        '</iframe><hr />Open in a: <a href=\\'' + url + '\\'' +\n",
       "                        ' target=\\'_blank\\'>new window</a>'\n",
       "    } else {\n",
       "        div.innerHTML = 'Something has gone wrong. Check notebook server for' +\n",
       "                        ' errors.';\n",
       "    }\n",
       "});\n",
       "})(this.parentElement, '/qiime2/redirect?location=/tmp/qiime2-archive-qv7vg96y')\" src=\"data:image/gif;base64,R0lGODlhAQABAIAAAP///wAAACH5BAEAAAAALAAAAAABAAEAAAICRAEAOw==\" /></div>"
      ],
      "text/plain": [
       "<visualization: Visualization uuid: 40dc9e84-8ddc-4e57-bb95-bcd47a1d7aa3>"
      ]
     },
     "execution_count": 24,
     "metadata": {},
     "output_type": "execute_result"
    }
   ],
   "source": [
    "denoise_stats = deblur.visualizers.visualize_stats(denoised_sequences.stats)\n",
    "denoise_stats.visualization"
   ]
  },
  {
   "cell_type": "markdown",
   "metadata": {},
   "source": [
    "\n",
    "## FeatureTable and FeatureData summaries\n",
    "\n",
    "After the quality filtering step completes, you’ll want to explore the resulting data. You can do this using the following two commands, which will create visual summaries of the data. The `feature_table.visulizers.summarize` function will give you information on how many sequences are associated with each sample and with each feature, histograms of those distributions, and some related summary statistics. The `feature_table.visulizers.tabulate_seqs` command will provide a mapping of feature IDs to sequences, and provide links to easily BLAST each sequence against the NCBI nt database. The latter visualization will be very useful later in the tutorial, when you want to learn more about specific features that are important in the data set.\n"
   ]
  },
  {
   "cell_type": "code",
   "execution_count": 25,
   "metadata": {},
   "outputs": [
    {
     "data": {
      "text/html": [
       "<div><img onload=\"(function(div, url){\n",
       "if (typeof require !== 'undefined') {\n",
       "    var baseURL = require.toUrl('').split('/').slice(0, -2).join('/');\n",
       "} else {\n",
       "    var baseURL = JSON.parse(\n",
       "        document.getElementById('jupyter-config-data').innerHTML\n",
       "    ).baseUrl.slice(0, -1);\n",
       "}\n",
       "url = baseURL + url;\n",
       "fetch(url).then(function(res) {\n",
       "    if (res.status === 404) {\n",
       "        div.innerHTML = 'Install QIIME 2 Jupyter extension with:<br />' +\n",
       "                        '<code>jupyter serverextension enable --py qiime2' +\n",
       "                        ' --sys-prefix</code><br />then restart your server.' +\n",
       "                        '<br /><br />(Interactive output not available on ' +\n",
       "                        'static notebook viewer services like nbviewer.)';\n",
       "    } else if (res.status === 409) {\n",
       "        div.innerHTML = 'Visualization no longer in scope. Re-run this cell' +\n",
       "                        ' to see the visualization.';\n",
       "    } else if (res.ok) {\n",
       "        url = res.url;\n",
       "        div.innerHTML = '<iframe src=\\'' + url + '\\' style=\\'' +\n",
       "                        'width: 100%; height: 700px; border: 0;\\'>' +\n",
       "                        '</iframe><hr />Open in a: <a href=\\'' + url + '\\'' +\n",
       "                        ' target=\\'_blank\\'>new window</a>'\n",
       "    } else {\n",
       "        div.innerHTML = 'Something has gone wrong. Check notebook server for' +\n",
       "                        ' errors.';\n",
       "    }\n",
       "});\n",
       "})(this.parentElement, '/qiime2/redirect?location=/tmp/qiime2-archive-ygdj4qcm')\" src=\"data:image/gif;base64,R0lGODlhAQABAIAAAP///wAAACH5BAEAAAAALAAAAAABAAEAAAICRAEAOw==\" /></div>"
      ],
      "text/plain": [
       "<visualization: Visualization uuid: a9820efe-18e3-4064-a4c5-5e67507f7ab5>"
      ]
     },
     "execution_count": 25,
     "metadata": {},
     "output_type": "execute_result"
    }
   ],
   "source": [
    "output_viz = feature_table.visualizers.summarize(denoised_sequences.table)\n",
    "output_viz.visualization"
   ]
  },
  {
   "cell_type": "code",
   "execution_count": 26,
   "metadata": {
    "scrolled": true
   },
   "outputs": [
    {
     "data": {
      "text/html": [
       "<div><img onload=\"(function(div, url){\n",
       "if (typeof require !== 'undefined') {\n",
       "    var baseURL = require.toUrl('').split('/').slice(0, -2).join('/');\n",
       "} else {\n",
       "    var baseURL = JSON.parse(\n",
       "        document.getElementById('jupyter-config-data').innerHTML\n",
       "    ).baseUrl.slice(0, -1);\n",
       "}\n",
       "url = baseURL + url;\n",
       "fetch(url).then(function(res) {\n",
       "    if (res.status === 404) {\n",
       "        div.innerHTML = 'Install QIIME 2 Jupyter extension with:<br />' +\n",
       "                        '<code>jupyter serverextension enable --py qiime2' +\n",
       "                        ' --sys-prefix</code><br />then restart your server.' +\n",
       "                        '<br /><br />(Interactive output not available on ' +\n",
       "                        'static notebook viewer services like nbviewer.)';\n",
       "    } else if (res.status === 409) {\n",
       "        div.innerHTML = 'Visualization no longer in scope. Re-run this cell' +\n",
       "                        ' to see the visualization.';\n",
       "    } else if (res.ok) {\n",
       "        url = res.url;\n",
       "        div.innerHTML = '<iframe src=\\'' + url + '\\' style=\\'' +\n",
       "                        'width: 100%; height: 700px; border: 0;\\'>' +\n",
       "                        '</iframe><hr />Open in a: <a href=\\'' + url + '\\'' +\n",
       "                        ' target=\\'_blank\\'>new window</a>'\n",
       "    } else {\n",
       "        div.innerHTML = 'Something has gone wrong. Check notebook server for' +\n",
       "                        ' errors.';\n",
       "    }\n",
       "});\n",
       "})(this.parentElement, '/qiime2/redirect?location=/tmp/qiime2-archive-blaxwxrw')\" src=\"data:image/gif;base64,R0lGODlhAQABAIAAAP///wAAACH5BAEAAAAALAAAAAABAAEAAAICRAEAOw==\" /></div>"
      ],
      "text/plain": [
       "<visualization: Visualization uuid: 26f583b0-1170-47fe-8612-2dd4219b8d15>"
      ]
     },
     "execution_count": 26,
     "metadata": {},
     "output_type": "execute_result"
    }
   ],
   "source": [
    "denoise_feature_table_summary = feature_table.visualizers.tabulate_seqs(denoised_sequences.representative_sequences)\n",
    "denoise_feature_table_summary.visualization"
   ]
  },
  {
   "cell_type": "markdown",
   "metadata": {},
   "source": [
    "\n",
    "## Generate a tree for phylogenetic diversity analyses\n",
    "\n",
    "QIIME supports several phylogenetic diversity metrics, including Faith’s Phylogenetic Diversity and weighted and unweighted UniFrac. In addition to counts of features per sample (i.e., the data in the `FeatureTable[Frequency]` QIIME 2 artifact), these metrics require a rooted phylogenetic tree relating the features to one another. This information will be stored in a `Phylogeny[Rooted]` QIIME 2 artifact. To generate a phylogenetic tree we will use `phylogeny.pipelines.align_to_tree_mafft_fasttree` pipeline.\n",
    "\n",
    "First, the pipeline uses the `mafft` program to perform a multiple sequence alignment of the sequences in our `FeatureData[Sequence]` to create a `FeatureData[AlignedSequence]` QIIME 2 artifact. Next, the pipeline masks (or filters) the alignment to remove positions that are highly variable. These positions are generally considered to add noise to a resulting phylogenetic tree. Following that, the pipeline applies FastTree to generate a phylogenetic tree from the masked alignment. The FastTree program creates an unrooted tree, so in the final step in this section midpoint rooting is applied to place the root of the tree at the midpoint of the longest tip-to-tip distance in the unrooted tree."
   ]
  },
  {
   "cell_type": "code",
   "execution_count": 27,
   "metadata": {},
   "outputs": [
    {
     "name": "stdout",
     "output_type": "stream",
     "text": [
      "Running external command line application. This may print messages to stdout and/or stderr.\n",
      "The command being run is below. This command cannot be manually re-run as it will depend on temporary files that no longer exist.\n",
      "\n",
      "Command: mafft --preservecase --inputorder --thread 1 /tmp/qiime2-archive-x75lqpbf/13947b73-34eb-4642-8d93-6926806bb07e/data/dna-sequences.fasta\n",
      "\n"
     ]
    },
    {
     "name": "stderr",
     "output_type": "stream",
     "text": [
      "inputfile = orig\n",
      "622 x 120 - 120 d\n",
      "nthread = 1\n",
      "nthreadpair = 1\n",
      "nthreadtb = 1\n",
      "ppenalty_ex = 0\n",
      "stacksize: 8192 kb\n",
      "generating a scoring matrix for nucleotide (dist=200) ... done\n",
      "Gap Penalty = -1.53, +0.00, +0.00\n",
      "\n",
      "\n",
      "\n",
      "Making a distance matrix ..\n",
      "\n",
      "There are 8 ambiguous characters.\n",
      "  601 / 622 (thread    0)\n",
      "done.\n",
      "\n",
      "Constructing a UPGMA tree (efffree=0) ... \n",
      "  620 / 622\n",
      "done.\n",
      "\n",
      "Progressive alignment 1/2... \n",
      "STEP    96 / 621 (thread    0)\n",
      "Reallocating..done. *alloclen = 1241\n",
      "STEP   601 / 621 (thread    0)\n",
      "done.\n",
      "\n",
      "Making a distance matrix from msa.. \n",
      "  600 / 622 (thread    0)\n",
      "done.\n",
      "\n",
      "Constructing a UPGMA tree (efffree=1) ... \n",
      "  620 / 622\n",
      "done.\n",
      "\n",
      "Progressive alignment 2/2... \n",
      "STEP   499 / 621 (thread    0)\n",
      "Reallocating..done. *alloclen = 1241\n",
      "STEP   601 / 621 (thread    0) h\n",
      "done.\n",
      "\n",
      "disttbfast (nuc) Version 7.505\n",
      "alg=A, model=DNA200 (2), 1.53 (4.59), -0.00 (-0.00), noshift, amax=0.0\n",
      "1 thread(s)\n",
      "\n",
      "\n",
      "Strategy:\n",
      " FFT-NS-2 (Fast but rough)\n",
      " Progressive method (guide trees were built 2 times.)\n",
      "\n",
      "If unsure which option to use, try 'mafft --auto input > output'.\n",
      "For more information, see 'mafft --help', 'mafft --man' and the mafft page.\n",
      "\n",
      "The default gap scoring scheme has been changed in version 7.110 (2013 Oct).\n",
      "It tends to insert more gaps into gap-rich regions than previous versions.\n",
      "To disable this change, add the --leavegappyregion option.\n",
      "\n"
     ]
    },
    {
     "name": "stdout",
     "output_type": "stream",
     "text": [
      "Running external command line application. This may print messages to stdout and/or stderr.\n",
      "The command being run is below. This command cannot be manually re-run as it will depend on temporary files that no longer exist.\n",
      "\n",
      "Command: FastTree -quote -nt /tmp/qiime2-archive-t7if4mb0/cc9eba17-2074-4ed1-8bda-5ebbd8724a1b/data/aligned-dna-sequences.fasta\n",
      "\n"
     ]
    },
    {
     "name": "stderr",
     "output_type": "stream",
     "text": [
      "FastTree Version 2.1.10 Double precision (No SSE3)\n",
      "Alignment: /tmp/qiime2-archive-t7if4mb0/cc9eba17-2074-4ed1-8bda-5ebbd8724a1b/data/aligned-dna-sequences.fasta\n",
      "Nucleotide distances: Jukes-Cantor Joins: balanced Support: SH-like 1000\n",
      "Search: Normal +NNI +SPR (2 rounds range 10) +ML-NNI opt-each=1\n",
      "TopHits: 1.00*sqrtN close=default refresh=0.80\n",
      "ML Model: Jukes-Cantor, CAT approximation with 20 rate categories\n",
      "Ignored unknown character X (seen 8 times)\n",
      "      0.10 seconds: Joined    200 of    597\n",
      "Initial topology in 0.19 seconds\n",
      "Refining topology: 37 rounds ME-NNIs, 2 rounds ME-SPRs, 18 rounds ML-NNIs\n",
      "      0.20 seconds: ME NNI round 4 of 37, 101 of 598 splits, 9 changes (max delta 0.010)\n",
      "      0.31 seconds: SPR round   1 of   2, 701 of 1198 nodes\n",
      "      0.43 seconds: SPR round   2 of   2, 201 of 1198 nodes\n",
      "      0.53 seconds: SPR round   2 of   2, 901 of 1198 nodes\n",
      "Total branch-length 23.181 after 0.59 sec\n",
      "      0.64 seconds: ML NNI round 1 of 18, 1 of 598 splits\n",
      "      0.74 seconds: ML NNI round 1 of 18, 301 of 598 splits, 52 changes (max delta 4.463)\n",
      "ML-NNI round 1: LogLk = -15535.424 NNIs 110 max delta 6.14 Time 0.84\n",
      "      0.84 seconds: Site likelihoods with rate category 7 of 20\n",
      "Switched to using 20 rate categories (CAT approximation)\n",
      "Rate categories were divided by 1.024 so that average rate = 1.0\n",
      "CAT-based log-likelihoods may not be comparable across runs\n",
      "Use -gamma for approximate but comparable Gamma(20) log-likelihoods\n",
      "      0.97 seconds: ML NNI round 2 of 18, 401 of 598 splits, 43 changes (max delta 3.066)\n",
      "ML-NNI round 2: LogLk = -13061.931 NNIs 68 max delta 3.17 Time 1.03\n",
      "      1.09 seconds: ML NNI round 3 of 18, 301 of 598 splits, 17 changes (max delta 3.028)\n",
      "ML-NNI round 3: LogLk = -13049.738 NNIs 26 max delta 3.03 Time 1.13\n",
      "ML-NNI round 4: LogLk = -13046.236 NNIs 9 max delta 0.83 Time 1.19\n",
      "      1.21 seconds: ML NNI round 5 of 18, 101 of 598 splits, 7 changes (max delta 0.446)\n",
      "ML-NNI round 5: LogLk = -13044.040 NNIs 7 max delta 0.45 Time 1.22\n",
      "ML-NNI round 6: LogLk = -13042.475 NNIs 3 max delta 1.22 Time 1.24\n",
      "ML-NNI round 7: LogLk = -13042.473 NNIs 0 max delta 0.00 Time 1.25\n",
      "Turning off heuristics for final round of ML NNIs (converged)\n",
      "      1.34 seconds: ML NNI round 8 of 18, 301 of 598 splits, 5 changes (max delta 0.186)\n",
      "ML-NNI round 8: LogLk = -13037.267 NNIs 11 max delta 0.26 Time 1.44 (final)\n",
      "      1.44 seconds: ML Lengths 101 of 598 splits\n",
      "Optimize all lengths: LogLk = -13035.940 Time 1.48\n",
      "      1.55 seconds: ML split tests for    200 of    597 internal splits\n",
      "      1.67 seconds: ML split tests for    500 of    597 internal splits\n",
      "Total time: 1.71 seconds Unique: 600/622 Bad splits: 0/597\n"
     ]
    }
   ],
   "source": [
    "rooted_tree = phylogeny.pipelines.align_to_tree_mafft_fasttree(denoised_sequences.representative_sequences)"
   ]
  },
  {
   "cell_type": "markdown",
   "metadata": {},
   "source": [
    "## Alpha and beta diversity analysis\n",
    "\n",
    "QIIME 2’s diversity analyses are available through the `q2-diversity` plugin, which supports computing alpha and beta diversity metrics, applying related statistical tests, and generating interactive visualizations. We’ll first apply the `diversity.pipelines.core_metrics_phylogenetic` method, which rarefies a `FeatureTable[Frequency]` to a user-specified depth, computes several alpha and beta diversity metrics, and generates principle coordinates analysis (PCoA) plots using Emperor for each of the beta diversity metrics. The metrics computed by default are:\n",
    "\n",
    "* Alpha diversity\n",
    "    * Shannon’s diversity index (a quantitative measure of community richness)\n",
    "    * Observed OTUs (a qualitative measure of community richness)\n",
    "    * Faith’s Phylogenetic Diversity (a qualitiative measure of community richness that incorporates phylogenetic relationships between the features)\n",
    "    * Evenness (or Pielou’s Evenness; a measure of community evenness)\n",
    "\n",
    "* Beta diversity\n",
    "    * Jaccard distance (a qualitative measure of community dissimilarity)\n",
    "    * Bray-Curtis distance (a quantitative measure of community dissimilarity)\n",
    "    * unweighted UniFrac distance (a qualitative measure of community dissimilarity that incorporates phylogenetic relationships between the features)\n",
    "    * weighted UniFrac distance (a quantitative measure of community dissimilarity that incorporates phylogenetic relationships between the features)\n",
    "\n",
    "An important parameter that needs to be provided to this script is `sampling_depth`, which is the even sampling (i.e. rarefaction) depth. Because most diversity metrics are sensitive to different sampling depths across different samples, this script will randomly subsample the counts from each sample to the value provided for this parameter. For example, if you provide `sampling_depth = 500`, this step will subsample the counts in each sample without replacement so that each sample in the resulting table has a total count of 500. If the total count for any sample(s) are smaller than this value, those samples will be dropped from the diversity analysis. Choosing this value is tricky. We recommend making your choice reviewing the information presented in the table that was created above. Choose a value that is as high as possible (so you retain more sequences per sample) while excluding as few samples as possible. \n",
    "> Question 5: View the above mentioned QIIME 2 artifact containing table, and in particular the _Interactive Sample Detail_ tab in that visualization. What value would you choose to pass for  `sampling_depth`? How many samples will be excluded from your analysis based on this choice? How many total sequences will you be analyzing in the  `core_metrics_phylogenetic ` pipeline?"
   ]
  },
  {
   "cell_type": "code",
   "execution_count": 28,
   "metadata": {},
   "outputs": [
    {
     "name": "stderr",
     "output_type": "stream",
     "text": [
      "/opt/conda/envs/jupyterhub/lib/python3.8/site-packages/sklearn/metrics/pairwise.py:1776: DataConversionWarning: Data was converted to boolean for metric jaccard\n",
      "  warnings.warn(msg, DataConversionWarning)\n",
      "/opt/conda/envs/jupyterhub/lib/python3.8/site-packages/skbio/stats/ordination/_principal_coordinate_analysis.py:143: RuntimeWarning: The result contains negative eigenvalues. Please compare their magnitude with the magnitude of some of the largest positive eigenvalues. If the negative ones are smaller, it's probably safe to ignore them, but if they are large in magnitude, the results won't be useful. See the Notes section for more details. The smallest eigenvalue is -0.006471883110987708 and the largest is 3.5997131521135524.\n",
      "  warn(\n"
     ]
    },
    {
     "name": "stdout",
     "output_type": "stream",
     "text": [
      "Running external command line application. This may print messages to stdout and/or stderr.\n",
      "The command being run is below. This command cannot be manually re-run as it will depend on temporary files that no longer exist.\n",
      "\n",
      "Command:\n",
      "\n",
      "faithpd -i /tmp/qiime2-archive-ptlmd5uh/f46549b2-4717-4673-837e-f9a48d6d8d19/data/feature-table.biom -t /tmp/qiime2-archive-4feh4ejy/143ead70-6e1d-402b-b41f-4edda97e31c6/data/tree.nwk -o /tmp/q2-AlphaDiversityFormat-e8t_73eh\n",
      "\n",
      "Running external command line application. This may print messages to stdout and/or stderr.\n",
      "The command being run is below. This command cannot be manually re-run as it will depend on temporary files that no longer exist.\n",
      "\n",
      "Command:\n",
      "\n",
      "ssu -i /tmp/qiime2-archive-ptlmd5uh/f46549b2-4717-4673-837e-f9a48d6d8d19/data/feature-table.biom -t /tmp/qiime2-archive-4feh4ejy/143ead70-6e1d-402b-b41f-4edda97e31c6/data/tree.nwk -m unweighted -o /tmp/q2-LSMatFormat-7tdmbeq1\n",
      "\n",
      "Running external command line application. This may print messages to stdout and/or stderr.\n",
      "The command being run is below. This command cannot be manually re-run as it will depend on temporary files that no longer exist.\n",
      "\n",
      "Command:\n",
      "\n",
      "ssu -i /tmp/qiime2-archive-ptlmd5uh/f46549b2-4717-4673-837e-f9a48d6d8d19/data/feature-table.biom -t /tmp/qiime2-archive-4feh4ejy/143ead70-6e1d-402b-b41f-4edda97e31c6/data/tree.nwk -m weighted_unnormalized -o /tmp/q2-LSMatFormat-3_wbkxr7\n",
      "\n"
     ]
    },
    {
     "name": "stderr",
     "output_type": "stream",
     "text": [
      "/opt/conda/envs/jupyterhub/lib/python3.8/site-packages/skbio/stats/ordination/_principal_coordinate_analysis.py:143: RuntimeWarning: The result contains negative eigenvalues. Please compare their magnitude with the magnitude of some of the largest positive eigenvalues. If the negative ones are smaller, it's probably safe to ignore them, but if they are large in magnitude, the results won't be useful. See the Notes section for more details. The smallest eigenvalue is -0.006909362370942637 and the largest is 2.6985263904952848.\n",
      "  warn(\n",
      "/opt/conda/envs/jupyterhub/lib/python3.8/site-packages/skbio/stats/ordination/_principal_coordinate_analysis.py:143: RuntimeWarning: The result contains negative eigenvalues. Please compare their magnitude with the magnitude of some of the largest positive eigenvalues. If the negative ones are smaller, it's probably safe to ignore them, but if they are large in magnitude, the results won't be useful. See the Notes section for more details. The smallest eigenvalue is -0.01589164875382962 and the largest is 1.9699610204518365.\n",
      "  warn(\n"
     ]
    }
   ],
   "source": [
    "core_metrics = diversity.pipelines.core_metrics_phylogenetic(table = denoised_sequences.table,\n",
    "                                                             phylogeny = rooted_tree.rooted_tree,\n",
    "                                                             sampling_depth = 1103,\n",
    "                                                             metadata = sample_metadata)"
   ]
  },
  {
   "cell_type": "markdown",
   "metadata": {},
   "source": [
    "Here we set the `sampling_depth` parameter to 1103. This value was chosen based on the number of sequences in the `L3S313` sample because it’s close to the number of sequences in the next few samples that have higher sequence counts, and because it is considerably higher (relatively) than the number of sequences in the samples that have fewer sequences. This will allow us to retain most of our samples. The three samples that have fewer sequences will be dropped from the `core_metrics_phylogenetic` analyses and anything that uses these results. It is worth noting that all three of these samples are “right palm” samples. Losing a disproportionate number of samples from one metadata category is not ideal. However, we are dropping a small enough number of samples here that this felt like the best compromise between total sequences analyzed and number of samples retained.\n",
    "\n",
    "\n",
    "### alpha group significance\n",
    "\n",
    "After computing diversity metrics, we can begin to explore the microbial composition of the samples in the context of the sample metadata. This information is present in the sample metadata file that was downloaded earlier.\n",
    "\n",
    "We’ll first test for associations between categorical metadata columns and alpha diversity data. We’ll do that here for the Faith Phylogenetic Diversity (a measure of community richness) and evenness metrics."
   ]
  },
  {
   "cell_type": "code",
   "execution_count": 29,
   "metadata": {},
   "outputs": [],
   "source": [
    "faith_pd_group_significance = diversity.actions.alpha_group_significance(core_metrics.faith_pd_vector,\n",
    "                                                                         sample_metadata)"
   ]
  },
  {
   "cell_type": "code",
   "execution_count": 30,
   "metadata": {},
   "outputs": [],
   "source": [
    "evenness_group_significance = diversity.actions.alpha_group_significance(core_metrics.evenness_vector,\n",
    "                                                                         sample_metadata)\n"
   ]
  },
  {
   "cell_type": "markdown",
   "metadata": {},
   "source": [
    "Visualize group significance results"
   ]
  },
  {
   "cell_type": "code",
   "execution_count": 31,
   "metadata": {},
   "outputs": [
    {
     "data": {
      "text/html": [
       "<div><img onload=\"(function(div, url){\n",
       "if (typeof require !== 'undefined') {\n",
       "    var baseURL = require.toUrl('').split('/').slice(0, -2).join('/');\n",
       "} else {\n",
       "    var baseURL = JSON.parse(\n",
       "        document.getElementById('jupyter-config-data').innerHTML\n",
       "    ).baseUrl.slice(0, -1);\n",
       "}\n",
       "url = baseURL + url;\n",
       "fetch(url).then(function(res) {\n",
       "    if (res.status === 404) {\n",
       "        div.innerHTML = 'Install QIIME 2 Jupyter extension with:<br />' +\n",
       "                        '<code>jupyter serverextension enable --py qiime2' +\n",
       "                        ' --sys-prefix</code><br />then restart your server.' +\n",
       "                        '<br /><br />(Interactive output not available on ' +\n",
       "                        'static notebook viewer services like nbviewer.)';\n",
       "    } else if (res.status === 409) {\n",
       "        div.innerHTML = 'Visualization no longer in scope. Re-run this cell' +\n",
       "                        ' to see the visualization.';\n",
       "    } else if (res.ok) {\n",
       "        url = res.url;\n",
       "        div.innerHTML = '<iframe src=\\'' + url + '\\' style=\\'' +\n",
       "                        'width: 100%; height: 700px; border: 0;\\'>' +\n",
       "                        '</iframe><hr />Open in a: <a href=\\'' + url + '\\'' +\n",
       "                        ' target=\\'_blank\\'>new window</a>'\n",
       "    } else {\n",
       "        div.innerHTML = 'Something has gone wrong. Check notebook server for' +\n",
       "                        ' errors.';\n",
       "    }\n",
       "});\n",
       "})(this.parentElement, '/qiime2/redirect?location=/tmp/qiime2-archive-wk4re0fi')\" src=\"data:image/gif;base64,R0lGODlhAQABAIAAAP///wAAACH5BAEAAAAALAAAAAABAAEAAAICRAEAOw==\" /></div>"
      ],
      "text/plain": [
       "<visualization: Visualization uuid: fc27a378-5096-47ad-b5e5-50450a907996>"
      ]
     },
     "execution_count": 31,
     "metadata": {},
     "output_type": "execute_result"
    }
   ],
   "source": [
    "faith_pd_group_significance.visualization"
   ]
  },
  {
   "cell_type": "code",
   "execution_count": 32,
   "metadata": {},
   "outputs": [
    {
     "data": {
      "text/html": [
       "<div><img onload=\"(function(div, url){\n",
       "if (typeof require !== 'undefined') {\n",
       "    var baseURL = require.toUrl('').split('/').slice(0, -2).join('/');\n",
       "} else {\n",
       "    var baseURL = JSON.parse(\n",
       "        document.getElementById('jupyter-config-data').innerHTML\n",
       "    ).baseUrl.slice(0, -1);\n",
       "}\n",
       "url = baseURL + url;\n",
       "fetch(url).then(function(res) {\n",
       "    if (res.status === 404) {\n",
       "        div.innerHTML = 'Install QIIME 2 Jupyter extension with:<br />' +\n",
       "                        '<code>jupyter serverextension enable --py qiime2' +\n",
       "                        ' --sys-prefix</code><br />then restart your server.' +\n",
       "                        '<br /><br />(Interactive output not available on ' +\n",
       "                        'static notebook viewer services like nbviewer.)';\n",
       "    } else if (res.status === 409) {\n",
       "        div.innerHTML = 'Visualization no longer in scope. Re-run this cell' +\n",
       "                        ' to see the visualization.';\n",
       "    } else if (res.ok) {\n",
       "        url = res.url;\n",
       "        div.innerHTML = '<iframe src=\\'' + url + '\\' style=\\'' +\n",
       "                        'width: 100%; height: 700px; border: 0;\\'>' +\n",
       "                        '</iframe><hr />Open in a: <a href=\\'' + url + '\\'' +\n",
       "                        ' target=\\'_blank\\'>new window</a>'\n",
       "    } else {\n",
       "        div.innerHTML = 'Something has gone wrong. Check notebook server for' +\n",
       "                        ' errors.';\n",
       "    }\n",
       "});\n",
       "})(this.parentElement, '/qiime2/redirect?location=/tmp/qiime2-archive-fp9k7y0a')\" src=\"data:image/gif;base64,R0lGODlhAQABAIAAAP///wAAACH5BAEAAAAALAAAAAABAAEAAAICRAEAOw==\" /></div>"
      ],
      "text/plain": [
       "<visualization: Visualization uuid: f1c1306f-94be-420d-a8c8-eca05ab0ce8c>"
      ]
     },
     "execution_count": 32,
     "metadata": {},
     "output_type": "execute_result"
    }
   ],
   "source": [
    "evenness_group_significance.visualization"
   ]
  },
  {
   "cell_type": "markdown",
   "metadata": {},
   "source": [
    "\n",
    "> Question 6: Which categorical sample metadata columns are most strongly associated with the differences in microbial community richness? Are these differences statistically significant? \n",
    "\n",
    "> Question 7: Which categorical sample metadata columns are most strongly associated with the differences in microbial community evenness? Are these differences statistically significant? \n",
    "### beta group significance\n",
    "\n",
    "In this data set, no continuous sample metadata columns (e.g., `days-since-experiment-start`) are correlated with alpha diversity, so we won’t test for those associations here. If you’re interested in performing those tests (for this data set, or for others), you can use the `diversity.visualizers.alpha_correlation` command.\n",
    "\n",
    "Next we’ll analyze sample composition in the context of categorical metadata using PERMANOVA (first described in [Anderson (2001)](https://onlinelibrary.wiley.com/doi/full/10.1111/j.1442-9993.2001.01070.pp.x)) using the `diversity.actions.beta_group_significance` method. The following commands will test whether distances between samples within a group, such as samples from the same body site (e.g., gut), are more similar to each other then they are to samples from the other groups (e.g., tongue, left palm, and right palm). It will also perform pairwise tests that will allow you to determine which specific pairs of groups (e.g., tongue and gut) differ from one another, if any. This command can be slow to run, especially when running pairwise analysis, since it is based on permutation tests. So, unlike the previous commands, we’ll run this on specific columns of metadata that we’re interested in exploring, rather than all metadata columns that it’s applicable to. Here we’ll apply this to our unweighted UniFrac distances, using two sample metadata columns, as follows."
   ]
  },
  {
   "cell_type": "code",
   "execution_count": 33,
   "metadata": {},
   "outputs": [
    {
     "data": {
      "text/plain": [
       "<Figure size 432x288 with 0 Axes>"
      ]
     },
     "metadata": {},
     "output_type": "display_data"
    }
   ],
   "source": [
    "uUniFrac_BodySite_significance = diversity.actions.beta_group_significance(core_metrics.unweighted_unifrac_distance_matrix,\n",
    "                                                                           sample_metadata.get_column('body-site'))"
   ]
  },
  {
   "cell_type": "code",
   "execution_count": 34,
   "metadata": {},
   "outputs": [
    {
     "data": {
      "text/plain": [
       "<Figure size 432x288 with 0 Axes>"
      ]
     },
     "metadata": {},
     "output_type": "display_data"
    }
   ],
   "source": [
    "uUniFrac_Subject_significance = diversity.actions.beta_group_significance(core_metrics.unweighted_unifrac_distance_matrix,\n",
    "                                                                          sample_metadata.get_column('subject'))"
   ]
  },
  {
   "cell_type": "code",
   "execution_count": 35,
   "metadata": {},
   "outputs": [
    {
     "data": {
      "text/html": [
       "<div><img onload=\"(function(div, url){\n",
       "if (typeof require !== 'undefined') {\n",
       "    var baseURL = require.toUrl('').split('/').slice(0, -2).join('/');\n",
       "} else {\n",
       "    var baseURL = JSON.parse(\n",
       "        document.getElementById('jupyter-config-data').innerHTML\n",
       "    ).baseUrl.slice(0, -1);\n",
       "}\n",
       "url = baseURL + url;\n",
       "fetch(url).then(function(res) {\n",
       "    if (res.status === 404) {\n",
       "        div.innerHTML = 'Install QIIME 2 Jupyter extension with:<br />' +\n",
       "                        '<code>jupyter serverextension enable --py qiime2' +\n",
       "                        ' --sys-prefix</code><br />then restart your server.' +\n",
       "                        '<br /><br />(Interactive output not available on ' +\n",
       "                        'static notebook viewer services like nbviewer.)';\n",
       "    } else if (res.status === 409) {\n",
       "        div.innerHTML = 'Visualization no longer in scope. Re-run this cell' +\n",
       "                        ' to see the visualization.';\n",
       "    } else if (res.ok) {\n",
       "        url = res.url;\n",
       "        div.innerHTML = '<iframe src=\\'' + url + '\\' style=\\'' +\n",
       "                        'width: 100%; height: 700px; border: 0;\\'>' +\n",
       "                        '</iframe><hr />Open in a: <a href=\\'' + url + '\\'' +\n",
       "                        ' target=\\'_blank\\'>new window</a>'\n",
       "    } else {\n",
       "        div.innerHTML = 'Something has gone wrong. Check notebook server for' +\n",
       "                        ' errors.';\n",
       "    }\n",
       "});\n",
       "})(this.parentElement, '/qiime2/redirect?location=/tmp/qiime2-archive-rxcesjwb')\" src=\"data:image/gif;base64,R0lGODlhAQABAIAAAP///wAAACH5BAEAAAAALAAAAAABAAEAAAICRAEAOw==\" /></div>"
      ],
      "text/plain": [
       "<visualization: Visualization uuid: 9a0ec17b-1096-4c9a-914c-162fc8b93828>"
      ]
     },
     "execution_count": 35,
     "metadata": {},
     "output_type": "execute_result"
    }
   ],
   "source": [
    "uUniFrac_BodySite_significance.visualization"
   ]
  },
  {
   "cell_type": "code",
   "execution_count": 36,
   "metadata": {},
   "outputs": [
    {
     "data": {
      "text/html": [
       "<div><img onload=\"(function(div, url){\n",
       "if (typeof require !== 'undefined') {\n",
       "    var baseURL = require.toUrl('').split('/').slice(0, -2).join('/');\n",
       "} else {\n",
       "    var baseURL = JSON.parse(\n",
       "        document.getElementById('jupyter-config-data').innerHTML\n",
       "    ).baseUrl.slice(0, -1);\n",
       "}\n",
       "url = baseURL + url;\n",
       "fetch(url).then(function(res) {\n",
       "    if (res.status === 404) {\n",
       "        div.innerHTML = 'Install QIIME 2 Jupyter extension with:<br />' +\n",
       "                        '<code>jupyter serverextension enable --py qiime2' +\n",
       "                        ' --sys-prefix</code><br />then restart your server.' +\n",
       "                        '<br /><br />(Interactive output not available on ' +\n",
       "                        'static notebook viewer services like nbviewer.)';\n",
       "    } else if (res.status === 409) {\n",
       "        div.innerHTML = 'Visualization no longer in scope. Re-run this cell' +\n",
       "                        ' to see the visualization.';\n",
       "    } else if (res.ok) {\n",
       "        url = res.url;\n",
       "        div.innerHTML = '<iframe src=\\'' + url + '\\' style=\\'' +\n",
       "                        'width: 100%; height: 700px; border: 0;\\'>' +\n",
       "                        '</iframe><hr />Open in a: <a href=\\'' + url + '\\'' +\n",
       "                        ' target=\\'_blank\\'>new window</a>'\n",
       "    } else {\n",
       "        div.innerHTML = 'Something has gone wrong. Check notebook server for' +\n",
       "                        ' errors.';\n",
       "    }\n",
       "});\n",
       "})(this.parentElement, '/qiime2/redirect?location=/tmp/qiime2-archive-_n03_a5z')\" src=\"data:image/gif;base64,R0lGODlhAQABAIAAAP///wAAACH5BAEAAAAALAAAAAABAAEAAAICRAEAOw==\" /></div>"
      ],
      "text/plain": [
       "<visualization: Visualization uuid: 13bafae7-b2e2-4f07-a084-e6595a45a08f>"
      ]
     },
     "execution_count": 36,
     "metadata": {},
     "output_type": "execute_result"
    }
   ],
   "source": [
    "uUniFrac_Subject_significance.visualization"
   ]
  },
  {
   "cell_type": "markdown",
   "metadata": {},
   "source": [
    "> Question 8: Are the associations between subjects and differences in microbial composition statistically significant? How about body sites? What specific pairs of body sites are significantly different from each other?  \n",
    "\n",
    "Again, none of the continuous sample metadata that we have for this data set are correlated with sample composition, so we won’t test for those associations here. If you’re interested in performing those tests, you can use the `metadata.visualizers.distance_matrix` in combination with `diversity.visualizers.mantel` and `diversity.visualizers.bioenv` commands.\n",
    "\n",
    "Finally, ordination is a popular approach for exploring microbial community composition in the context of sample metadata. We can use the [Emperor](http://biocore.github.io/emperor/) tool to explore principal coordinates (PCoA) plots in the context of sample metadata. While our `diversity.pipelines.core_metrics_phylogenetic` command did already generate some Emperor plots, we want to pass an optional parameter, `custom_axes`, which is very useful for exploring time series data. The PCoA results that were used in `core-metrics-phylogeny` are also available, making it easy to generate new visualizations with Emperor. We will generate Emperor plots for unweighted UniFrac and Bray-Curtis so that the resulting plot will contain axes for principal coordinate 1, principal coordinate 2, and days since the experiment start. We will use that last axis to explore how these samples changed over time."
   ]
  },
  {
   "cell_type": "code",
   "execution_count": 37,
   "metadata": {
    "scrolled": true
   },
   "outputs": [
    {
     "data": {
      "text/html": [
       "<div><img onload=\"(function(div, url){\n",
       "if (typeof require !== 'undefined') {\n",
       "    var baseURL = require.toUrl('').split('/').slice(0, -2).join('/');\n",
       "} else {\n",
       "    var baseURL = JSON.parse(\n",
       "        document.getElementById('jupyter-config-data').innerHTML\n",
       "    ).baseUrl.slice(0, -1);\n",
       "}\n",
       "url = baseURL + url;\n",
       "fetch(url).then(function(res) {\n",
       "    if (res.status === 404) {\n",
       "        div.innerHTML = 'Install QIIME 2 Jupyter extension with:<br />' +\n",
       "                        '<code>jupyter serverextension enable --py qiime2' +\n",
       "                        ' --sys-prefix</code><br />then restart your server.' +\n",
       "                        '<br /><br />(Interactive output not available on ' +\n",
       "                        'static notebook viewer services like nbviewer.)';\n",
       "    } else if (res.status === 409) {\n",
       "        div.innerHTML = 'Visualization no longer in scope. Re-run this cell' +\n",
       "                        ' to see the visualization.';\n",
       "    } else if (res.ok) {\n",
       "        url = res.url;\n",
       "        div.innerHTML = '<iframe src=\\'' + url + '\\' style=\\'' +\n",
       "                        'width: 100%; height: 700px; border: 0;\\'>' +\n",
       "                        '</iframe><hr />Open in a: <a href=\\'' + url + '\\'' +\n",
       "                        ' target=\\'_blank\\'>new window</a>'\n",
       "    } else {\n",
       "        div.innerHTML = 'Something has gone wrong. Check notebook server for' +\n",
       "                        ' errors.';\n",
       "    }\n",
       "});\n",
       "})(this.parentElement, '/qiime2/redirect?location=/tmp/qiime2-archive-67l55va7')\" src=\"data:image/gif;base64,R0lGODlhAQABAIAAAP///wAAACH5BAEAAAAALAAAAAABAAEAAAICRAEAOw==\" /></div>"
      ],
      "text/plain": [
       "<visualization: Visualization uuid: 5ddeba6a-7a06-46d0-9e7e-8137bf4fc374>"
      ]
     },
     "execution_count": 37,
     "metadata": {},
     "output_type": "execute_result"
    }
   ],
   "source": [
    "emperor_plot_unifrac = emperor.visualizers.plot(core_metrics.unweighted_unifrac_pcoa_results,\n",
    "                                                sample_metadata,\n",
    "                                                custom_axes=['days-since-experiment-start'])\n",
    "emperor_plot_unifrac.visualization"
   ]
  },
  {
   "cell_type": "code",
   "execution_count": 38,
   "metadata": {},
   "outputs": [
    {
     "data": {
      "text/html": [
       "<div><img onload=\"(function(div, url){\n",
       "if (typeof require !== 'undefined') {\n",
       "    var baseURL = require.toUrl('').split('/').slice(0, -2).join('/');\n",
       "} else {\n",
       "    var baseURL = JSON.parse(\n",
       "        document.getElementById('jupyter-config-data').innerHTML\n",
       "    ).baseUrl.slice(0, -1);\n",
       "}\n",
       "url = baseURL + url;\n",
       "fetch(url).then(function(res) {\n",
       "    if (res.status === 404) {\n",
       "        div.innerHTML = 'Install QIIME 2 Jupyter extension with:<br />' +\n",
       "                        '<code>jupyter serverextension enable --py qiime2' +\n",
       "                        ' --sys-prefix</code><br />then restart your server.' +\n",
       "                        '<br /><br />(Interactive output not available on ' +\n",
       "                        'static notebook viewer services like nbviewer.)';\n",
       "    } else if (res.status === 409) {\n",
       "        div.innerHTML = 'Visualization no longer in scope. Re-run this cell' +\n",
       "                        ' to see the visualization.';\n",
       "    } else if (res.ok) {\n",
       "        url = res.url;\n",
       "        div.innerHTML = '<iframe src=\\'' + url + '\\' style=\\'' +\n",
       "                        'width: 100%; height: 700px; border: 0;\\'>' +\n",
       "                        '</iframe><hr />Open in a: <a href=\\'' + url + '\\'' +\n",
       "                        ' target=\\'_blank\\'>new window</a>'\n",
       "    } else {\n",
       "        div.innerHTML = 'Something has gone wrong. Check notebook server for' +\n",
       "                        ' errors.';\n",
       "    }\n",
       "});\n",
       "})(this.parentElement, '/qiime2/redirect?location=/tmp/qiime2-archive-gdf_okf4')\" src=\"data:image/gif;base64,R0lGODlhAQABAIAAAP///wAAACH5BAEAAAAALAAAAAABAAEAAAICRAEAOw==\" /></div>"
      ],
      "text/plain": [
       "<visualization: Visualization uuid: ed8c7567-87ff-4947-973a-ff12157fb514>"
      ]
     },
     "execution_count": 38,
     "metadata": {},
     "output_type": "execute_result"
    }
   ],
   "source": [
    "emperor_plot_bc = emperor.visualizers.plot(core_metrics.bray_curtis_pcoa_results,\n",
    "                                           sample_metadata,\n",
    "                                           custom_axes=['days-since-experiment-start'])\n",
    "emperor_plot_bc.visualization"
   ]
  },
  {
   "cell_type": "markdown",
   "metadata": {},
   "source": [
    "> Question 9: What differences do you observe between the unweighted UniFrac and Bray-Curtis PCoA plots? \n",
    "\n",
    "## Alpha rarefaction plotting\n",
    "\n",
    "In this section we’ll explore alpha diversity as a function of sampling depth using the `diversity.actions.alpha_rarefaction` visualizer. This visualizer computes one or more alpha diversity metrics at multiple sampling depths, in steps between 1 (optionally controlled with `min_depth` and the value provided as `max_depth`. At each sampling depth step, 10 rarefied tables will be generated, and the diversity metrics will be computed for all samples in the tables. The number of iterations (rarefied tables computed at each sampling depth) can be controlled with `iterations`. Average diversity values will be plotted for each sample at each even sampling depth, and samples can be grouped based on metadata in the resulting visualization if sample metadata is provided with the `metadata` parameter."
   ]
  },
  {
   "cell_type": "code",
   "execution_count": 39,
   "metadata": {},
   "outputs": [
    {
     "name": "stdout",
     "output_type": "stream",
     "text": [
      "Running external command line application. This may print messages to stdout and/or stderr.\n",
      "The command being run is below. This command cannot be manually re-run as it will depend on temporary files that no longer exist.\n",
      "\n",
      "Command:\n",
      "\n",
      "faithpd -i /tmp/qiime2-archive-uci5nkjn/abe3d76a-51d3-452a-a014-bf73a2e7bbb9/data/feature-table.biom -t /tmp/qiime2-archive-ylnc52uh/a7b4483f-52f8-40c3-b108-97351838bbac/data/tree.nwk -o /tmp/q2-AlphaDiversityFormat-e2fz_z83\n",
      "\n",
      "Running external command line application. This may print messages to stdout and/or stderr.\n",
      "The command being run is below. This command cannot be manually re-run as it will depend on temporary files that no longer exist.\n",
      "\n",
      "Command:\n",
      "\n",
      "faithpd -i /tmp/qiime2-archive-gjusnjfu/a8e4bd58-de6f-4c10-97c1-e1b118b23b39/data/feature-table.biom -t /tmp/qiime2-archive-ylnc52uh/a7b4483f-52f8-40c3-b108-97351838bbac/data/tree.nwk -o /tmp/q2-AlphaDiversityFormat-ndjvusdf\n",
      "\n",
      "Running external command line application. This may print messages to stdout and/or stderr.\n",
      "The command being run is below. This command cannot be manually re-run as it will depend on temporary files that no longer exist.\n",
      "\n",
      "Command:\n",
      "\n",
      "faithpd -i /tmp/qiime2-archive-nh4xh723/5a427cdf-9be1-47b2-8d31-89118519b9e0/data/feature-table.biom -t /tmp/qiime2-archive-ylnc52uh/a7b4483f-52f8-40c3-b108-97351838bbac/data/tree.nwk -o /tmp/q2-AlphaDiversityFormat-2i7_mvzi\n",
      "\n",
      "Running external command line application. This may print messages to stdout and/or stderr.\n",
      "The command being run is below. This command cannot be manually re-run as it will depend on temporary files that no longer exist.\n",
      "\n",
      "Command:\n",
      "\n",
      "faithpd -i /tmp/qiime2-archive-yk4i2svt/be7f29ab-9487-4783-ae03-35d264796363/data/feature-table.biom -t /tmp/qiime2-archive-ylnc52uh/a7b4483f-52f8-40c3-b108-97351838bbac/data/tree.nwk -o /tmp/q2-AlphaDiversityFormat-4uedcrnn\n",
      "\n",
      "Running external command line application. This may print messages to stdout and/or stderr.\n",
      "The command being run is below. This command cannot be manually re-run as it will depend on temporary files that no longer exist.\n",
      "\n",
      "Command:\n",
      "\n",
      "faithpd -i /tmp/qiime2-archive-e_lhi_z1/189518af-2d10-41c1-a9ab-e47e16354e54/data/feature-table.biom -t /tmp/qiime2-archive-ylnc52uh/a7b4483f-52f8-40c3-b108-97351838bbac/data/tree.nwk -o /tmp/q2-AlphaDiversityFormat-cqq14a7g\n",
      "\n",
      "Running external command line application. This may print messages to stdout and/or stderr.\n",
      "The command being run is below. This command cannot be manually re-run as it will depend on temporary files that no longer exist.\n",
      "\n",
      "Command:\n",
      "\n",
      "faithpd -i /tmp/qiime2-archive-ywmbpcfo/8010378e-bdbc-4f59-b788-8d65f6452383/data/feature-table.biom -t /tmp/qiime2-archive-ylnc52uh/a7b4483f-52f8-40c3-b108-97351838bbac/data/tree.nwk -o /tmp/q2-AlphaDiversityFormat-sp2rtl6t\n",
      "\n",
      "Running external command line application. This may print messages to stdout and/or stderr.\n",
      "The command being run is below. This command cannot be manually re-run as it will depend on temporary files that no longer exist.\n",
      "\n",
      "Command:\n",
      "\n",
      "faithpd -i /tmp/qiime2-archive-8wy1udf3/78eaf579-59cb-4e40-8ec0-e54c85a75ead/data/feature-table.biom -t /tmp/qiime2-archive-ylnc52uh/a7b4483f-52f8-40c3-b108-97351838bbac/data/tree.nwk -o /tmp/q2-AlphaDiversityFormat-e5rdz9j8\n",
      "\n",
      "Running external command line application. This may print messages to stdout and/or stderr.\n",
      "The command being run is below. This command cannot be manually re-run as it will depend on temporary files that no longer exist.\n",
      "\n",
      "Command:\n",
      "\n",
      "faithpd -i /tmp/qiime2-archive-c8d1pe1z/1e9d722a-43c3-45e7-9ddf-beff171675cc/data/feature-table.biom -t /tmp/qiime2-archive-ylnc52uh/a7b4483f-52f8-40c3-b108-97351838bbac/data/tree.nwk -o /tmp/q2-AlphaDiversityFormat-dqstr56w\n",
      "\n",
      "Running external command line application. This may print messages to stdout and/or stderr.\n",
      "The command being run is below. This command cannot be manually re-run as it will depend on temporary files that no longer exist.\n",
      "\n",
      "Command:\n",
      "\n",
      "faithpd -i /tmp/qiime2-archive-0a0mi5y7/69357c95-35c3-42b9-b1cf-2848bbd33470/data/feature-table.biom -t /tmp/qiime2-archive-ylnc52uh/a7b4483f-52f8-40c3-b108-97351838bbac/data/tree.nwk -o /tmp/q2-AlphaDiversityFormat-vku50bg2\n",
      "\n",
      "Running external command line application. This may print messages to stdout and/or stderr.\n",
      "The command being run is below. This command cannot be manually re-run as it will depend on temporary files that no longer exist.\n",
      "\n",
      "Command:\n",
      "\n",
      "faithpd -i /tmp/qiime2-archive-03bve11j/ce447460-3e1e-49e9-98ed-60a38bf9030a/data/feature-table.biom -t /tmp/qiime2-archive-ylnc52uh/a7b4483f-52f8-40c3-b108-97351838bbac/data/tree.nwk -o /tmp/q2-AlphaDiversityFormat-hjjamhe1\n",
      "\n",
      "Running external command line application. This may print messages to stdout and/or stderr.\n",
      "The command being run is below. This command cannot be manually re-run as it will depend on temporary files that no longer exist.\n",
      "\n",
      "Command:\n",
      "\n",
      "faithpd -i /tmp/qiime2-archive-0xwn2grb/f0877a06-f65a-4147-958f-95b3bd5c638c/data/feature-table.biom -t /tmp/qiime2-archive-ylnc52uh/a7b4483f-52f8-40c3-b108-97351838bbac/data/tree.nwk -o /tmp/q2-AlphaDiversityFormat-0pxh7z_r\n",
      "\n",
      "Running external command line application. This may print messages to stdout and/or stderr.\n",
      "The command being run is below. This command cannot be manually re-run as it will depend on temporary files that no longer exist.\n",
      "\n",
      "Command:\n",
      "\n",
      "faithpd -i /tmp/qiime2-archive-rxcc2qs4/e11c27ce-3c99-498a-9ccd-50e7184d5cd8/data/feature-table.biom -t /tmp/qiime2-archive-ylnc52uh/a7b4483f-52f8-40c3-b108-97351838bbac/data/tree.nwk -o /tmp/q2-AlphaDiversityFormat-sizwwrx6\n",
      "\n",
      "Running external command line application. This may print messages to stdout and/or stderr.\n",
      "The command being run is below. This command cannot be manually re-run as it will depend on temporary files that no longer exist.\n",
      "\n",
      "Command:\n",
      "\n",
      "faithpd -i /tmp/qiime2-archive-spctphdj/a85a909a-7338-47af-a646-9059acfabda6/data/feature-table.biom -t /tmp/qiime2-archive-ylnc52uh/a7b4483f-52f8-40c3-b108-97351838bbac/data/tree.nwk -o /tmp/q2-AlphaDiversityFormat-dolrcek5\n",
      "\n",
      "Running external command line application. This may print messages to stdout and/or stderr.\n",
      "The command being run is below. This command cannot be manually re-run as it will depend on temporary files that no longer exist.\n",
      "\n",
      "Command:\n",
      "\n",
      "faithpd -i /tmp/qiime2-archive-v7sj1af4/39623a08-eadc-4c95-8625-957d1e9440e3/data/feature-table.biom -t /tmp/qiime2-archive-ylnc52uh/a7b4483f-52f8-40c3-b108-97351838bbac/data/tree.nwk -o /tmp/q2-AlphaDiversityFormat-zr199sh5\n",
      "\n",
      "Running external command line application. This may print messages to stdout and/or stderr.\n",
      "The command being run is below. This command cannot be manually re-run as it will depend on temporary files that no longer exist.\n",
      "\n",
      "Command:\n",
      "\n",
      "faithpd -i /tmp/qiime2-archive-nilwz3f5/5e75db5f-37d5-4ab4-bcf9-6f3a89b54241/data/feature-table.biom -t /tmp/qiime2-archive-ylnc52uh/a7b4483f-52f8-40c3-b108-97351838bbac/data/tree.nwk -o /tmp/q2-AlphaDiversityFormat-983znjz6\n",
      "\n",
      "Running external command line application. This may print messages to stdout and/or stderr.\n",
      "The command being run is below. This command cannot be manually re-run as it will depend on temporary files that no longer exist.\n",
      "\n",
      "Command:\n",
      "\n",
      "faithpd -i /tmp/qiime2-archive-ja25fzeo/32d969a9-258d-4bd2-a07a-efcbb5f45b63/data/feature-table.biom -t /tmp/qiime2-archive-ylnc52uh/a7b4483f-52f8-40c3-b108-97351838bbac/data/tree.nwk -o /tmp/q2-AlphaDiversityFormat-4mcp2ydm\n",
      "\n",
      "Running external command line application. This may print messages to stdout and/or stderr.\n",
      "The command being run is below. This command cannot be manually re-run as it will depend on temporary files that no longer exist.\n",
      "\n",
      "Command:\n",
      "\n",
      "faithpd -i /tmp/qiime2-archive-2zmdwnsi/dc6cc4ba-3b01-467c-b8b6-f706212be1e0/data/feature-table.biom -t /tmp/qiime2-archive-ylnc52uh/a7b4483f-52f8-40c3-b108-97351838bbac/data/tree.nwk -o /tmp/q2-AlphaDiversityFormat-3mfsv_zu\n",
      "\n",
      "Running external command line application. This may print messages to stdout and/or stderr.\n",
      "The command being run is below. This command cannot be manually re-run as it will depend on temporary files that no longer exist.\n",
      "\n",
      "Command:\n",
      "\n",
      "faithpd -i /tmp/qiime2-archive-v9u9la4c/b916a1ca-8a8b-4a14-ad15-738799495b8f/data/feature-table.biom -t /tmp/qiime2-archive-ylnc52uh/a7b4483f-52f8-40c3-b108-97351838bbac/data/tree.nwk -o /tmp/q2-AlphaDiversityFormat-1e1hd6_y\n",
      "\n"
     ]
    },
    {
     "name": "stdout",
     "output_type": "stream",
     "text": [
      "Running external command line application. This may print messages to stdout and/or stderr.\n",
      "The command being run is below. This command cannot be manually re-run as it will depend on temporary files that no longer exist.\n",
      "\n",
      "Command:\n",
      "\n",
      "faithpd -i /tmp/qiime2-archive-8p9ttum7/afd2d6b4-d2be-4e15-a7fa-e0a2b61fd15d/data/feature-table.biom -t /tmp/qiime2-archive-ylnc52uh/a7b4483f-52f8-40c3-b108-97351838bbac/data/tree.nwk -o /tmp/q2-AlphaDiversityFormat-o3akbspp\n",
      "\n",
      "Running external command line application. This may print messages to stdout and/or stderr.\n",
      "The command being run is below. This command cannot be manually re-run as it will depend on temporary files that no longer exist.\n",
      "\n",
      "Command:\n",
      "\n",
      "faithpd -i /tmp/qiime2-archive-budcp0yw/9aa9d1e0-fbad-4cb5-a88d-48dccc690f0d/data/feature-table.biom -t /tmp/qiime2-archive-ylnc52uh/a7b4483f-52f8-40c3-b108-97351838bbac/data/tree.nwk -o /tmp/q2-AlphaDiversityFormat-ncbnqms6\n",
      "\n",
      "Running external command line application. This may print messages to stdout and/or stderr.\n",
      "The command being run is below. This command cannot be manually re-run as it will depend on temporary files that no longer exist.\n",
      "\n",
      "Command:\n",
      "\n",
      "faithpd -i /tmp/qiime2-archive-db906w_3/68100b5f-b7b4-467b-ab85-f48b2c52cccf/data/feature-table.biom -t /tmp/qiime2-archive-ylnc52uh/a7b4483f-52f8-40c3-b108-97351838bbac/data/tree.nwk -o /tmp/q2-AlphaDiversityFormat-50ug_hoe\n",
      "\n",
      "Running external command line application. This may print messages to stdout and/or stderr.\n",
      "The command being run is below. This command cannot be manually re-run as it will depend on temporary files that no longer exist.\n",
      "\n",
      "Command:\n",
      "\n",
      "faithpd -i /tmp/qiime2-archive-b46ihwxw/f85d2d3b-4c53-428e-8b63-889426d03743/data/feature-table.biom -t /tmp/qiime2-archive-ylnc52uh/a7b4483f-52f8-40c3-b108-97351838bbac/data/tree.nwk -o /tmp/q2-AlphaDiversityFormat-s3d4jxx6\n",
      "\n",
      "Running external command line application. This may print messages to stdout and/or stderr.\n",
      "The command being run is below. This command cannot be manually re-run as it will depend on temporary files that no longer exist.\n",
      "\n",
      "Command:\n",
      "\n",
      "faithpd -i /tmp/qiime2-archive-zjfgmb8f/5970009f-fc53-4611-8ff1-e0ed597dedc4/data/feature-table.biom -t /tmp/qiime2-archive-ylnc52uh/a7b4483f-52f8-40c3-b108-97351838bbac/data/tree.nwk -o /tmp/q2-AlphaDiversityFormat-fxqd5r7f\n",
      "\n",
      "Running external command line application. This may print messages to stdout and/or stderr.\n",
      "The command being run is below. This command cannot be manually re-run as it will depend on temporary files that no longer exist.\n",
      "\n",
      "Command:\n",
      "\n",
      "faithpd -i /tmp/qiime2-archive-fh4dvhd3/7fa2d913-5a35-4f56-8f65-b2c9d04d153f/data/feature-table.biom -t /tmp/qiime2-archive-ylnc52uh/a7b4483f-52f8-40c3-b108-97351838bbac/data/tree.nwk -o /tmp/q2-AlphaDiversityFormat-dxav1ahu\n",
      "\n",
      "Running external command line application. This may print messages to stdout and/or stderr.\n",
      "The command being run is below. This command cannot be manually re-run as it will depend on temporary files that no longer exist.\n",
      "\n",
      "Command:\n",
      "\n",
      "faithpd -i /tmp/qiime2-archive-8cvavsi9/d280384d-d904-4bf9-9a88-328b730a4725/data/feature-table.biom -t /tmp/qiime2-archive-ylnc52uh/a7b4483f-52f8-40c3-b108-97351838bbac/data/tree.nwk -o /tmp/q2-AlphaDiversityFormat-nw7nt7vi\n",
      "\n",
      "Running external command line application. This may print messages to stdout and/or stderr.\n",
      "The command being run is below. This command cannot be manually re-run as it will depend on temporary files that no longer exist.\n",
      "\n",
      "Command:\n",
      "\n",
      "faithpd -i /tmp/qiime2-archive-7a9iskz9/5b2ac54d-56b3-42aa-9c4c-f1e83539b844/data/feature-table.biom -t /tmp/qiime2-archive-ylnc52uh/a7b4483f-52f8-40c3-b108-97351838bbac/data/tree.nwk -o /tmp/q2-AlphaDiversityFormat-p0z1omkf\n",
      "\n",
      "Running external command line application. This may print messages to stdout and/or stderr.\n",
      "The command being run is below. This command cannot be manually re-run as it will depend on temporary files that no longer exist.\n",
      "\n",
      "Command:\n",
      "\n",
      "faithpd -i /tmp/qiime2-archive-p19uwl9y/6384efdf-e355-4861-aadf-1a564e0cff8f/data/feature-table.biom -t /tmp/qiime2-archive-ylnc52uh/a7b4483f-52f8-40c3-b108-97351838bbac/data/tree.nwk -o /tmp/q2-AlphaDiversityFormat-fgpx206o\n",
      "\n",
      "Running external command line application. This may print messages to stdout and/or stderr.\n",
      "The command being run is below. This command cannot be manually re-run as it will depend on temporary files that no longer exist.\n",
      "\n",
      "Command:\n",
      "\n",
      "faithpd -i /tmp/qiime2-archive-2hpv8v8b/3b1b0362-f241-43ba-b492-27b693b5ffab/data/feature-table.biom -t /tmp/qiime2-archive-ylnc52uh/a7b4483f-52f8-40c3-b108-97351838bbac/data/tree.nwk -o /tmp/q2-AlphaDiversityFormat-bg6pe_am\n",
      "\n",
      "Running external command line application. This may print messages to stdout and/or stderr.\n",
      "The command being run is below. This command cannot be manually re-run as it will depend on temporary files that no longer exist.\n",
      "\n",
      "Command:\n",
      "\n",
      "faithpd -i /tmp/qiime2-archive-g_dvol37/b067c9dc-e548-4c2b-b0b2-50140eb3c01f/data/feature-table.biom -t /tmp/qiime2-archive-ylnc52uh/a7b4483f-52f8-40c3-b108-97351838bbac/data/tree.nwk -o /tmp/q2-AlphaDiversityFormat-5lm1t_ke\n",
      "\n",
      "Running external command line application. This may print messages to stdout and/or stderr.\n",
      "The command being run is below. This command cannot be manually re-run as it will depend on temporary files that no longer exist.\n",
      "\n",
      "Command:\n",
      "\n",
      "faithpd -i /tmp/qiime2-archive-equ569fu/9b01fe30-c4b8-41a6-b7ae-0e82c09fedd7/data/feature-table.biom -t /tmp/qiime2-archive-ylnc52uh/a7b4483f-52f8-40c3-b108-97351838bbac/data/tree.nwk -o /tmp/q2-AlphaDiversityFormat-c22b3as8\n",
      "\n",
      "Running external command line application. This may print messages to stdout and/or stderr.\n",
      "The command being run is below. This command cannot be manually re-run as it will depend on temporary files that no longer exist.\n",
      "\n",
      "Command:\n",
      "\n",
      "faithpd -i /tmp/qiime2-archive-n2k9okpg/ca35b0f3-1cdf-4b21-9ee0-56dacad67620/data/feature-table.biom -t /tmp/qiime2-archive-ylnc52uh/a7b4483f-52f8-40c3-b108-97351838bbac/data/tree.nwk -o /tmp/q2-AlphaDiversityFormat-8de0iwz_\n",
      "\n",
      "Running external command line application. This may print messages to stdout and/or stderr.\n",
      "The command being run is below. This command cannot be manually re-run as it will depend on temporary files that no longer exist.\n",
      "\n",
      "Command:\n",
      "\n",
      "faithpd -i /tmp/qiime2-archive-70m6vgrl/ff4e620b-b7b4-429a-8f7a-3f1171e7ea60/data/feature-table.biom -t /tmp/qiime2-archive-ylnc52uh/a7b4483f-52f8-40c3-b108-97351838bbac/data/tree.nwk -o /tmp/q2-AlphaDiversityFormat-arl13u6x\n",
      "\n",
      "Running external command line application. This may print messages to stdout and/or stderr.\n",
      "The command being run is below. This command cannot be manually re-run as it will depend on temporary files that no longer exist.\n",
      "\n",
      "Command:\n",
      "\n",
      "faithpd -i /tmp/qiime2-archive-xrcv5pzx/77e0a02d-49ae-43d1-89cb-8ca259bb62ce/data/feature-table.biom -t /tmp/qiime2-archive-ylnc52uh/a7b4483f-52f8-40c3-b108-97351838bbac/data/tree.nwk -o /tmp/q2-AlphaDiversityFormat-8g6w_ns2\n",
      "\n",
      "Running external command line application. This may print messages to stdout and/or stderr.\n",
      "The command being run is below. This command cannot be manually re-run as it will depend on temporary files that no longer exist.\n",
      "\n",
      "Command:\n",
      "\n",
      "faithpd -i /tmp/qiime2-archive-0f35p9ce/f1c6a5a1-a87b-4518-9abf-41ef599404c2/data/feature-table.biom -t /tmp/qiime2-archive-ylnc52uh/a7b4483f-52f8-40c3-b108-97351838bbac/data/tree.nwk -o /tmp/q2-AlphaDiversityFormat-wewhuu6h\n",
      "\n",
      "Running external command line application. This may print messages to stdout and/or stderr.\n",
      "The command being run is below. This command cannot be manually re-run as it will depend on temporary files that no longer exist.\n",
      "\n",
      "Command:\n",
      "\n",
      "faithpd -i /tmp/qiime2-archive-1o2_7lns/6092e403-448e-4ad0-8a6e-619afcd544fe/data/feature-table.biom -t /tmp/qiime2-archive-ylnc52uh/a7b4483f-52f8-40c3-b108-97351838bbac/data/tree.nwk -o /tmp/q2-AlphaDiversityFormat-ofrsolk7\n",
      "\n",
      "Running external command line application. This may print messages to stdout and/or stderr.\n",
      "The command being run is below. This command cannot be manually re-run as it will depend on temporary files that no longer exist.\n",
      "\n",
      "Command:\n",
      "\n",
      "faithpd -i /tmp/qiime2-archive-ds1vq8pi/92fe1015-b071-48b6-ab47-029d791346d7/data/feature-table.biom -t /tmp/qiime2-archive-ylnc52uh/a7b4483f-52f8-40c3-b108-97351838bbac/data/tree.nwk -o /tmp/q2-AlphaDiversityFormat-sh2ysvp3\n",
      "\n"
     ]
    },
    {
     "name": "stdout",
     "output_type": "stream",
     "text": [
      "Running external command line application. This may print messages to stdout and/or stderr.\n",
      "The command being run is below. This command cannot be manually re-run as it will depend on temporary files that no longer exist.\n",
      "\n",
      "Command:\n",
      "\n",
      "faithpd -i /tmp/qiime2-archive-scrd3ypt/1ba61610-e256-4d6d-9bae-bd7011577c47/data/feature-table.biom -t /tmp/qiime2-archive-ylnc52uh/a7b4483f-52f8-40c3-b108-97351838bbac/data/tree.nwk -o /tmp/q2-AlphaDiversityFormat-f6176ki1\n",
      "\n",
      "Running external command line application. This may print messages to stdout and/or stderr.\n",
      "The command being run is below. This command cannot be manually re-run as it will depend on temporary files that no longer exist.\n",
      "\n",
      "Command:\n",
      "\n",
      "faithpd -i /tmp/qiime2-archive-mk53j2au/e5974211-ffe8-445c-84ba-26d50009c3cc/data/feature-table.biom -t /tmp/qiime2-archive-ylnc52uh/a7b4483f-52f8-40c3-b108-97351838bbac/data/tree.nwk -o /tmp/q2-AlphaDiversityFormat-1kxxjae2\n",
      "\n",
      "Running external command line application. This may print messages to stdout and/or stderr.\n",
      "The command being run is below. This command cannot be manually re-run as it will depend on temporary files that no longer exist.\n",
      "\n",
      "Command:\n",
      "\n",
      "faithpd -i /tmp/qiime2-archive-dtk58mji/541890f7-d051-434c-9ca2-6bed328e3d90/data/feature-table.biom -t /tmp/qiime2-archive-ylnc52uh/a7b4483f-52f8-40c3-b108-97351838bbac/data/tree.nwk -o /tmp/q2-AlphaDiversityFormat-3gdr3jxy\n",
      "\n",
      "Running external command line application. This may print messages to stdout and/or stderr.\n",
      "The command being run is below. This command cannot be manually re-run as it will depend on temporary files that no longer exist.\n",
      "\n",
      "Command:\n",
      "\n",
      "faithpd -i /tmp/qiime2-archive-3a3zlysj/bbaaef34-98eb-420e-91ad-008d1739c037/data/feature-table.biom -t /tmp/qiime2-archive-ylnc52uh/a7b4483f-52f8-40c3-b108-97351838bbac/data/tree.nwk -o /tmp/q2-AlphaDiversityFormat-788zr079\n",
      "\n",
      "Running external command line application. This may print messages to stdout and/or stderr.\n",
      "The command being run is below. This command cannot be manually re-run as it will depend on temporary files that no longer exist.\n",
      "\n",
      "Command:\n",
      "\n",
      "faithpd -i /tmp/qiime2-archive-p7uy4e6a/01d56fd4-b407-4158-b757-3ea53f14a421/data/feature-table.biom -t /tmp/qiime2-archive-ylnc52uh/a7b4483f-52f8-40c3-b108-97351838bbac/data/tree.nwk -o /tmp/q2-AlphaDiversityFormat-22kf1sf4\n",
      "\n",
      "Running external command line application. This may print messages to stdout and/or stderr.\n",
      "The command being run is below. This command cannot be manually re-run as it will depend on temporary files that no longer exist.\n",
      "\n",
      "Command:\n",
      "\n",
      "faithpd -i /tmp/qiime2-archive-_866urdj/8961011a-1860-44ca-9b83-b0fb2803e0d0/data/feature-table.biom -t /tmp/qiime2-archive-ylnc52uh/a7b4483f-52f8-40c3-b108-97351838bbac/data/tree.nwk -o /tmp/q2-AlphaDiversityFormat-5i5vr0bj\n",
      "\n",
      "Running external command line application. This may print messages to stdout and/or stderr.\n",
      "The command being run is below. This command cannot be manually re-run as it will depend on temporary files that no longer exist.\n",
      "\n",
      "Command:\n",
      "\n",
      "faithpd -i /tmp/qiime2-archive-6pfo38hy/fb1db888-d0b1-481d-89f3-1e48791cd6d8/data/feature-table.biom -t /tmp/qiime2-archive-ylnc52uh/a7b4483f-52f8-40c3-b108-97351838bbac/data/tree.nwk -o /tmp/q2-AlphaDiversityFormat-g3cdvo9i\n",
      "\n",
      "Running external command line application. This may print messages to stdout and/or stderr.\n",
      "The command being run is below. This command cannot be manually re-run as it will depend on temporary files that no longer exist.\n",
      "\n",
      "Command:\n",
      "\n",
      "faithpd -i /tmp/qiime2-archive-_ohf810j/766044b1-e0e6-4bf2-8377-303949ae7a58/data/feature-table.biom -t /tmp/qiime2-archive-ylnc52uh/a7b4483f-52f8-40c3-b108-97351838bbac/data/tree.nwk -o /tmp/q2-AlphaDiversityFormat-tk8pdlhb\n",
      "\n",
      "Running external command line application. This may print messages to stdout and/or stderr.\n",
      "The command being run is below. This command cannot be manually re-run as it will depend on temporary files that no longer exist.\n",
      "\n",
      "Command:\n",
      "\n",
      "faithpd -i /tmp/qiime2-archive-i_w8dnaj/cf2411d8-8076-4e01-a8ff-3553580e97c0/data/feature-table.biom -t /tmp/qiime2-archive-ylnc52uh/a7b4483f-52f8-40c3-b108-97351838bbac/data/tree.nwk -o /tmp/q2-AlphaDiversityFormat-edg5jkiv\n",
      "\n",
      "Running external command line application. This may print messages to stdout and/or stderr.\n",
      "The command being run is below. This command cannot be manually re-run as it will depend on temporary files that no longer exist.\n",
      "\n",
      "Command:\n",
      "\n",
      "faithpd -i /tmp/qiime2-archive-le5su67i/4a305ed5-4f4d-4378-9ae5-94b54e04f95a/data/feature-table.biom -t /tmp/qiime2-archive-ylnc52uh/a7b4483f-52f8-40c3-b108-97351838bbac/data/tree.nwk -o /tmp/q2-AlphaDiversityFormat-t8vhp565\n",
      "\n",
      "Running external command line application. This may print messages to stdout and/or stderr.\n",
      "The command being run is below. This command cannot be manually re-run as it will depend on temporary files that no longer exist.\n",
      "\n",
      "Command:\n",
      "\n",
      "faithpd -i /tmp/qiime2-archive-rfj5a2is/32bbe543-85de-4eea-855d-25428f4d492c/data/feature-table.biom -t /tmp/qiime2-archive-ylnc52uh/a7b4483f-52f8-40c3-b108-97351838bbac/data/tree.nwk -o /tmp/q2-AlphaDiversityFormat-mp2je73n\n",
      "\n",
      "Running external command line application. This may print messages to stdout and/or stderr.\n",
      "The command being run is below. This command cannot be manually re-run as it will depend on temporary files that no longer exist.\n",
      "\n",
      "Command:\n",
      "\n",
      "faithpd -i /tmp/qiime2-archive-h28xgdad/8df9377c-2f4d-4b5f-883a-93686207c6b1/data/feature-table.biom -t /tmp/qiime2-archive-ylnc52uh/a7b4483f-52f8-40c3-b108-97351838bbac/data/tree.nwk -o /tmp/q2-AlphaDiversityFormat-45hrtn2y\n",
      "\n",
      "Running external command line application. This may print messages to stdout and/or stderr.\n",
      "The command being run is below. This command cannot be manually re-run as it will depend on temporary files that no longer exist.\n",
      "\n",
      "Command:\n",
      "\n",
      "faithpd -i /tmp/qiime2-archive-d508ihn4/3097a3f8-ea5b-4c40-88d3-b7866763ea12/data/feature-table.biom -t /tmp/qiime2-archive-ylnc52uh/a7b4483f-52f8-40c3-b108-97351838bbac/data/tree.nwk -o /tmp/q2-AlphaDiversityFormat-vv6naph_\n",
      "\n",
      "Running external command line application. This may print messages to stdout and/or stderr.\n",
      "The command being run is below. This command cannot be manually re-run as it will depend on temporary files that no longer exist.\n",
      "\n",
      "Command:\n",
      "\n",
      "faithpd -i /tmp/qiime2-archive-4jk8ilgr/0ac0b9c2-9d68-40e2-bd2a-c0668cf07c9a/data/feature-table.biom -t /tmp/qiime2-archive-ylnc52uh/a7b4483f-52f8-40c3-b108-97351838bbac/data/tree.nwk -o /tmp/q2-AlphaDiversityFormat-hpydz6tq\n",
      "\n",
      "Running external command line application. This may print messages to stdout and/or stderr.\n",
      "The command being run is below. This command cannot be manually re-run as it will depend on temporary files that no longer exist.\n",
      "\n",
      "Command:\n",
      "\n",
      "faithpd -i /tmp/qiime2-archive-l5qkcr69/8a576bb8-6b4a-4080-a137-91d215d5cc4b/data/feature-table.biom -t /tmp/qiime2-archive-ylnc52uh/a7b4483f-52f8-40c3-b108-97351838bbac/data/tree.nwk -o /tmp/q2-AlphaDiversityFormat-hb595_5q\n",
      "\n",
      "Running external command line application. This may print messages to stdout and/or stderr.\n",
      "The command being run is below. This command cannot be manually re-run as it will depend on temporary files that no longer exist.\n",
      "\n",
      "Command:\n",
      "\n",
      "faithpd -i /tmp/qiime2-archive-rumt8tmj/7120a93b-8389-4276-b0bf-fb94f1c23259/data/feature-table.biom -t /tmp/qiime2-archive-ylnc52uh/a7b4483f-52f8-40c3-b108-97351838bbac/data/tree.nwk -o /tmp/q2-AlphaDiversityFormat-7u4io1gs\n",
      "\n",
      "Running external command line application. This may print messages to stdout and/or stderr.\n",
      "The command being run is below. This command cannot be manually re-run as it will depend on temporary files that no longer exist.\n",
      "\n",
      "Command:\n",
      "\n",
      "faithpd -i /tmp/qiime2-archive-40_m8d96/4e57a5fb-6278-4a0e-b315-7ed66065b578/data/feature-table.biom -t /tmp/qiime2-archive-ylnc52uh/a7b4483f-52f8-40c3-b108-97351838bbac/data/tree.nwk -o /tmp/q2-AlphaDiversityFormat-jyiw4asm\n",
      "\n",
      "Running external command line application. This may print messages to stdout and/or stderr.\n",
      "The command being run is below. This command cannot be manually re-run as it will depend on temporary files that no longer exist.\n",
      "\n",
      "Command:\n",
      "\n",
      "faithpd -i /tmp/qiime2-archive-bx7ym4e3/4b85a23c-427a-4f7e-a8b4-1cfdf54e0f17/data/feature-table.biom -t /tmp/qiime2-archive-ylnc52uh/a7b4483f-52f8-40c3-b108-97351838bbac/data/tree.nwk -o /tmp/q2-AlphaDiversityFormat-py3gd4_s\n",
      "\n"
     ]
    },
    {
     "name": "stdout",
     "output_type": "stream",
     "text": [
      "Running external command line application. This may print messages to stdout and/or stderr.\n",
      "The command being run is below. This command cannot be manually re-run as it will depend on temporary files that no longer exist.\n",
      "\n",
      "Command:\n",
      "\n",
      "faithpd -i /tmp/qiime2-archive-6mpb_08f/adedd774-7e03-4341-a641-2db3878cec6a/data/feature-table.biom -t /tmp/qiime2-archive-ylnc52uh/a7b4483f-52f8-40c3-b108-97351838bbac/data/tree.nwk -o /tmp/q2-AlphaDiversityFormat-6usi9ou0\n",
      "\n",
      "Running external command line application. This may print messages to stdout and/or stderr.\n",
      "The command being run is below. This command cannot be manually re-run as it will depend on temporary files that no longer exist.\n",
      "\n",
      "Command:\n",
      "\n",
      "faithpd -i /tmp/qiime2-archive-_1jr35l9/4ce0cc15-ef49-4e2a-b5d9-ebb872f9a757/data/feature-table.biom -t /tmp/qiime2-archive-ylnc52uh/a7b4483f-52f8-40c3-b108-97351838bbac/data/tree.nwk -o /tmp/q2-AlphaDiversityFormat-zumm2468\n",
      "\n",
      "Running external command line application. This may print messages to stdout and/or stderr.\n",
      "The command being run is below. This command cannot be manually re-run as it will depend on temporary files that no longer exist.\n",
      "\n",
      "Command:\n",
      "\n",
      "faithpd -i /tmp/qiime2-archive-8u5pjz83/272c2bec-3a2f-49b9-a9d1-1ed0e1453ed2/data/feature-table.biom -t /tmp/qiime2-archive-ylnc52uh/a7b4483f-52f8-40c3-b108-97351838bbac/data/tree.nwk -o /tmp/q2-AlphaDiversityFormat-decds4_3\n",
      "\n",
      "Running external command line application. This may print messages to stdout and/or stderr.\n",
      "The command being run is below. This command cannot be manually re-run as it will depend on temporary files that no longer exist.\n",
      "\n",
      "Command:\n",
      "\n",
      "faithpd -i /tmp/qiime2-archive-qipzi5t6/d38505c9-2f6e-44c7-af82-f0b7e8699ecd/data/feature-table.biom -t /tmp/qiime2-archive-ylnc52uh/a7b4483f-52f8-40c3-b108-97351838bbac/data/tree.nwk -o /tmp/q2-AlphaDiversityFormat-ecmg0rbm\n",
      "\n",
      "Running external command line application. This may print messages to stdout and/or stderr.\n",
      "The command being run is below. This command cannot be manually re-run as it will depend on temporary files that no longer exist.\n",
      "\n",
      "Command:\n",
      "\n",
      "faithpd -i /tmp/qiime2-archive-04fols74/baed971f-9289-42a1-850f-7bbce6d229b6/data/feature-table.biom -t /tmp/qiime2-archive-ylnc52uh/a7b4483f-52f8-40c3-b108-97351838bbac/data/tree.nwk -o /tmp/q2-AlphaDiversityFormat-z4knvqkt\n",
      "\n",
      "Running external command line application. This may print messages to stdout and/or stderr.\n",
      "The command being run is below. This command cannot be manually re-run as it will depend on temporary files that no longer exist.\n",
      "\n",
      "Command:\n",
      "\n",
      "faithpd -i /tmp/qiime2-archive-ku4scpps/f44c8f23-e4cb-44b7-8511-388cc9331e0e/data/feature-table.biom -t /tmp/qiime2-archive-ylnc52uh/a7b4483f-52f8-40c3-b108-97351838bbac/data/tree.nwk -o /tmp/q2-AlphaDiversityFormat-bra9zn3r\n",
      "\n",
      "Running external command line application. This may print messages to stdout and/or stderr.\n",
      "The command being run is below. This command cannot be manually re-run as it will depend on temporary files that no longer exist.\n",
      "\n",
      "Command:\n",
      "\n",
      "faithpd -i /tmp/qiime2-archive-_g8iee80/32ac2020-55b0-4fef-af70-01a1b986f872/data/feature-table.biom -t /tmp/qiime2-archive-ylnc52uh/a7b4483f-52f8-40c3-b108-97351838bbac/data/tree.nwk -o /tmp/q2-AlphaDiversityFormat-8qdafqa0\n",
      "\n",
      "Running external command line application. This may print messages to stdout and/or stderr.\n",
      "The command being run is below. This command cannot be manually re-run as it will depend on temporary files that no longer exist.\n",
      "\n",
      "Command:\n",
      "\n",
      "faithpd -i /tmp/qiime2-archive-au8vrmn9/4d688da7-8a2a-4704-8a32-fbed8cf0bb65/data/feature-table.biom -t /tmp/qiime2-archive-ylnc52uh/a7b4483f-52f8-40c3-b108-97351838bbac/data/tree.nwk -o /tmp/q2-AlphaDiversityFormat-k3a6jc1h\n",
      "\n",
      "Running external command line application. This may print messages to stdout and/or stderr.\n",
      "The command being run is below. This command cannot be manually re-run as it will depend on temporary files that no longer exist.\n",
      "\n",
      "Command:\n",
      "\n",
      "faithpd -i /tmp/qiime2-archive-wru1k5cx/95a6664f-7696-4417-b705-d3a66fc3af5b/data/feature-table.biom -t /tmp/qiime2-archive-ylnc52uh/a7b4483f-52f8-40c3-b108-97351838bbac/data/tree.nwk -o /tmp/q2-AlphaDiversityFormat-ar_jjqe6\n",
      "\n",
      "Running external command line application. This may print messages to stdout and/or stderr.\n",
      "The command being run is below. This command cannot be manually re-run as it will depend on temporary files that no longer exist.\n",
      "\n",
      "Command:\n",
      "\n",
      "faithpd -i /tmp/qiime2-archive-rhtf4dfa/5b9fbe68-3198-4b7e-8cb7-109c686b4b89/data/feature-table.biom -t /tmp/qiime2-archive-ylnc52uh/a7b4483f-52f8-40c3-b108-97351838bbac/data/tree.nwk -o /tmp/q2-AlphaDiversityFormat-x6dmcsf3\n",
      "\n",
      "Running external command line application. This may print messages to stdout and/or stderr.\n",
      "The command being run is below. This command cannot be manually re-run as it will depend on temporary files that no longer exist.\n",
      "\n",
      "Command:\n",
      "\n",
      "faithpd -i /tmp/qiime2-archive-wdt2g99b/9afb15f0-3527-4b95-abcd-b3c0eabffbe1/data/feature-table.biom -t /tmp/qiime2-archive-ylnc52uh/a7b4483f-52f8-40c3-b108-97351838bbac/data/tree.nwk -o /tmp/q2-AlphaDiversityFormat-u6n0nss7\n",
      "\n",
      "Running external command line application. This may print messages to stdout and/or stderr.\n",
      "The command being run is below. This command cannot be manually re-run as it will depend on temporary files that no longer exist.\n",
      "\n",
      "Command:\n",
      "\n",
      "faithpd -i /tmp/qiime2-archive-fnksw_lb/7b729b8e-fa66-4585-9fd5-dfed364bad4a/data/feature-table.biom -t /tmp/qiime2-archive-ylnc52uh/a7b4483f-52f8-40c3-b108-97351838bbac/data/tree.nwk -o /tmp/q2-AlphaDiversityFormat-irupqorp\n",
      "\n",
      "Running external command line application. This may print messages to stdout and/or stderr.\n",
      "The command being run is below. This command cannot be manually re-run as it will depend on temporary files that no longer exist.\n",
      "\n",
      "Command:\n",
      "\n",
      "faithpd -i /tmp/qiime2-archive-9_1ql069/92d2be4e-8cf6-4aed-a1a7-d0a769b54437/data/feature-table.biom -t /tmp/qiime2-archive-ylnc52uh/a7b4483f-52f8-40c3-b108-97351838bbac/data/tree.nwk -o /tmp/q2-AlphaDiversityFormat-u9u_6n4y\n",
      "\n",
      "Running external command line application. This may print messages to stdout and/or stderr.\n",
      "The command being run is below. This command cannot be manually re-run as it will depend on temporary files that no longer exist.\n",
      "\n",
      "Command:\n",
      "\n",
      "faithpd -i /tmp/qiime2-archive-2lq_3j82/df5eba3f-40ff-4ad1-8f96-ffcfa36efa53/data/feature-table.biom -t /tmp/qiime2-archive-ylnc52uh/a7b4483f-52f8-40c3-b108-97351838bbac/data/tree.nwk -o /tmp/q2-AlphaDiversityFormat-mubqouac\n",
      "\n",
      "Running external command line application. This may print messages to stdout and/or stderr.\n",
      "The command being run is below. This command cannot be manually re-run as it will depend on temporary files that no longer exist.\n",
      "\n",
      "Command:\n",
      "\n",
      "faithpd -i /tmp/qiime2-archive-tkh4o_v8/0bbd4d99-697b-4a00-9bc8-1fab2cccc50e/data/feature-table.biom -t /tmp/qiime2-archive-ylnc52uh/a7b4483f-52f8-40c3-b108-97351838bbac/data/tree.nwk -o /tmp/q2-AlphaDiversityFormat-j1o36mc9\n",
      "\n",
      "Running external command line application. This may print messages to stdout and/or stderr.\n",
      "The command being run is below. This command cannot be manually re-run as it will depend on temporary files that no longer exist.\n",
      "\n",
      "Command:\n",
      "\n",
      "faithpd -i /tmp/qiime2-archive-ahnbs73j/6c2ab780-3769-40bd-8f5a-2fac8e4b2775/data/feature-table.biom -t /tmp/qiime2-archive-ylnc52uh/a7b4483f-52f8-40c3-b108-97351838bbac/data/tree.nwk -o /tmp/q2-AlphaDiversityFormat-5u5zjha8\n",
      "\n",
      "Running external command line application. This may print messages to stdout and/or stderr.\n",
      "The command being run is below. This command cannot be manually re-run as it will depend on temporary files that no longer exist.\n",
      "\n",
      "Command:\n",
      "\n",
      "faithpd -i /tmp/qiime2-archive-lwumarms/29bb4843-8fd2-44e8-a792-b1b798926f5a/data/feature-table.biom -t /tmp/qiime2-archive-ylnc52uh/a7b4483f-52f8-40c3-b108-97351838bbac/data/tree.nwk -o /tmp/q2-AlphaDiversityFormat-9vmt_mk8\n",
      "\n",
      "Running external command line application. This may print messages to stdout and/or stderr.\n",
      "The command being run is below. This command cannot be manually re-run as it will depend on temporary files that no longer exist.\n",
      "\n",
      "Command:\n",
      "\n",
      "faithpd -i /tmp/qiime2-archive-d5eb3wcs/5abbee0f-9445-4417-a81b-daa1a1311608/data/feature-table.biom -t /tmp/qiime2-archive-ylnc52uh/a7b4483f-52f8-40c3-b108-97351838bbac/data/tree.nwk -o /tmp/q2-AlphaDiversityFormat-ifozmu_r\n",
      "\n"
     ]
    },
    {
     "name": "stdout",
     "output_type": "stream",
     "text": [
      "Running external command line application. This may print messages to stdout and/or stderr.\n",
      "The command being run is below. This command cannot be manually re-run as it will depend on temporary files that no longer exist.\n",
      "\n",
      "Command:\n",
      "\n",
      "faithpd -i /tmp/qiime2-archive-fa1f7163/e61c40b5-ba7c-4ca3-a5e1-88805b85f5c9/data/feature-table.biom -t /tmp/qiime2-archive-ylnc52uh/a7b4483f-52f8-40c3-b108-97351838bbac/data/tree.nwk -o /tmp/q2-AlphaDiversityFormat-pl_pok9j\n",
      "\n",
      "Running external command line application. This may print messages to stdout and/or stderr.\n",
      "The command being run is below. This command cannot be manually re-run as it will depend on temporary files that no longer exist.\n",
      "\n",
      "Command:\n",
      "\n",
      "faithpd -i /tmp/qiime2-archive-rmik9fbb/c44e1c54-ba0b-465f-b5fa-a27aa4dee8b1/data/feature-table.biom -t /tmp/qiime2-archive-ylnc52uh/a7b4483f-52f8-40c3-b108-97351838bbac/data/tree.nwk -o /tmp/q2-AlphaDiversityFormat-oxngec0i\n",
      "\n",
      "Running external command line application. This may print messages to stdout and/or stderr.\n",
      "The command being run is below. This command cannot be manually re-run as it will depend on temporary files that no longer exist.\n",
      "\n",
      "Command:\n",
      "\n",
      "faithpd -i /tmp/qiime2-archive-64i153lf/07223b42-5ccd-433a-9b94-1e77ef858f99/data/feature-table.biom -t /tmp/qiime2-archive-ylnc52uh/a7b4483f-52f8-40c3-b108-97351838bbac/data/tree.nwk -o /tmp/q2-AlphaDiversityFormat-v3e8a3cq\n",
      "\n",
      "Running external command line application. This may print messages to stdout and/or stderr.\n",
      "The command being run is below. This command cannot be manually re-run as it will depend on temporary files that no longer exist.\n",
      "\n",
      "Command:\n",
      "\n",
      "faithpd -i /tmp/qiime2-archive-6sibwkrs/470d9b4a-36a1-4de6-8b4b-8722d163ffd9/data/feature-table.biom -t /tmp/qiime2-archive-ylnc52uh/a7b4483f-52f8-40c3-b108-97351838bbac/data/tree.nwk -o /tmp/q2-AlphaDiversityFormat-balw_0xw\n",
      "\n",
      "Running external command line application. This may print messages to stdout and/or stderr.\n",
      "The command being run is below. This command cannot be manually re-run as it will depend on temporary files that no longer exist.\n",
      "\n",
      "Command:\n",
      "\n",
      "faithpd -i /tmp/qiime2-archive-35puh2rd/466ae952-a3ff-4460-9665-6350e32b0af3/data/feature-table.biom -t /tmp/qiime2-archive-ylnc52uh/a7b4483f-52f8-40c3-b108-97351838bbac/data/tree.nwk -o /tmp/q2-AlphaDiversityFormat-pn_plu07\n",
      "\n",
      "Running external command line application. This may print messages to stdout and/or stderr.\n",
      "The command being run is below. This command cannot be manually re-run as it will depend on temporary files that no longer exist.\n",
      "\n",
      "Command:\n",
      "\n",
      "faithpd -i /tmp/qiime2-archive-5ofgvpf4/f971418a-6324-477e-9f0b-bb6b49dc843a/data/feature-table.biom -t /tmp/qiime2-archive-ylnc52uh/a7b4483f-52f8-40c3-b108-97351838bbac/data/tree.nwk -o /tmp/q2-AlphaDiversityFormat-c4nmz55a\n",
      "\n",
      "Running external command line application. This may print messages to stdout and/or stderr.\n",
      "The command being run is below. This command cannot be manually re-run as it will depend on temporary files that no longer exist.\n",
      "\n",
      "Command:\n",
      "\n",
      "faithpd -i /tmp/qiime2-archive-2h8hwacc/5bb4dc63-5e36-460a-a835-4fca2e67bf11/data/feature-table.biom -t /tmp/qiime2-archive-ylnc52uh/a7b4483f-52f8-40c3-b108-97351838bbac/data/tree.nwk -o /tmp/q2-AlphaDiversityFormat-_pa13t01\n",
      "\n",
      "Running external command line application. This may print messages to stdout and/or stderr.\n",
      "The command being run is below. This command cannot be manually re-run as it will depend on temporary files that no longer exist.\n",
      "\n",
      "Command:\n",
      "\n",
      "faithpd -i /tmp/qiime2-archive-p51nqawd/616302b1-4a0b-4e3d-8f28-7cb5e1347ed7/data/feature-table.biom -t /tmp/qiime2-archive-ylnc52uh/a7b4483f-52f8-40c3-b108-97351838bbac/data/tree.nwk -o /tmp/q2-AlphaDiversityFormat-nppirv1g\n",
      "\n",
      "Running external command line application. This may print messages to stdout and/or stderr.\n",
      "The command being run is below. This command cannot be manually re-run as it will depend on temporary files that no longer exist.\n",
      "\n",
      "Command:\n",
      "\n",
      "faithpd -i /tmp/qiime2-archive-8zt8i_mx/7d8f857d-4c5c-4573-a2ee-3e40cd59c964/data/feature-table.biom -t /tmp/qiime2-archive-ylnc52uh/a7b4483f-52f8-40c3-b108-97351838bbac/data/tree.nwk -o /tmp/q2-AlphaDiversityFormat-lhc3kcph\n",
      "\n",
      "Running external command line application. This may print messages to stdout and/or stderr.\n",
      "The command being run is below. This command cannot be manually re-run as it will depend on temporary files that no longer exist.\n",
      "\n",
      "Command:\n",
      "\n",
      "faithpd -i /tmp/qiime2-archive-v8ak2s56/5ed66878-54f1-4fe9-abd9-0598512b2a36/data/feature-table.biom -t /tmp/qiime2-archive-ylnc52uh/a7b4483f-52f8-40c3-b108-97351838bbac/data/tree.nwk -o /tmp/q2-AlphaDiversityFormat-dq0zvkzi\n",
      "\n",
      "Running external command line application. This may print messages to stdout and/or stderr.\n",
      "The command being run is below. This command cannot be manually re-run as it will depend on temporary files that no longer exist.\n",
      "\n",
      "Command:\n",
      "\n",
      "faithpd -i /tmp/qiime2-archive-n13tpyuz/db55fe79-9311-47d6-9230-52df829daf04/data/feature-table.biom -t /tmp/qiime2-archive-ylnc52uh/a7b4483f-52f8-40c3-b108-97351838bbac/data/tree.nwk -o /tmp/q2-AlphaDiversityFormat-kwz7ylvc\n",
      "\n",
      "Running external command line application. This may print messages to stdout and/or stderr.\n",
      "The command being run is below. This command cannot be manually re-run as it will depend on temporary files that no longer exist.\n",
      "\n",
      "Command:\n",
      "\n",
      "faithpd -i /tmp/qiime2-archive-00_tbkwz/dc3497e0-0c71-4635-b894-a971405bb750/data/feature-table.biom -t /tmp/qiime2-archive-ylnc52uh/a7b4483f-52f8-40c3-b108-97351838bbac/data/tree.nwk -o /tmp/q2-AlphaDiversityFormat-odpq804l\n",
      "\n",
      "Running external command line application. This may print messages to stdout and/or stderr.\n",
      "The command being run is below. This command cannot be manually re-run as it will depend on temporary files that no longer exist.\n",
      "\n",
      "Command:\n",
      "\n",
      "faithpd -i /tmp/qiime2-archive-s43ksq9b/13d85ff9-d03d-437a-ab23-22b3fe05df12/data/feature-table.biom -t /tmp/qiime2-archive-ylnc52uh/a7b4483f-52f8-40c3-b108-97351838bbac/data/tree.nwk -o /tmp/q2-AlphaDiversityFormat-qvowwlue\n",
      "\n",
      "Running external command line application. This may print messages to stdout and/or stderr.\n",
      "The command being run is below. This command cannot be manually re-run as it will depend on temporary files that no longer exist.\n",
      "\n",
      "Command:\n",
      "\n",
      "faithpd -i /tmp/qiime2-archive-e3yza4a4/6a9cbbe7-0634-4287-a727-c1aa5c869fdb/data/feature-table.biom -t /tmp/qiime2-archive-ylnc52uh/a7b4483f-52f8-40c3-b108-97351838bbac/data/tree.nwk -o /tmp/q2-AlphaDiversityFormat-10o7i2qt\n",
      "\n",
      "Running external command line application. This may print messages to stdout and/or stderr.\n",
      "The command being run is below. This command cannot be manually re-run as it will depend on temporary files that no longer exist.\n",
      "\n",
      "Command:\n",
      "\n",
      "faithpd -i /tmp/qiime2-archive-tj47qjjg/23f81781-f6a7-4e7d-a5a9-2c01ae73e5d1/data/feature-table.biom -t /tmp/qiime2-archive-ylnc52uh/a7b4483f-52f8-40c3-b108-97351838bbac/data/tree.nwk -o /tmp/q2-AlphaDiversityFormat-6v5ctqbr\n",
      "\n",
      "Running external command line application. This may print messages to stdout and/or stderr.\n",
      "The command being run is below. This command cannot be manually re-run as it will depend on temporary files that no longer exist.\n",
      "\n",
      "Command:\n",
      "\n",
      "faithpd -i /tmp/qiime2-archive-m5fdwktr/c7ac4b2c-bffd-41fe-bde2-5a8e22a0f4ec/data/feature-table.biom -t /tmp/qiime2-archive-ylnc52uh/a7b4483f-52f8-40c3-b108-97351838bbac/data/tree.nwk -o /tmp/q2-AlphaDiversityFormat-saurv70m\n",
      "\n",
      "Running external command line application. This may print messages to stdout and/or stderr.\n",
      "The command being run is below. This command cannot be manually re-run as it will depend on temporary files that no longer exist.\n",
      "\n",
      "Command:\n",
      "\n",
      "faithpd -i /tmp/qiime2-archive-l54etnf5/5d9009f9-9035-49a2-bd2f-cc301988ad2f/data/feature-table.biom -t /tmp/qiime2-archive-ylnc52uh/a7b4483f-52f8-40c3-b108-97351838bbac/data/tree.nwk -o /tmp/q2-AlphaDiversityFormat-ehvsg559\n",
      "\n",
      "Running external command line application. This may print messages to stdout and/or stderr.\n",
      "The command being run is below. This command cannot be manually re-run as it will depend on temporary files that no longer exist.\n",
      "\n",
      "Command:\n",
      "\n",
      "faithpd -i /tmp/qiime2-archive-oebrbo3y/b3be6206-d2ab-4a8e-ab98-39c627bccfd2/data/feature-table.biom -t /tmp/qiime2-archive-ylnc52uh/a7b4483f-52f8-40c3-b108-97351838bbac/data/tree.nwk -o /tmp/q2-AlphaDiversityFormat-doixxb01\n",
      "\n"
     ]
    },
    {
     "name": "stdout",
     "output_type": "stream",
     "text": [
      "Running external command line application. This may print messages to stdout and/or stderr.\n",
      "The command being run is below. This command cannot be manually re-run as it will depend on temporary files that no longer exist.\n",
      "\n",
      "Command:\n",
      "\n",
      "faithpd -i /tmp/qiime2-archive-7143xyys/63974ff1-b551-4522-b513-221b26ce564d/data/feature-table.biom -t /tmp/qiime2-archive-ylnc52uh/a7b4483f-52f8-40c3-b108-97351838bbac/data/tree.nwk -o /tmp/q2-AlphaDiversityFormat-vxwd8gys\n",
      "\n",
      "Running external command line application. This may print messages to stdout and/or stderr.\n",
      "The command being run is below. This command cannot be manually re-run as it will depend on temporary files that no longer exist.\n",
      "\n",
      "Command:\n",
      "\n",
      "faithpd -i /tmp/qiime2-archive-oc2jnfz4/05dbed7d-dcea-4d35-b64c-6f077c3689c3/data/feature-table.biom -t /tmp/qiime2-archive-ylnc52uh/a7b4483f-52f8-40c3-b108-97351838bbac/data/tree.nwk -o /tmp/q2-AlphaDiversityFormat-5rs2bv6e\n",
      "\n",
      "Running external command line application. This may print messages to stdout and/or stderr.\n",
      "The command being run is below. This command cannot be manually re-run as it will depend on temporary files that no longer exist.\n",
      "\n",
      "Command:\n",
      "\n",
      "faithpd -i /tmp/qiime2-archive-03svirkn/97389517-7725-40b0-8225-5929b7c0e060/data/feature-table.biom -t /tmp/qiime2-archive-ylnc52uh/a7b4483f-52f8-40c3-b108-97351838bbac/data/tree.nwk -o /tmp/q2-AlphaDiversityFormat-kw4v3afh\n",
      "\n",
      "Running external command line application. This may print messages to stdout and/or stderr.\n",
      "The command being run is below. This command cannot be manually re-run as it will depend on temporary files that no longer exist.\n",
      "\n",
      "Command:\n",
      "\n",
      "faithpd -i /tmp/qiime2-archive-5gyairxl/9281f234-5047-412f-9345-af443c6b0bcb/data/feature-table.biom -t /tmp/qiime2-archive-ylnc52uh/a7b4483f-52f8-40c3-b108-97351838bbac/data/tree.nwk -o /tmp/q2-AlphaDiversityFormat-2a738_ei\n",
      "\n",
      "Running external command line application. This may print messages to stdout and/or stderr.\n",
      "The command being run is below. This command cannot be manually re-run as it will depend on temporary files that no longer exist.\n",
      "\n",
      "Command:\n",
      "\n",
      "faithpd -i /tmp/qiime2-archive-lwhy7bfn/77a24f2f-0f8e-49ec-9371-a1df5b99ea20/data/feature-table.biom -t /tmp/qiime2-archive-ylnc52uh/a7b4483f-52f8-40c3-b108-97351838bbac/data/tree.nwk -o /tmp/q2-AlphaDiversityFormat-c45a8yoa\n",
      "\n",
      "Running external command line application. This may print messages to stdout and/or stderr.\n",
      "The command being run is below. This command cannot be manually re-run as it will depend on temporary files that no longer exist.\n",
      "\n",
      "Command:\n",
      "\n",
      "faithpd -i /tmp/qiime2-archive-mm3zs2og/3dceddf5-0b55-41c3-b5ed-4f85ed24862a/data/feature-table.biom -t /tmp/qiime2-archive-ylnc52uh/a7b4483f-52f8-40c3-b108-97351838bbac/data/tree.nwk -o /tmp/q2-AlphaDiversityFormat-y2aqaa__\n",
      "\n",
      "Running external command line application. This may print messages to stdout and/or stderr.\n",
      "The command being run is below. This command cannot be manually re-run as it will depend on temporary files that no longer exist.\n",
      "\n",
      "Command:\n",
      "\n",
      "faithpd -i /tmp/qiime2-archive-4bayax67/47f2d75a-4c90-4919-8ca8-d229c3e2a973/data/feature-table.biom -t /tmp/qiime2-archive-ylnc52uh/a7b4483f-52f8-40c3-b108-97351838bbac/data/tree.nwk -o /tmp/q2-AlphaDiversityFormat-53cortm8\n",
      "\n",
      "Running external command line application. This may print messages to stdout and/or stderr.\n",
      "The command being run is below. This command cannot be manually re-run as it will depend on temporary files that no longer exist.\n",
      "\n",
      "Command:\n",
      "\n",
      "faithpd -i /tmp/qiime2-archive-ulh_ymye/5b52f2f9-2c82-4fe9-a9ea-7fe58305a051/data/feature-table.biom -t /tmp/qiime2-archive-ylnc52uh/a7b4483f-52f8-40c3-b108-97351838bbac/data/tree.nwk -o /tmp/q2-AlphaDiversityFormat-bw4ug13h\n",
      "\n",
      "Running external command line application. This may print messages to stdout and/or stderr.\n",
      "The command being run is below. This command cannot be manually re-run as it will depend on temporary files that no longer exist.\n",
      "\n",
      "Command:\n",
      "\n",
      "faithpd -i /tmp/qiime2-archive-or0r5h82/ee703150-c2f5-4241-ab99-246c734fb46f/data/feature-table.biom -t /tmp/qiime2-archive-ylnc52uh/a7b4483f-52f8-40c3-b108-97351838bbac/data/tree.nwk -o /tmp/q2-AlphaDiversityFormat-lkaxgzkl\n",
      "\n",
      "Running external command line application. This may print messages to stdout and/or stderr.\n",
      "The command being run is below. This command cannot be manually re-run as it will depend on temporary files that no longer exist.\n",
      "\n",
      "Command:\n",
      "\n",
      "faithpd -i /tmp/qiime2-archive-hgp4_t9v/f6b77570-c125-4dea-8afe-43351ece24dd/data/feature-table.biom -t /tmp/qiime2-archive-ylnc52uh/a7b4483f-52f8-40c3-b108-97351838bbac/data/tree.nwk -o /tmp/q2-AlphaDiversityFormat-uvkweiyb\n",
      "\n"
     ]
    }
   ],
   "source": [
    "alpha_rarefaction = diversity.actions.alpha_rarefaction(table = denoised_sequences.table,\n",
    "                                                        max_depth = 4000,\n",
    "                                                        phylogeny = rooted_tree.rooted_tree,\n",
    "                                                        metadata = sample_metadata)"
   ]
  },
  {
   "cell_type": "code",
   "execution_count": 40,
   "metadata": {},
   "outputs": [
    {
     "data": {
      "text/html": [
       "<div><img onload=\"(function(div, url){\n",
       "if (typeof require !== 'undefined') {\n",
       "    var baseURL = require.toUrl('').split('/').slice(0, -2).join('/');\n",
       "} else {\n",
       "    var baseURL = JSON.parse(\n",
       "        document.getElementById('jupyter-config-data').innerHTML\n",
       "    ).baseUrl.slice(0, -1);\n",
       "}\n",
       "url = baseURL + url;\n",
       "fetch(url).then(function(res) {\n",
       "    if (res.status === 404) {\n",
       "        div.innerHTML = 'Install QIIME 2 Jupyter extension with:<br />' +\n",
       "                        '<code>jupyter serverextension enable --py qiime2' +\n",
       "                        ' --sys-prefix</code><br />then restart your server.' +\n",
       "                        '<br /><br />(Interactive output not available on ' +\n",
       "                        'static notebook viewer services like nbviewer.)';\n",
       "    } else if (res.status === 409) {\n",
       "        div.innerHTML = 'Visualization no longer in scope. Re-run this cell' +\n",
       "                        ' to see the visualization.';\n",
       "    } else if (res.ok) {\n",
       "        url = res.url;\n",
       "        div.innerHTML = '<iframe src=\\'' + url + '\\' style=\\'' +\n",
       "                        'width: 100%; height: 700px; border: 0;\\'>' +\n",
       "                        '</iframe><hr />Open in a: <a href=\\'' + url + '\\'' +\n",
       "                        ' target=\\'_blank\\'>new window</a>'\n",
       "    } else {\n",
       "        div.innerHTML = 'Something has gone wrong. Check notebook server for' +\n",
       "                        ' errors.';\n",
       "    }\n",
       "});\n",
       "})(this.parentElement, '/qiime2/redirect?location=/tmp/qiime2-archive-v28veuv_')\" src=\"data:image/gif;base64,R0lGODlhAQABAIAAAP///wAAACH5BAEAAAAALAAAAAABAAEAAAICRAEAOw==\" /></div>"
      ],
      "text/plain": [
       "<visualization: Visualization uuid: 93bc3411-c053-46c1-807b-e37395576e3f>"
      ]
     },
     "execution_count": 40,
     "metadata": {},
     "output_type": "execute_result"
    }
   ],
   "source": [
    "alpha_rarefaction.visualization"
   ]
  },
  {
   "cell_type": "markdown",
   "metadata": {},
   "source": [
    "The visualization will have two plots. The top plot is an alpha rarefaction plot, and is primarily used to determine if the richness of the samples has been fully observed or sequenced. If the lines in the plot appear to “level out” (i.e., approach a slope of zero) at some sampling depth along the x-axis, that suggests that collecting additional sequences beyond that sampling depth would not be likely to result in the observation of additional features. If the lines in a plot don’t level out, this may be because the richness of the samples hasn’t been fully observed yet (because too few sequences were collected), or it could be an indicator that a lot of sequencing error remains in the data (which is being mistaken for novel diversity).\n",
    "\n",
    "The bottom plot in this visualization is important when grouping samples by metadata. It illustrates the number of samples that remain in each group when the feature table is rarefied to each sampling depth. If a given sampling depth `d` is larger than the total frequency of a sample `s` (i.e., the number of sequences that were obtained for sample `s`), it is not possible to compute the diversity metric for sample s at sampling depth `d`. If many of the samples in a group have lower total frequencies than `d`, the average diversity presented for that group at `d` in the top plot will be unreliable because it will have been computed on relatively few samples. When grouping samples by metadata, it is therefore essential to look at the bottom plot to ensure that the data presented in the top plot is reliable.\n",
    "\n",
    "> Question 10: When grouping samples by “body-site” and viewing the alpha rarefaction plot for the “observed_otus” metric, which body sites (if any) appear to exhibit sufficient diversity coverage (i.e., their rarefaction curves level off)? How many sequence variants appear to be present in those body sites? \n",
    "\n",
    "> Question 11: When grouping samples by “body-site” and viewing the alpha rarefaction plot for the “observed_otus” metric, the line for the “right palm” samples appears to level out at about 40, but then jumps to about 140. What do you think is happening here? (Hint: be sure to look at both the top and bottom plots.) \n",
    "\n",
    "## Taxonomic analysis\n",
    "\n",
    "In the next sections we’ll begin to explore the taxonomic composition of the samples, and again relate that to sample metadata. The first step in this process is to assign taxonomy to the sequences in our `FeatureData[Sequence]` QIIME 2 artifact. We’ll do that using a pre-trained Naive Bayes classifier and the `feature_classifier` plugin. This classifier was trained on the Greengenes 13_8 99% OTUs, where the sequences have been trimmed to only include 250 bases from the region of the 16S that was sequenced in this analysis (the V4 region, bound by the 515F/806R primer pair). We’ll apply this classifier to our sequences, and we can generate a visualization of the resulting mapping from sequence to taxonomy."
   ]
  },
  {
   "cell_type": "code",
   "execution_count": 44,
   "metadata": {},
   "outputs": [
    {
     "name": "stdout",
     "output_type": "stream",
     "text": [
      "--2022-06-07 14:08:56--  https://data.qiime2.org/2022.2/common/gg-13-8-99-515-806-nb-classifier.qza\n",
      "Resolving data.qiime2.org (data.qiime2.org)... 54.200.1.12\n",
      "Connecting to data.qiime2.org (data.qiime2.org)|54.200.1.12|:443... connected.\n",
      "HTTP request sent, awaiting response... 302 FOUND\n",
      "Location: https://s3-us-west-2.amazonaws.com/qiime2-data/2022.2/common/gg-13-8-99-515-806-nb-classifier.qza [following]\n",
      "--2022-06-07 14:08:57--  https://s3-us-west-2.amazonaws.com/qiime2-data/2022.2/common/gg-13-8-99-515-806-nb-classifier.qza\n",
      "Resolving s3-us-west-2.amazonaws.com (s3-us-west-2.amazonaws.com)... 52.92.210.104\n",
      "Connecting to s3-us-west-2.amazonaws.com (s3-us-west-2.amazonaws.com)|52.92.210.104|:443... connected.\n",
      "HTTP request sent, awaiting response... 200 OK\n",
      "Length: 28289645 (27M) [binary/octet-stream]\n",
      "Saving to: ‘./data/gg-13-8-99-515-806-nb-classifier.qza’\n",
      "\n",
      "./data/gg-13-8-99-5 100%[===================>]  26.98M  1.55MB/s    in 24s     \n",
      "\n",
      "2022-06-07 14:09:22 (1.12 MB/s) - ‘./data/gg-13-8-99-515-806-nb-classifier.qza’ saved [28289645/28289645]\n",
      "\n"
     ]
    }
   ],
   "source": [
    "!wget -O $workdir\"/gg-13-8-99-515-806-nb-classifier.qza\" \"https://data.qiime2.org/2022.2/common/gg-13-8-99-515-806-nb-classifier.qza\""
   ]
  },
  {
   "cell_type": "code",
   "execution_count": 46,
   "metadata": {},
   "outputs": [],
   "source": [
    "gg_classifier = qiime2.Artifact.load(workdir+'/gg-13-8-99-515-806-nb-classifier.qza')"
   ]
  },
  {
   "cell_type": "code",
   "execution_count": null,
   "metadata": {},
   "outputs": [],
   "source": [
    "taxonomy = feature_classifier.methods.classify_sklearn(reads = denoised_sequences.representative_sequences,\n",
    "                                                       classifier = gg_classifier)"
   ]
  },
  {
   "cell_type": "code",
   "execution_count": null,
   "metadata": {},
   "outputs": [],
   "source": [
    "taxonomy_classification = metadata.visualizers.tabulate(taxonomy.classification.view(qiime2.Metadata))\n",
    "taxonomy_classification.visualization"
   ]
  },
  {
   "cell_type": "markdown",
   "metadata": {},
   "source": [
    "Next, we can view the taxonomic composition of our samples with interactive bar plots. Generate those plots with the following command and then open the visualization."
   ]
  },
  {
   "cell_type": "code",
   "execution_count": null,
   "metadata": {},
   "outputs": [],
   "source": [
    "taxa_bar_plot = taxa.visualizers.barplot(denoised_sequences.table, taxonomy.classification, sample_metadata)\n",
    "taxa_bar_plot.visualization"
   ]
  },
  {
   "cell_type": "markdown",
   "metadata": {},
   "source": [
    "> Question 12: Visualize the samples at Level 2 (which corresponds to the phylum level in this analysis), and then sort the samples by `body-site`, then by `subject`, and then by `days-since-experiment-start`. What are the dominant phyla in each in `body-site`? Do you observe any consistent change across the two subjects between `days-since-experiment-start` `0` and the later timepoints? \n",
    "\n",
    "## Differential abundance testing with ANCOM\n",
    "\n",
    "ANCOM can be applied to identify features that are differentially abundant (i.e. present in different abundances) across sample groups. As with any bioinformatics method, you should be aware of the assumptions and limitations of ANCOM before using it. We recommend reviewing the [ANCOM paper](https://www.ncbi.nlm.nih.gov/pubmed/26028277) before using this method.\n",
    "\n",
    "**Note  \n",
    "Differential abundance testing in microbiome analysis is an active area of research. There are two QIIME 2 plugins that can be used for this: `gneiss` and `composition`. This section uses `composition`, but there is [another tutorial which uses gneiss](https://docs.qiime2.org/2020.11/tutorials/gneiss/) on a different dataset if you are interested in learning more.**\n",
    "\n",
    "ANCOM is implemented in the `composition` plugin. ANCOM assumes that few (less than about 25%) of the features are changing between groups. If you expect that more features are changing between your groups, you should not use ANCOM as it will be more error-prone (an increase in both Type I and Type II errors is possible). Because we expect a lot of features to change in abundance across body sites, in this tutorial we’ll filter our full feature table to only contain gut samples. We’ll then apply ANCOM to determine which, if any, sequence variants and genera are differentially abundant across the gut samples of our two subjects.\n",
    "\n",
    "We’ll start by creating a feature table that contains only the gut samples. (To learn more about filtering, see the [Filtering Data  tutorial](https://docs.qiime2.org/2020.11/tutorials/filtering/))."
   ]
  },
  {
   "cell_type": "code",
   "execution_count": null,
   "metadata": {},
   "outputs": [],
   "source": [
    "gut_denoise = feature_table.methods.filter_samples(denoised_sequences.table,\n",
    "                                                  metadata = sample_metadata,\n",
    "                                                  where = \"[body-site]='gut'\")"
   ]
  },
  {
   "cell_type": "markdown",
   "metadata": {},
   "source": [
    "ANCOM operates on a `FeatureTable[Composition]` QIIME 2 artifact, which is based on frequencies of features on a per-sample basis, but cannot tolerate frequencies of zero. To build the composition artifact, a `FeatureTable[Frequency]` artifact must be provided to add-pseudocount (an imputation method), which will produce the `FeatureTable[Composition]` artifact."
   ]
  },
  {
   "cell_type": "code",
   "execution_count": null,
   "metadata": {},
   "outputs": [],
   "source": [
    "gut_denoise_composition = composition.actions.add_pseudocount(gut_denoise.filtered_table)"
   ]
  },
  {
   "cell_type": "markdown",
   "metadata": {},
   "source": [
    "We can then run ANCOM on the `subject` column to determine what features differ in abundance across the gut samples of the two subjects."
   ]
  },
  {
   "cell_type": "code",
   "execution_count": null,
   "metadata": {},
   "outputs": [],
   "source": [
    "ancom_gut_denoise = composition.actions.ancom(table = gut_denoise_composition.composition_table,\n",
    "                                             metadata = sample_metadata.get_column('subject'))"
   ]
  },
  {
   "cell_type": "code",
   "execution_count": null,
   "metadata": {},
   "outputs": [],
   "source": [
    "ancom_gut_denoise.visualization"
   ]
  },
  {
   "cell_type": "markdown",
   "metadata": {},
   "source": [
    ">Question 13: Which sequence variants differ in abundance across Subject? In which subject is each sequence variant more abundant? What are the taxonomies of some of these sequence variants? (To answer the last question you’ll need to refer to another visualization that was generated in this tutorial.) \n",
    "We’re also often interested in performing a differential abundance test at a specific taxonomic level. To do this, we can collapse the features in our `FeatureTable[Frequency]` at the taxonomic level of interest, and then re-run the above steps. In this tutorial, we collapse our feature table at the genus level (i.e. level 6 of the Greengenes taxonomy)."
   ]
  },
  {
   "cell_type": "code",
   "execution_count": null,
   "metadata": {},
   "outputs": [],
   "source": [
    "gut_table_l6 = taxa.methods.collapse(table = gut_denoise.filtered_table,\n",
    "                                     taxonomy = taxonomy.classification,\n",
    "                                     level = 6)"
   ]
  },
  {
   "cell_type": "code",
   "execution_count": null,
   "metadata": {},
   "outputs": [],
   "source": [
    "gut_table_l6_composition = composition.actions.add_pseudocount(gut_table_l6.collapsed_table)"
   ]
  },
  {
   "cell_type": "code",
   "execution_count": null,
   "metadata": {},
   "outputs": [],
   "source": [
    "ancom_gut_table_l6 = composition.actions.ancom(table = gut_table_l6_composition.composition_table,\n",
    "                                               metadata = sample_metadata.get_column('subject'))"
   ]
  },
  {
   "cell_type": "code",
   "execution_count": null,
   "metadata": {},
   "outputs": [],
   "source": [
    "ancom_gut_table_l6.visualization"
   ]
  },
  {
   "cell_type": "markdown",
   "metadata": {},
   "source": [
    ">Question 14: Which genera differ in abundance across subject? In which subject is each genus more abundant?"
   ]
  }
 ],
 "metadata": {
  "kernelspec": {
   "display_name": "Python 3 (ipykernel)",
   "language": "python",
   "name": "python3"
  },
  "language_info": {
   "codemirror_mode": {
    "name": "ipython",
    "version": 3
   },
   "file_extension": ".py",
   "mimetype": "text/x-python",
   "name": "python",
   "nbconvert_exporter": "python",
   "pygments_lexer": "ipython3",
   "version": "3.8.13"
  }
 },
 "nbformat": 4,
 "nbformat_minor": 4
}
