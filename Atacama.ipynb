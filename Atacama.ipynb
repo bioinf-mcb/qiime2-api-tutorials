{
 "cells": [
  {
   "cell_type": "markdown",
   "metadata": {},
   "source": [
    "# Atacama soil microbiome” tutorial"
   ]
  },
  {
   "cell_type": "markdown",
   "metadata": {},
   "source": [
<<<<<<< HEAD
<<<<<<< HEAD
    "**_note:_ This guide assumes you have QIIME 2 installed (e.g. using this [procedure](https://docs.qiime2.org/2019.10/install/native/)). To execute the script properly, open this notebook in a Jupyter Notebook from within a conda QIIME 2 environment.**\n",
    "\n",
    "**_note:_ This tutorial is an adaptation of the same tutorial that may be found on the [official QIIME 2 docs website](ing-pictures/). The original tutorial uses the QIIME 2 CLI interface.**\n",
    "\n",
    "Instead of CLI interface, this tutorial uses [Artifact API](https://docs.qiime2.org/2019.10/interfaces/artifact-api/) - a Python 3 application programmhttps://docs.qiime2.org/2019.10/tutorials/mover interface (API) for QIIME 2. The Artifact API supports interactive computing with QIIME 2 using the Python 3 programming language. The API is automatically generated, and its availability depends on which QIIME 2 plugins are currently installed. It has been optimized for use in the Jupyter Notebook. The Artifact API is a part of the QIIME 2 framework; no additional software needs to be installed to use it. \n",
    "\n",
    "**The notebook was tested using the ` 2020.2 ` version of QIIME 2.**\n",
    "\n",
    "## Before you start: close this notebook and Jupyter session, and run `jupyter serverextension enable --py qiime2 --sys-prefix`. Then, restart this notebook.\n",
    "\n"
   ]
  },
  {
   "cell_type": "markdown",
   "metadata": {},
   "source": [
=======
>>>>>>> 08b651d3cc8da8ae1472ae3a967ec13df5948e63
=======
>>>>>>> 08b651d3cc8da8ae1472ae3a967ec13df5948e63
    " This guide assumes you have QIIME 2 installed (e.g. using [this procedure](https://docs.qiime2.org/2020.2/install/native/)). To execute the script properly, open this notebook in a Jupyter Notebook from within a conda QIIME 2 environment."
   ]
  },
  {
   "cell_type": "markdown",
   "metadata": {},
   "source": [
    "This tutorial is designed to serve two purposes. First, it illustrates the initial processing steps of paired-end read analysis, up to the point where the analysis steps are identical to single-end read analysis. This includes the importing, demultiplexing, and denoising steps, and results in a feature table and the associated feature sequences. Second, this is intended to be a self-guided exercise that could be run after the [moving pictures tutorial](https://docs.qiime2.org/2020.2/tutorials/moving-pictures/) to gain more experience with QIIME 2. For this exercise, we provide some questions that can be used to guide your analysis, but do not provide commands that will allow you to address each. Instead, you should apply the commands that you learned in the [moving pictures tutorial](https://docs.qiime2.org/2020.2/tutorials/moving-pictures/).\n",
    "\n",
    "In this tutorial you’ll use QIIME 2 to perform an analysis of soil samples from the Atacama Desert in northern Chile. The Atacama Desert is one of the most arid locations on Earth, with some areas receiving less than a millimeter of rain per decade. Despite this extreme aridity, there are microbes living in the soil. The soil microbiomes profiled in this study follow two east-west transects, Baquedano and Yungay, across which average soil relative humidity is positively correlated with elevation (higher elevations are less arid and thus have higher average soil relative humidity). Along these transects, pits were dug at each site and soil samples were collected from three depths in each pit."
   ]
  },
  {
   "cell_type": "markdown",
   "metadata": {},
   "source": [
    "# Importing necessary modules"
   ]
  },
  {
   "cell_type": "code",
   "execution_count": 2,
   "metadata": {},
   "outputs": [],
   "source": [
    "import qiime2"
   ]
  },
  {
   "cell_type": "code",
   "execution_count": 3,
   "metadata": {},
   "outputs": [],
   "source": [
    "from qiime2.plugins import demux, dada2, metadata, feature_table"
   ]
  },
  {
<<<<<<< HEAD
<<<<<<< HEAD
=======
=======
>>>>>>> 08b651d3cc8da8ae1472ae3a967ec13df5948e63
   "cell_type": "code",
   "execution_count": 4,
   "metadata": {},
   "outputs": [],
   "source": [
    "from qiime2.plugins.demux.methods import emp_paired"
   ]
  },
  {
<<<<<<< HEAD
>>>>>>> 08b651d3cc8da8ae1472ae3a967ec13df5948e63
=======
>>>>>>> 08b651d3cc8da8ae1472ae3a967ec13df5948e63
   "cell_type": "markdown",
   "metadata": {},
   "source": [
    "# Creating a new directory\n",
    "\n",
    "Create a directory to work in called `qiime2-atacama-tutorial` and change to that directory:"
   ]
  },
  {
   "cell_type": "code",
<<<<<<< HEAD
<<<<<<< HEAD
   "execution_count": 1,
=======
   "execution_count": 5,
>>>>>>> 08b651d3cc8da8ae1472ae3a967ec13df5948e63
=======
   "execution_count": 5,
>>>>>>> 08b651d3cc8da8ae1472ae3a967ec13df5948e63
   "metadata": {},
   "outputs": [],
   "source": [
    "workdir='/path/to/your/directory/qiime2-atacama-tutorial/'"
   ]
  },
  {
   "cell_type": "code",
<<<<<<< HEAD
<<<<<<< HEAD
   "execution_count": 2,
   "metadata": {},
   "outputs": [
    {
     "name": "stdout",
     "output_type": "stream",
     "text": [
      "mkdir: cannot create directory ‘/path’: Permission denied\n",
      "/bin/sh: 1: cd: can't cd to /path/to/your/directory/qiime2-atacama-tutorial/\n"
     ]
    }
   ],
=======
   "execution_count": 56,
   "metadata": {},
   "outputs": [],
>>>>>>> 08b651d3cc8da8ae1472ae3a967ec13df5948e63
=======
   "execution_count": 56,
   "metadata": {},
   "outputs": [],
>>>>>>> 08b651d3cc8da8ae1472ae3a967ec13df5948e63
   "source": [
    "!mkdir -p $workdir\n",
    "!cd $workdir"
   ]
  },
  {
   "cell_type": "markdown",
   "metadata": {},
   "source": [
    "# Obtaining and importing data files"
   ]
  },
  {
   "cell_type": "markdown",
   "metadata": {},
   "source": [
    "Before starting the analysis, explore the [sample metadata](https://docs.google.com/spreadsheets/d/1AFtHGlLIHy4-hwAyAL0EQUMLvZtONK5bgZ0JSInSRYc/edit#gid=0) to familiarize yourself with the samples used in this study. The sample metadata is available as a Google Sheet. This `sample-metadata.tsv` file is used throughout the rest of the tutorial."
   ]
  },
  {
   "cell_type": "code",
<<<<<<< HEAD
<<<<<<< HEAD
   "execution_count": 3,
=======
   "execution_count": 57,
>>>>>>> 08b651d3cc8da8ae1472ae3a967ec13df5948e63
=======
   "execution_count": 57,
>>>>>>> 08b651d3cc8da8ae1472ae3a967ec13df5948e63
   "metadata": {
    "scrolled": true
   },
   "outputs": [
    {
     "name": "stdout",
     "output_type": "stream",
     "text": [
<<<<<<< HEAD
<<<<<<< HEAD
      "/path/to/your/directory/qiime2-atacama-tutorial//sample-metadata.tsv: No such file or directory\r\n"
=======
=======
>>>>>>> 08b651d3cc8da8ae1472ae3a967ec13df5948e63
      "--2020-06-03 20:18:52--  https://data.qiime2.org/2020.2/tutorials/atacama-soils/sample_metadata.tsv\n",
      "Resolving data.qiime2.org (data.qiime2.org)... 52.35.38.247\n",
      "Connecting to data.qiime2.org (data.qiime2.org)|52.35.38.247|:443... connected.\n",
      "HTTP request sent, awaiting response... 302 FOUND\n",
      "Location: https://docs.google.com/spreadsheets/d/1AFtHGlLIHy4-hwAyAL0EQUMLvZtONK5bgZ0JSInSRYc/export?gid=0&format=tsv [following]\n",
      "--2020-06-03 20:18:53--  https://docs.google.com/spreadsheets/d/1AFtHGlLIHy4-hwAyAL0EQUMLvZtONK5bgZ0JSInSRYc/export?gid=0&format=tsv\n",
      "Resolving docs.google.com (docs.google.com)... 216.58.209.14, 2a00:1450:401b:808::200e\n",
      "Connecting to docs.google.com (docs.google.com)|216.58.209.14|:443... connected.\n",
      "HTTP request sent, awaiting response... 200 OK\n",
      "Length: unspecified [text/tab-separated-values]\n",
      "Saving to: ‘/home/user/Documents/qiime2-atacama-tutorial//sample-metadata.tsv’\n",
      "\n",
      "/home/user/Document     [ <=>                ]   9.21K  --.-KB/s    in 0.003s  \n",
      "\n",
      "2020-06-03 20:18:53 (3.05 MB/s) - ‘/home/user/Documents/qiime2-atacama-tutorial//sample-metadata.tsv’ saved [9433]\n",
      "\n"
<<<<<<< HEAD
>>>>>>> 08b651d3cc8da8ae1472ae3a967ec13df5948e63
=======
>>>>>>> 08b651d3cc8da8ae1472ae3a967ec13df5948e63
     ]
    }
   ],
   "source": [
    "!wget -O $workdir/\"sample-metadata.tsv\" \\\n",
    "  \"https://data.qiime2.org/2020.2/tutorials/atacama-soils/sample_metadata.tsv\""
   ]
  },
  {
   "cell_type": "markdown",
   "metadata": {},
   "source": [
    "Next, you’ll download the multiplexed reads. You will download three `fastq.gz` files, corresponding to the forward, reverse, and barcode (i.e., index) reads. These files contain a subset of the reads in the full data set generated for this study, which allows for the following commands to be run relatively quickly. If you are only planning to run through the commands presented here to get experience with the first steps of paired-end read analysis, you can use the 1% subsample data set so that the commands will run quickly. If you’re planning to work through the questions presented at the end of this document to gain more experience with QIIME analysis and data interpretation, you should use the 10% subsample data set so that the analysis results will be supported by more sequence data."
   ]
  },
  {
   "cell_type": "markdown",
   "metadata": {},
   "source": [
<<<<<<< HEAD
<<<<<<< HEAD
    "\n",
    "\n",
    "All data that is used as input to QIIME 2 is in form of QIIME 2 artifacts, which contain information about the type of data and the source of the data. So, the first thing we need to do is import these sequence data files into a QIIME 2 artifact of type `EMPPairedEndSequences`"
=======
    "All data that is used as input to QIIME 2 is in form of QIIME 2 artifacts, which contain information about the type of data and the source of the data. The first thing we need to do is import these sequence data files into a QIIME 2 artifact."
>>>>>>> 08b651d3cc8da8ae1472ae3a967ec13df5948e63
=======
    "All data that is used as input to QIIME 2 is in form of QIIME 2 artifacts, which contain information about the type of data and the source of the data. The first thing we need to do is import these sequence data files into a QIIME 2 artifact."
>>>>>>> 08b651d3cc8da8ae1472ae3a967ec13df5948e63
   ]
  },
  {
   "cell_type": "markdown",
   "metadata": {},
   "source": [
    "# Importing metadata as a qiime2 artifact"
   ]
  },
  {
   "cell_type": "markdown",
   "metadata": {},
   "source": [
<<<<<<< HEAD
<<<<<<< HEAD
    "To analyze these data, the sequences that you just downloaded must first be imported into an artifact of type `EMPPairedEndSequences`.\\n"
=======
    "All data that is used as input to QIIME 2 is in form of QIIME 2 artifacts, which contain information about the type of data and the source of the data. So, the first thing we need to do is import these sequence data files into a QIIME 2 artifact."
>>>>>>> 08b651d3cc8da8ae1472ae3a967ec13df5948e63
=======
    "All data that is used as input to QIIME 2 is in form of QIIME 2 artifacts, which contain information about the type of data and the source of the data. So, the first thing we need to do is import these sequence data files into a QIIME 2 artifact."
>>>>>>> 08b651d3cc8da8ae1472ae3a967ec13df5948e63
   ]
  },
  {
   "cell_type": "code",
<<<<<<< HEAD
<<<<<<< HEAD
   "execution_count": 19,
   "metadata": {},
   "outputs": [
    {
     "ename": "NameError",
     "evalue": "name 'qiime2' is not defined",
     "output_type": "error",
     "traceback": [
      "\u001b[0;31m---------------------------------------------------------------------------\u001b[0m",
      "\u001b[0;31mNameError\u001b[0m                                 Traceback (most recent call last)",
      "\u001b[0;32m<ipython-input-19-5344addc24d5>\u001b[0m in \u001b[0;36m<module>\u001b[0;34m\u001b[0m\n\u001b[0;32m----> 1\u001b[0;31m \u001b[0msample_metadata\u001b[0m \u001b[0;34m=\u001b[0m \u001b[0mqiime2\u001b[0m\u001b[0;34m.\u001b[0m\u001b[0mMetadata\u001b[0m\u001b[0;34m.\u001b[0m\u001b[0mload\u001b[0m\u001b[0;34m(\u001b[0m\u001b[0mworkdir\u001b[0m\u001b[0;34m+\u001b[0m\u001b[0;34m'/sample-metadata.tsv'\u001b[0m\u001b[0;34m)\u001b[0m\u001b[0;34m\u001b[0m\u001b[0;34m\u001b[0m\u001b[0m\n\u001b[0m",
      "\u001b[0;31mNameError\u001b[0m: name 'qiime2' is not defined"
     ]
    }
   ],
=======
   "execution_count": 6,
   "metadata": {},
   "outputs": [],
>>>>>>> 08b651d3cc8da8ae1472ae3a967ec13df5948e63
=======
   "execution_count": 6,
   "metadata": {},
   "outputs": [],
>>>>>>> 08b651d3cc8da8ae1472ae3a967ec13df5948e63
   "source": [
    "sample_metadata = qiime2.Metadata.load(workdir+'/sample-metadata.tsv')"
   ]
  },
  {
   "cell_type": "markdown",
   "metadata": {},
   "source": [
    "# 1% subsample data"
   ]
  },
  {
   "cell_type": "markdown",
   "metadata": {},
   "source": [
    "Create a directory to work in called `emp-paired-end-sequences` and change to that directory:"
   ]
  },
  {
   "cell_type": "code",
<<<<<<< HEAD
<<<<<<< HEAD
   "execution_count": 20,
   "metadata": {},
   "outputs": [
    {
     "name": "stdout",
     "output_type": "stream",
     "text": [
      "mkdir: cannot create directory ‘/path/to/your/directory/qiime2-atacama-tutorial//emp-paired-end-sequences’: No such file or directory\r\n"
     ]
    }
   ],
=======
   "execution_count": 64,
   "metadata": {},
   "outputs": [],
>>>>>>> 08b651d3cc8da8ae1472ae3a967ec13df5948e63
=======
   "execution_count": 64,
   "metadata": {},
   "outputs": [],
>>>>>>> 08b651d3cc8da8ae1472ae3a967ec13df5948e63
   "source": [
    "!mkdir $workdir/emp-paired-end-sequences"
   ]
  },
  {
   "cell_type": "code",
<<<<<<< HEAD
<<<<<<< HEAD
   "execution_count": 21,
=======
   "execution_count": 68,
>>>>>>> 08b651d3cc8da8ae1472ae3a967ec13df5948e63
=======
   "execution_count": 68,
>>>>>>> 08b651d3cc8da8ae1472ae3a967ec13df5948e63
   "metadata": {},
   "outputs": [
    {
     "name": "stdout",
     "output_type": "stream",
     "text": [
<<<<<<< HEAD
<<<<<<< HEAD
      "/path/to/your/directory/qiime2-atacama-tutorial//emp-paired-end-sequences/forward.fastq.gz: No such file or directory\r\n"
=======
=======
>>>>>>> 08b651d3cc8da8ae1472ae3a967ec13df5948e63
      "--2020-06-03 20:21:56--  https://data.qiime2.org/2020.2/tutorials/atacama-soils/1p/forward.fastq.gz\n",
      "Resolving data.qiime2.org (data.qiime2.org)... 52.35.38.247\n",
      "Connecting to data.qiime2.org (data.qiime2.org)|52.35.38.247|:443... connected.\n",
      "HTTP request sent, awaiting response... 302 FOUND\n",
      "Location: https://s3-us-west-2.amazonaws.com/qiime2-data/2020.2/tutorials/atacama-soils/1p/forward.fastq.gz [following]\n",
      "--2020-06-03 20:21:57--  https://s3-us-west-2.amazonaws.com/qiime2-data/2020.2/tutorials/atacama-soils/1p/forward.fastq.gz\n",
      "Resolving s3-us-west-2.amazonaws.com (s3-us-west-2.amazonaws.com)... 52.218.212.240\n",
      "Connecting to s3-us-west-2.amazonaws.com (s3-us-west-2.amazonaws.com)|52.218.212.240|:443... connected.\n",
      "HTTP request sent, awaiting response... 200 OK\n",
      "Length: 14579008 (14M) [binary/octet-stream]\n",
      "Saving to: ‘/home/user/Documents/qiime2-atacama-tutorial//emp-paired-end-sequences/forward.fastq.gz’\n",
      "\n",
      "/home/user/Document 100%[===================>]  13.90M  1.92MB/s    in 8.9s    \n",
      "\n",
      "2020-06-03 20:22:07 (1.55 MB/s) - ‘/home/user/Documents/qiime2-atacama-tutorial//emp-paired-end-sequences/forward.fastq.gz’ saved [14579008/14579008]\n",
      "\n"
<<<<<<< HEAD
>>>>>>> 08b651d3cc8da8ae1472ae3a967ec13df5948e63
=======
>>>>>>> 08b651d3cc8da8ae1472ae3a967ec13df5948e63
     ]
    }
   ],
   "source": [
    "!wget -O $workdir/\"emp-paired-end-sequences/forward.fastq.gz\" \"https://data.qiime2.org/2020.2/tutorials/atacama-soils/1p/forward.fastq.gz\""
   ]
  },
  {
   "cell_type": "code",
<<<<<<< HEAD
<<<<<<< HEAD
   "execution_count": 22,
=======
   "execution_count": 70,
>>>>>>> 08b651d3cc8da8ae1472ae3a967ec13df5948e63
=======
   "execution_count": 70,
>>>>>>> 08b651d3cc8da8ae1472ae3a967ec13df5948e63
   "metadata": {},
   "outputs": [
    {
     "name": "stdout",
     "output_type": "stream",
     "text": [
<<<<<<< HEAD
<<<<<<< HEAD
      "/path/to/your/directory/qiime2-atacama-tutorial//emp-paired-end-sequences/reverse.fastq.gz: No such file or directory\r\n"
=======
=======
>>>>>>> 08b651d3cc8da8ae1472ae3a967ec13df5948e63
      "--2020-06-03 20:23:43--  https://data.qiime2.org/2020.2/tutorials/atacama-soils/1p/reverse.fastq.gz\n",
      "Resolving data.qiime2.org (data.qiime2.org)... 52.35.38.247\n",
      "Connecting to data.qiime2.org (data.qiime2.org)|52.35.38.247|:443... connected.\n",
      "HTTP request sent, awaiting response... 302 FOUND\n",
      "Location: https://s3-us-west-2.amazonaws.com/qiime2-data/2020.2/tutorials/atacama-soils/1p/reverse.fastq.gz [following]\n",
      "--2020-06-03 20:23:44--  https://s3-us-west-2.amazonaws.com/qiime2-data/2020.2/tutorials/atacama-soils/1p/reverse.fastq.gz\n",
      "Resolving s3-us-west-2.amazonaws.com (s3-us-west-2.amazonaws.com)... 52.218.196.32\n",
      "Connecting to s3-us-west-2.amazonaws.com (s3-us-west-2.amazonaws.com)|52.218.196.32|:443... connected.\n",
      "HTTP request sent, awaiting response... 200 OK\n",
      "Length: 16296324 (16M) [binary/octet-stream]\n",
      "Saving to: ‘/home/user/Documents/qiime2-atacama-tutorial//emp-paired-end-sequences/reverse.fastq.gz’\n",
      "\n",
      "/home/user/Document 100%[===================>]  15.54M  1.53MB/s    in 11s     \n",
      "\n",
      "2020-06-03 20:23:56 (1.40 MB/s) - ‘/home/user/Documents/qiime2-atacama-tutorial//emp-paired-end-sequences/reverse.fastq.gz’ saved [16296324/16296324]\n",
      "\n"
<<<<<<< HEAD
>>>>>>> 08b651d3cc8da8ae1472ae3a967ec13df5948e63
=======
>>>>>>> 08b651d3cc8da8ae1472ae3a967ec13df5948e63
     ]
    }
   ],
   "source": [
    "!wget -O $workdir/\"emp-paired-end-sequences/reverse.fastq.gz\" \\\n",
    "  \"https://data.qiime2.org/2020.2/tutorials/atacama-soils/1p/reverse.fastq.gz\""
   ]
  },
  {
   "cell_type": "code",
<<<<<<< HEAD
<<<<<<< HEAD
   "execution_count": 8,
=======
   "execution_count": 69,
>>>>>>> 08b651d3cc8da8ae1472ae3a967ec13df5948e63
=======
   "execution_count": 69,
>>>>>>> 08b651d3cc8da8ae1472ae3a967ec13df5948e63
   "metadata": {},
   "outputs": [
    {
     "name": "stdout",
     "output_type": "stream",
     "text": [
<<<<<<< HEAD
<<<<<<< HEAD
      "/path/to/your/directory/qiime2-atacama-tutorial//emp-paired-end-sequences/barcodes.fastq.gz: No such file or directory\r\n"
=======
=======
>>>>>>> 08b651d3cc8da8ae1472ae3a967ec13df5948e63
      "--2020-06-03 20:22:26--  https://data.qiime2.org/2020.2/tutorials/atacama-soils/1p/barcodes.fastq.gz\n",
      "Resolving data.qiime2.org (data.qiime2.org)... 52.35.38.247\n",
      "Connecting to data.qiime2.org (data.qiime2.org)|52.35.38.247|:443... connected.\n",
      "HTTP request sent, awaiting response... 302 FOUND\n",
      "Location: https://s3-us-west-2.amazonaws.com/qiime2-data/2020.2/tutorials/atacama-soils/1p/barcodes.fastq.gz [following]\n",
      "--2020-06-03 20:22:27--  https://s3-us-west-2.amazonaws.com/qiime2-data/2020.2/tutorials/atacama-soils/1p/barcodes.fastq.gz\n",
      "Resolving s3-us-west-2.amazonaws.com (s3-us-west-2.amazonaws.com)... 52.218.249.152\n",
      "Connecting to s3-us-west-2.amazonaws.com (s3-us-west-2.amazonaws.com)|52.218.249.152|:443... connected.\n",
      "HTTP request sent, awaiting response... 200 OK\n",
      "Length: 2105968 (2.0M) [binary/octet-stream]\n",
      "Saving to: ‘/home/user/Documents/qiime2-atacama-tutorial//emp-paired-end-sequences/barcodes.fastq.gz’\n",
      "\n",
      "/home/user/Document 100%[===================>]   2.01M   953KB/s    in 2.2s    \n",
      "\n",
      "2020-06-03 20:22:30 (953 KB/s) - ‘/home/user/Documents/qiime2-atacama-tutorial//emp-paired-end-sequences/barcodes.fastq.gz’ saved [2105968/2105968]\n",
      "\n"
<<<<<<< HEAD
>>>>>>> 08b651d3cc8da8ae1472ae3a967ec13df5948e63
=======
>>>>>>> 08b651d3cc8da8ae1472ae3a967ec13df5948e63
     ]
    }
   ],
   "source": [
    "!wget -O $workdir/\"emp-paired-end-sequences/barcodes.fastq.gz\" \\\n",
    "  \"https://data.qiime2.org/2020.2/tutorials/atacama-soils/1p/barcodes.fastq.gz\""
   ]
  },
  {
   "cell_type": "markdown",
   "metadata": {},
   "source": [
    "# 10% subsample data"
   ]
  },
  {
   "cell_type": "markdown",
   "metadata": {},
   "source": [
    "Create a directory to work in called `emp-paired-end-sequences` and change to that directory:"
   ]
  },
  {
   "cell_type": "code",
<<<<<<< HEAD
<<<<<<< HEAD
   "execution_count": 9,
   "metadata": {},
   "outputs": [
    {
     "name": "stdout",
     "output_type": "stream",
     "text": [
      "mkdir: cannot create directory ‘/path/to/your/directory/qiime2-atacama-tutorial//emp-paired-end-sequences’: No such file or directory\r\n"
     ]
    }
   ],
=======
   "execution_count": null,
   "metadata": {},
   "outputs": [],
>>>>>>> 08b651d3cc8da8ae1472ae3a967ec13df5948e63
=======
   "execution_count": null,
   "metadata": {},
   "outputs": [],
>>>>>>> 08b651d3cc8da8ae1472ae3a967ec13df5948e63
   "source": [
    "!mkdir $workdir/emp-paired-end-sequences"
   ]
  },
  {
   "cell_type": "code",
<<<<<<< HEAD
<<<<<<< HEAD
   "execution_count": 10,
=======
   "execution_count": 71,
>>>>>>> 08b651d3cc8da8ae1472ae3a967ec13df5948e63
=======
   "execution_count": 71,
>>>>>>> 08b651d3cc8da8ae1472ae3a967ec13df5948e63
   "metadata": {},
   "outputs": [
    {
     "name": "stdout",
     "output_type": "stream",
     "text": [
<<<<<<< HEAD
<<<<<<< HEAD
      "/path/to/your/directory/qiime2-atacama-tutorial//emp-paired-end-sequences/forward.fastq.gz: No such file or directory\r\n"
=======
=======
>>>>>>> 08b651d3cc8da8ae1472ae3a967ec13df5948e63
      "--2020-06-03 20:25:16--  https://data.qiime2.org/2020.2/tutorials/atacama-soils/10p/forward.fastq.gz\n",
      "Resolving data.qiime2.org (data.qiime2.org)... 52.35.38.247\n",
      "Connecting to data.qiime2.org (data.qiime2.org)|52.35.38.247|:443... connected.\n",
      "HTTP request sent, awaiting response... 302 FOUND\n",
      "Location: https://s3-us-west-2.amazonaws.com/qiime2-data/2020.2/tutorials/atacama-soils/10p/forward.fastq.gz [following]\n",
      "--2020-06-03 20:25:17--  https://s3-us-west-2.amazonaws.com/qiime2-data/2020.2/tutorials/atacama-soils/10p/forward.fastq.gz\n",
      "Resolving s3-us-west-2.amazonaws.com (s3-us-west-2.amazonaws.com)... 52.218.144.64\n",
      "Connecting to s3-us-west-2.amazonaws.com (s3-us-west-2.amazonaws.com)|52.218.144.64|:443... connected.\n",
      "HTTP request sent, awaiting response... 200 OK\n",
      "Length: 143193967 (137M) [binary/octet-stream]\n",
      "Saving to: ‘/home/user/Documents/qiime2-atacama-tutorial//emp-paired-end-sequences/forward.fastq.gz’\n",
      "\n",
      "/user/Documents/qii  40%[=======>            ]  55.00M  4.97MB/s    eta 40s    ^C\n"
<<<<<<< HEAD
>>>>>>> 08b651d3cc8da8ae1472ae3a967ec13df5948e63
=======
>>>>>>> 08b651d3cc8da8ae1472ae3a967ec13df5948e63
     ]
    }
   ],
   "source": [
    "!wget -O $workdir/\"emp-paired-end-sequences/forward.fastq.gz\" \\\n",
    "  \"https://data.qiime2.org/2020.2/tutorials/atacama-soils/10p/forward.fastq.gz\""
   ]
  },
  {
   "cell_type": "code",
<<<<<<< HEAD
<<<<<<< HEAD
   "execution_count": 11,
=======
   "execution_count": 73,
>>>>>>> 08b651d3cc8da8ae1472ae3a967ec13df5948e63
=======
   "execution_count": 73,
>>>>>>> 08b651d3cc8da8ae1472ae3a967ec13df5948e63
   "metadata": {},
   "outputs": [
    {
     "name": "stdout",
     "output_type": "stream",
     "text": [
<<<<<<< HEAD
<<<<<<< HEAD
      "/path/to/your/directory/qiime2-atacama-tutorial//emp-paired-end-sequences/reverse.fastq.gz: No such file or directory\r\n"
=======
=======
>>>>>>> 08b651d3cc8da8ae1472ae3a967ec13df5948e63
      "--2020-06-03 20:54:18--  https://data.qiime2.org/2020.2/tutorials/atacama-soils/10p/reverse.fastq.gz\n",
      "Resolving data.qiime2.org (data.qiime2.org)... 52.35.38.247\n",
      "Connecting to data.qiime2.org (data.qiime2.org)|52.35.38.247|:443... connected.\n",
      "HTTP request sent, awaiting response... 302 FOUND\n",
      "Location: https://s3-us-west-2.amazonaws.com/qiime2-data/2020.2/tutorials/atacama-soils/10p/reverse.fastq.gz [following]\n",
      "--2020-06-03 20:54:18--  https://s3-us-west-2.amazonaws.com/qiime2-data/2020.2/tutorials/atacama-soils/10p/reverse.fastq.gz\n",
      "Resolving s3-us-west-2.amazonaws.com (s3-us-west-2.amazonaws.com)... 52.218.184.152\n",
      "Connecting to s3-us-west-2.amazonaws.com (s3-us-west-2.amazonaws.com)|52.218.184.152|:443... connected.\n",
      "HTTP request sent, awaiting response... 200 OK\n",
      "Length: 161032441 (154M) [binary/octet-stream]\n",
      "Saving to: ‘/home/user/Documents/qiime2-atacama-tutorial//emp-paired-end-sequences/reverse.fastq.gz’\n",
      "\n",
      "      /home/user/Do   0%[                    ] 255.00K   308KB/s               ^C\n"
<<<<<<< HEAD
>>>>>>> 08b651d3cc8da8ae1472ae3a967ec13df5948e63
=======
>>>>>>> 08b651d3cc8da8ae1472ae3a967ec13df5948e63
     ]
    }
   ],
   "source": [
    "!wget -O $workdir/\"emp-paired-end-sequences/reverse.fastq.gz\" \\\n",
    "  \"https://data.qiime2.org/2020.2/tutorials/atacama-soils/10p/reverse.fastq.gz\""
   ]
  },
  {
   "cell_type": "code",
<<<<<<< HEAD
<<<<<<< HEAD
   "execution_count": 12,
=======
   "execution_count": 74,
>>>>>>> 08b651d3cc8da8ae1472ae3a967ec13df5948e63
=======
   "execution_count": 74,
>>>>>>> 08b651d3cc8da8ae1472ae3a967ec13df5948e63
   "metadata": {},
   "outputs": [
    {
     "name": "stdout",
     "output_type": "stream",
     "text": [
<<<<<<< HEAD
<<<<<<< HEAD
      "/path/to/your/directory/qiime2-atacama-tutorial//emp-paired-end-sequences/barcodes.fastq.gz: No such file or directory\r\n"
=======
=======
>>>>>>> 08b651d3cc8da8ae1472ae3a967ec13df5948e63
      "--2020-06-03 20:54:22--  https://data.qiime2.org/2020.2/tutorials/atacama-soils/10p/barcodes.fastq.gz\n",
      "Resolving data.qiime2.org (data.qiime2.org)... 52.35.38.247\n",
      "Connecting to data.qiime2.org (data.qiime2.org)|52.35.38.247|:443... connected.\n",
      "HTTP request sent, awaiting response... 302 FOUND\n",
      "Location: https://s3-us-west-2.amazonaws.com/qiime2-data/2020.2/tutorials/atacama-soils/10p/barcodes.fastq.gz [following]\n",
      "--2020-06-03 20:54:23--  https://s3-us-west-2.amazonaws.com/qiime2-data/2020.2/tutorials/atacama-soils/10p/barcodes.fastq.gz\n",
      "Resolving s3-us-west-2.amazonaws.com (s3-us-west-2.amazonaws.com)... 52.218.184.152\n",
      "Connecting to s3-us-west-2.amazonaws.com (s3-us-west-2.amazonaws.com)|52.218.184.152|:443... connected.\n",
      "HTTP request sent, awaiting response... 200 OK\n",
      "Length: 19976093 (19M) [binary/octet-stream]\n",
      "Saving to: ‘/home/user/Documents/qiime2-atacama-tutorial//emp-paired-end-sequences/barcodes.fastq.gz’\n",
      "\n",
      "        /home/user/   0%[                    ]  58.64K   130KB/s               ^C\n"
<<<<<<< HEAD
>>>>>>> 08b651d3cc8da8ae1472ae3a967ec13df5948e63
=======
>>>>>>> 08b651d3cc8da8ae1472ae3a967ec13df5948e63
     ]
    }
   ],
   "source": [
    "!wget -O $workdir/\"emp-paired-end-sequences/barcodes.fastq.gz\" \\\n",
    "  \"https://data.qiime2.org/2020.2/tutorials/atacama-soils/10p/barcodes.fastq.gz\""
   ]
  },
  {
   "cell_type": "markdown",
   "metadata": {},
   "source": [
    "# Importing data as a qiime2 artifact\n"
   ]
  },
  {
   "cell_type": "markdown",
   "metadata": {},
   "source": [
<<<<<<< HEAD
<<<<<<< HEAD
    "All data that is used as input to QIIME 2 is in form of QIIME 2 artifacts, which contain information about the type of data and the source of the data. So, the first thing we need to do is import these sequence data files into a QIIME 2 artifact of type `EMPPairedEndSequences`.\n"
=======
    "All data that is used as input to QIIME 2 is in form of QIIME 2 artifacts, which contain information about the type of data and the source of the data. So, the first thing we need to do is import these sequence data files into a QIIME 2 artifact.\n"
>>>>>>> 08b651d3cc8da8ae1472ae3a967ec13df5948e63
=======
    "All data that is used as input to QIIME 2 is in form of QIIME 2 artifacts, which contain information about the type of data and the source of the data. So, the first thing we need to do is import these sequence data files into a QIIME 2 artifact.\n"
>>>>>>> 08b651d3cc8da8ae1472ae3a967ec13df5948e63
   ]
  },
  {
   "cell_type": "code",
<<<<<<< HEAD
<<<<<<< HEAD
   "execution_count": 13,
   "metadata": {},
   "outputs": [
    {
     "ename": "NameError",
     "evalue": "name 'qiime2' is not defined",
     "output_type": "error",
     "traceback": [
      "\u001b[0;31m---------------------------------------------------------------------------\u001b[0m",
      "\u001b[0;31mNameError\u001b[0m                                 Traceback (most recent call last)",
      "\u001b[0;32m<ipython-input-13-af15bb0e5488>\u001b[0m in \u001b[0;36m<module>\u001b[0;34m\u001b[0m\n\u001b[0;32m----> 1\u001b[0;31m \u001b[0mpaired_end_sequences\u001b[0m \u001b[0;34m=\u001b[0m \u001b[0mqiime2\u001b[0m\u001b[0;34m.\u001b[0m\u001b[0mArtifact\u001b[0m\u001b[0;34m.\u001b[0m\u001b[0mimport_data\u001b[0m\u001b[0;34m(\u001b[0m\u001b[0;34m'EMPPairedEndSequences'\u001b[0m\u001b[0;34m,\u001b[0m \u001b[0mworkdir\u001b[0m\u001b[0;34m+\u001b[0m\u001b[0;34m'/emp-paired-end-sequences/'\u001b[0m\u001b[0;34m)\u001b[0m\u001b[0;34m\u001b[0m\u001b[0;34m\u001b[0m\u001b[0m\n\u001b[0m",
      "\u001b[0;31mNameError\u001b[0m: name 'qiime2' is not defined"
     ]
    }
   ],
=======
   "execution_count": 7,
   "metadata": {},
   "outputs": [],
>>>>>>> 08b651d3cc8da8ae1472ae3a967ec13df5948e63
=======
   "execution_count": 7,
   "metadata": {},
   "outputs": [],
>>>>>>> 08b651d3cc8da8ae1472ae3a967ec13df5948e63
   "source": [
    "paired_end_sequences = qiime2.Artifact.import_data('EMPPairedEndSequences', workdir+'/emp-paired-end-sequences/')"
   ]
  },
  {
   "cell_type": "markdown",
   "metadata": {},
   "source": [
    "# Paired-end read analysis commands"
   ]
  },
  {
   "cell_type": "markdown",
   "metadata": {},
   "source": [
    "You next can demultiplex the sequence reads. This requires the sample metadata file, and you must indicate which column in that file contains the per-sample barcodes. In this case, that column name is `barcode-sequence`. In this data set, the barcode reads are the reverse complement of those included in the sample metadata file, so we additionally include the `rev_comp_mapping_barcodes` parameter. \n",
    "\n",
    "After demultiplexing, we can generate and view a summary of how many sequences were obtained per sample."
   ]
  },
  {
   "cell_type": "code",
<<<<<<< HEAD
<<<<<<< HEAD
   "execution_count": 14,
   "metadata": {},
   "outputs": [
    {
     "ename": "NameError",
     "evalue": "name 'demux' is not defined",
     "output_type": "error",
     "traceback": [
      "\u001b[0;31m---------------------------------------------------------------------------\u001b[0m",
      "\u001b[0;31mNameError\u001b[0m                                 Traceback (most recent call last)",
      "\u001b[0;32m<ipython-input-14-147b95491e93>\u001b[0m in \u001b[0;36m<module>\u001b[0;34m\u001b[0m\n\u001b[0;32m----> 1\u001b[0;31m demux_sequences = demux.methods.emp_paired(paired_end_sequences,\n\u001b[0m\u001b[1;32m      2\u001b[0m                                            \u001b[0msample_metadata\u001b[0m\u001b[0;34m.\u001b[0m\u001b[0mget_column\u001b[0m\u001b[0;34m(\u001b[0m\u001b[0;34m'barcode-sequence'\u001b[0m\u001b[0;34m)\u001b[0m\u001b[0;34m,\u001b[0m\u001b[0;34m\u001b[0m\u001b[0;34m\u001b[0m\u001b[0m\n\u001b[1;32m      3\u001b[0m                                            rev_comp_mapping_barcodes=True)\n",
      "\u001b[0;31mNameError\u001b[0m: name 'demux' is not defined"
     ]
    }
   ],
=======
   "execution_count": 10,
   "metadata": {},
   "outputs": [],
>>>>>>> 08b651d3cc8da8ae1472ae3a967ec13df5948e63
=======
   "execution_count": 10,
   "metadata": {},
   "outputs": [],
>>>>>>> 08b651d3cc8da8ae1472ae3a967ec13df5948e63
   "source": [
    "demux_sequences = demux.methods.emp_paired(paired_end_sequences,\n",
    "                                           sample_metadata.get_column('barcode-sequence'),\n",
    "                                           rev_comp_mapping_barcodes=True)"
   ]
  },
  {
   "cell_type": "code",
<<<<<<< HEAD
<<<<<<< HEAD
   "execution_count": 15,
   "metadata": {},
   "outputs": [
    {
     "ename": "NameError",
     "evalue": "name 'demux' is not defined",
     "output_type": "error",
     "traceback": [
      "\u001b[0;31m---------------------------------------------------------------------------\u001b[0m",
      "\u001b[0;31mNameError\u001b[0m                                 Traceback (most recent call last)",
      "\u001b[0;32m<ipython-input-15-0602bbd15c30>\u001b[0m in \u001b[0;36m<module>\u001b[0;34m\u001b[0m\n\u001b[0;32m----> 1\u001b[0;31m \u001b[0mdemux_summary\u001b[0m \u001b[0;34m=\u001b[0m \u001b[0mdemux\u001b[0m\u001b[0;34m.\u001b[0m\u001b[0mvisualizers\u001b[0m\u001b[0;34m.\u001b[0m\u001b[0msummarize\u001b[0m\u001b[0;34m(\u001b[0m\u001b[0mdemux_sequences\u001b[0m\u001b[0;34m.\u001b[0m\u001b[0mper_sample_sequences\u001b[0m\u001b[0;34m)\u001b[0m\u001b[0;34m\u001b[0m\u001b[0;34m\u001b[0m\u001b[0m\n\u001b[0m\u001b[1;32m      2\u001b[0m \u001b[0mdemux_summary\u001b[0m\u001b[0;34m.\u001b[0m\u001b[0mvisualization\u001b[0m\u001b[0;34m\u001b[0m\u001b[0;34m\u001b[0m\u001b[0m\n",
      "\u001b[0;31mNameError\u001b[0m: name 'demux' is not defined"
     ]
=======
=======
>>>>>>> 08b651d3cc8da8ae1472ae3a967ec13df5948e63
   "execution_count": 158,
   "metadata": {},
   "outputs": [
    {
     "data": {
      "text/html": [
       "<div><img onload=\"(function(div, url){\n",
       "if (typeof require !== 'undefined') {\n",
       "    var baseURL = require.toUrl('').split('/').slice(0, -2).join('/');\n",
       "} else {\n",
       "    var baseURL = JSON.parse(\n",
       "        document.getElementById('jupyter-config-data').innerHTML\n",
       "    ).baseUrl.slice(0, -1);\n",
       "}\n",
       "url = baseURL + url;\n",
       "fetch(url).then(function(res) {\n",
       "    if (res.status === 404) {\n",
       "        div.innerHTML = 'Install QIIME 2 Jupyter extension with:<br />' +\n",
       "                        '<code>jupyter serverextension enable --py qiime2' +\n",
       "                        ' --sys-prefix</code><br />then restart your server.' +\n",
       "                        '<br /><br />(Interactive output not available on ' +\n",
       "                        'static notebook viewer services like nbviewer.)';\n",
       "    } else if (res.status === 409) {\n",
       "        div.innerHTML = 'Visualization no longer in scope. Re-run this cell' +\n",
       "                        ' to see the visualization.';\n",
       "    } else if (res.ok) {\n",
       "        url = res.url;\n",
       "        div.innerHTML = '<iframe src=\\'' + url + '\\' style=\\'' +\n",
       "                        'width: 100%; height: 700px; border: 0;\\'>' +\n",
       "                        '</iframe><hr />Open in a: <a href=\\'' + url + '\\'' +\n",
       "                        ' target=\\'_blank\\'>new window</a>'\n",
       "    } else {\n",
       "        div.innerHTML = 'Something has gone wrong. Check notebook server for' +\n",
       "                        ' errors.';\n",
       "    }\n",
       "});\n",
       "})(this.parentElement, '/qiime2/redirect?location=/tmp/qiime2-archive-_ktq0dce')\" src=\"data:image/gif;base64,R0lGODlhAQABAIAAAP///wAAACH5BAEAAAAALAAAAAABAAEAAAICRAEAOw==\" /></div>"
      ],
      "text/plain": [
       "<visualization: Visualization uuid: 08cb4521-307c-4a6c-82a7-3c9a962460c6>"
      ]
     },
     "execution_count": 158,
     "metadata": {},
     "output_type": "execute_result"
<<<<<<< HEAD
>>>>>>> 08b651d3cc8da8ae1472ae3a967ec13df5948e63
=======
>>>>>>> 08b651d3cc8da8ae1472ae3a967ec13df5948e63
    }
   ],
   "source": [
    "demux_summary = demux.visualizers.summarize(demux_sequences.per_sample_sequences)\n",
    "demux_summary.visualization"
   ]
  },
  {
   "cell_type": "markdown",
   "metadata": {},
   "source": [
    "After demultiplexing reads, we’ll look at the sequence quality based on ten-thousand randomly selected reads, and then denoise the data. When you view the quality plots, note that in contrast to the corresponding plots in the [moving pictures tutorial](https://docs.qiime2.org/2020.2/tutorials/moving-pictures/), there are now two interactive plots to be considered together. The plot on the left presents the quality scores for the forward reads, and the plot on the right presents the quality scores for the reverse reads. We’ll use these plots to determine what trimming parameters we want to use for denoising with [DADA2](https://www.ncbi.nlm.nih.gov/pubmed/27214047), and then denoise the reads using dada2 denoise-paired.\n",
    "\n",
    "In this example we have 150-base forward and reverse reads. Since we need the reads to be long enough to overlap when joining paired ends, the first thirteen bases of the forward and reverse reads are being trimmed, but no trimming is being applied to the ends of the sequences to avoid reducing the read length by too much. In this example, the same values are being provided for `trim_left_f` and `trim_left_r` and for `trunc_len_f` and `p_trunc_len_r`, but that is not a requirement."
   ]
  },
  {
   "cell_type": "code",
<<<<<<< HEAD
<<<<<<< HEAD
   "execution_count": 16,
   "metadata": {},
   "outputs": [
    {
     "ename": "NameError",
     "evalue": "name 'dada2' is not defined",
     "output_type": "error",
     "traceback": [
      "\u001b[0;31m---------------------------------------------------------------------------\u001b[0m",
      "\u001b[0;31mNameError\u001b[0m                                 Traceback (most recent call last)",
      "\u001b[0;32m<ipython-input-16-d5d6ec5d5ab6>\u001b[0m in \u001b[0;36m<module>\u001b[0;34m\u001b[0m\n\u001b[0;32m----> 1\u001b[0;31m denoised_sequences = dada2.methods.denoise_paired(demux_sequences.per_sample_sequences,\n\u001b[0m\u001b[1;32m      2\u001b[0m                                                   \u001b[0mtrim_left_f\u001b[0m \u001b[0;34m=\u001b[0m \u001b[0;36m13\u001b[0m\u001b[0;34m,\u001b[0m\u001b[0;34m\u001b[0m\u001b[0;34m\u001b[0m\u001b[0m\n\u001b[1;32m      3\u001b[0m                                                   \u001b[0mtrim_left_r\u001b[0m \u001b[0;34m=\u001b[0m \u001b[0;36m13\u001b[0m\u001b[0;34m,\u001b[0m\u001b[0;34m\u001b[0m\u001b[0;34m\u001b[0m\u001b[0m\n\u001b[1;32m      4\u001b[0m                                                   \u001b[0mtrunc_len_f\u001b[0m \u001b[0;34m=\u001b[0m \u001b[0;36m150\u001b[0m\u001b[0;34m,\u001b[0m\u001b[0;34m\u001b[0m\u001b[0;34m\u001b[0m\u001b[0m\n\u001b[1;32m      5\u001b[0m                                                   trunc_len_r = 150)\n",
      "\u001b[0;31mNameError\u001b[0m: name 'dada2' is not defined"
=======
=======
>>>>>>> 08b651d3cc8da8ae1472ae3a967ec13df5948e63
   "execution_count": 11,
   "metadata": {},
   "outputs": [
    {
     "name": "stdout",
     "output_type": "stream",
     "text": [
      "Running external command line application(s). This may print messages to stdout and/or stderr.\n",
      "The command(s) being run are below. These commands cannot be manually re-run as they will depend on temporary files that no longer exist.\n",
      "\n",
      "Command: run_dada_paired.R /tmp/tmp5mmso2kt/forward /tmp/tmp5mmso2kt/reverse /tmp/tmp5mmso2kt/output.tsv.biom /tmp/tmp5mmso2kt/track.tsv /tmp/tmp5mmso2kt/filt_f /tmp/tmp5mmso2kt/filt_r 150 150 13 13 2.0 2.0 2 consensus 1.0 1 1000000\n",
      "\n"
<<<<<<< HEAD
>>>>>>> 08b651d3cc8da8ae1472ae3a967ec13df5948e63
=======
>>>>>>> 08b651d3cc8da8ae1472ae3a967ec13df5948e63
     ]
    }
   ],
   "source": [
    "denoised_sequences = dada2.methods.denoise_paired(demux_sequences.per_sample_sequences,\n",
    "                                                  trim_left_f = 13,\n",
    "                                                  trim_left_r = 13,\n",
    "                                                  trunc_len_f = 150,\n",
    "                                                  trunc_len_r = 150)"
   ]
  },
  {
   "cell_type": "markdown",
   "metadata": {},
   "source": [
    "At this stage, you will have artifacts containing the feature table and corresponding feature sequences. You can generate summaries of those as follows."
   ]
  },
  {
   "cell_type": "code",
<<<<<<< HEAD
<<<<<<< HEAD
   "execution_count": 17,
=======
   "execution_count": 12,
>>>>>>> 08b651d3cc8da8ae1472ae3a967ec13df5948e63
=======
   "execution_count": 12,
>>>>>>> 08b651d3cc8da8ae1472ae3a967ec13df5948e63
   "metadata": {
    "scrolled": true
   },
   "outputs": [
    {
<<<<<<< HEAD
<<<<<<< HEAD
     "ename": "NameError",
     "evalue": "name 'feature_table' is not defined",
     "output_type": "error",
     "traceback": [
      "\u001b[0;31m---------------------------------------------------------------------------\u001b[0m",
      "\u001b[0;31mNameError\u001b[0m                                 Traceback (most recent call last)",
      "\u001b[0;32m<ipython-input-17-18dd0c09acb5>\u001b[0m in \u001b[0;36m<module>\u001b[0;34m\u001b[0m\n\u001b[0;32m----> 1\u001b[0;31m \u001b[0moutput_viz\u001b[0m \u001b[0;34m=\u001b[0m \u001b[0mfeature_table\u001b[0m\u001b[0;34m.\u001b[0m\u001b[0mvisualizers\u001b[0m\u001b[0;34m.\u001b[0m\u001b[0msummarize\u001b[0m\u001b[0;34m(\u001b[0m\u001b[0mdenoised_sequences\u001b[0m\u001b[0;34m.\u001b[0m\u001b[0mtable\u001b[0m\u001b[0;34m)\u001b[0m\u001b[0;34m\u001b[0m\u001b[0;34m\u001b[0m\u001b[0m\n\u001b[0m\u001b[1;32m      2\u001b[0m \u001b[0moutput_viz\u001b[0m\u001b[0;34m.\u001b[0m\u001b[0mvisualization\u001b[0m\u001b[0;34m\u001b[0m\u001b[0;34m\u001b[0m\u001b[0m\n",
      "\u001b[0;31mNameError\u001b[0m: name 'feature_table' is not defined"
     ]
=======
=======
>>>>>>> 08b651d3cc8da8ae1472ae3a967ec13df5948e63
     "name": "stderr",
     "output_type": "stream",
     "text": [
      "/home/user/miniconda2/envs/qiime2-2020.2/lib/python3.6/site-packages/q2_feature_table/_summarize/_visualizer.py:122: FutureWarning: The signature of `Series.to_csv` was aligned to that of `DataFrame.to_csv`, and argument 'header' will change its default value from False to True: please pass an explicit value to suppress this warning.\n",
      "  os.path.join(output_dir, 'sample-frequency-detail.csv'))\n",
      "/home/user/miniconda2/envs/qiime2-2020.2/lib/python3.6/site-packages/q2_feature_table/_summarize/_visualizer.py:124: FutureWarning: The signature of `Series.to_csv` was aligned to that of `DataFrame.to_csv`, and argument 'header' will change its default value from False to True: please pass an explicit value to suppress this warning.\n",
      "  os.path.join(output_dir, 'feature-frequency-detail.csv'))\n"
     ]
    },
    {
     "data": {
      "text/html": [
       "<div><img onload=\"(function(div, url){\n",
       "if (typeof require !== 'undefined') {\n",
       "    var baseURL = require.toUrl('').split('/').slice(0, -2).join('/');\n",
       "} else {\n",
       "    var baseURL = JSON.parse(\n",
       "        document.getElementById('jupyter-config-data').innerHTML\n",
       "    ).baseUrl.slice(0, -1);\n",
       "}\n",
       "url = baseURL + url;\n",
       "fetch(url).then(function(res) {\n",
       "    if (res.status === 404) {\n",
       "        div.innerHTML = 'Install QIIME 2 Jupyter extension with:<br />' +\n",
       "                        '<code>jupyter serverextension enable --py qiime2' +\n",
       "                        ' --sys-prefix</code><br />then restart your server.' +\n",
       "                        '<br /><br />(Interactive output not available on ' +\n",
       "                        'static notebook viewer services like nbviewer.)';\n",
       "    } else if (res.status === 409) {\n",
       "        div.innerHTML = 'Visualization no longer in scope. Re-run this cell' +\n",
       "                        ' to see the visualization.';\n",
       "    } else if (res.ok) {\n",
       "        url = res.url;\n",
       "        div.innerHTML = '<iframe src=\\'' + url + '\\' style=\\'' +\n",
       "                        'width: 100%; height: 700px; border: 0;\\'>' +\n",
       "                        '</iframe><hr />Open in a: <a href=\\'' + url + '\\'' +\n",
       "                        ' target=\\'_blank\\'>new window</a>'\n",
       "    } else {\n",
       "        div.innerHTML = 'Something has gone wrong. Check notebook server for' +\n",
       "                        ' errors.';\n",
       "    }\n",
       "});\n",
       "})(this.parentElement, '/qiime2/redirect?location=/tmp/qiime2-archive-y007sezw')\" src=\"data:image/gif;base64,R0lGODlhAQABAIAAAP///wAAACH5BAEAAAAALAAAAAABAAEAAAICRAEAOw==\" /></div>"
      ],
      "text/plain": [
       "<visualization: Visualization uuid: 23b027b7-60be-4e04-9e7b-4e350cd4edf7>"
      ]
     },
     "execution_count": 12,
     "metadata": {},
     "output_type": "execute_result"
<<<<<<< HEAD
>>>>>>> 08b651d3cc8da8ae1472ae3a967ec13df5948e63
=======
>>>>>>> 08b651d3cc8da8ae1472ae3a967ec13df5948e63
    }
   ],
   "source": [
    "output_viz = feature_table.visualizers.summarize(denoised_sequences.table)\n",
    "output_viz.visualization"
   ]
  },
  {
   "cell_type": "code",
<<<<<<< HEAD
<<<<<<< HEAD
   "execution_count": 18,
   "metadata": {},
   "outputs": [
    {
     "ename": "NameError",
     "evalue": "name 'metadata' is not defined",
     "output_type": "error",
     "traceback": [
      "\u001b[0;31m---------------------------------------------------------------------------\u001b[0m",
      "\u001b[0;31mNameError\u001b[0m                                 Traceback (most recent call last)",
      "\u001b[0;32m<ipython-input-18-baf6a9782a8f>\u001b[0m in \u001b[0;36m<module>\u001b[0;34m\u001b[0m\n\u001b[0;32m----> 1\u001b[0;31m \u001b[0mrep_seq\u001b[0m \u001b[0;34m=\u001b[0m \u001b[0mmetadata\u001b[0m\u001b[0;34m.\u001b[0m\u001b[0mvisualizers\u001b[0m\u001b[0;34m.\u001b[0m\u001b[0mtabulate\u001b[0m\u001b[0;34m(\u001b[0m\u001b[0mdenoised_sequences\u001b[0m\u001b[0;34m.\u001b[0m\u001b[0mrepresentative_sequences\u001b[0m\u001b[0;34m.\u001b[0m\u001b[0mview\u001b[0m\u001b[0;34m(\u001b[0m\u001b[0mqiime2\u001b[0m\u001b[0;34m.\u001b[0m\u001b[0mMetadata\u001b[0m\u001b[0;34m)\u001b[0m\u001b[0;34m)\u001b[0m\u001b[0;34m\u001b[0m\u001b[0;34m\u001b[0m\u001b[0m\n\u001b[0m\u001b[1;32m      2\u001b[0m \u001b[0mrep_seq\u001b[0m\u001b[0;34m.\u001b[0m\u001b[0mvisualization\u001b[0m\u001b[0;34m\u001b[0m\u001b[0;34m\u001b[0m\u001b[0m\n",
      "\u001b[0;31mNameError\u001b[0m: name 'metadata' is not defined"
     ]
=======
=======
>>>>>>> 08b651d3cc8da8ae1472ae3a967ec13df5948e63
   "execution_count": 13,
   "metadata": {},
   "outputs": [
    {
     "data": {
      "text/html": [
       "<div><img onload=\"(function(div, url){\n",
       "if (typeof require !== 'undefined') {\n",
       "    var baseURL = require.toUrl('').split('/').slice(0, -2).join('/');\n",
       "} else {\n",
       "    var baseURL = JSON.parse(\n",
       "        document.getElementById('jupyter-config-data').innerHTML\n",
       "    ).baseUrl.slice(0, -1);\n",
       "}\n",
       "url = baseURL + url;\n",
       "fetch(url).then(function(res) {\n",
       "    if (res.status === 404) {\n",
       "        div.innerHTML = 'Install QIIME 2 Jupyter extension with:<br />' +\n",
       "                        '<code>jupyter serverextension enable --py qiime2' +\n",
       "                        ' --sys-prefix</code><br />then restart your server.' +\n",
       "                        '<br /><br />(Interactive output not available on ' +\n",
       "                        'static notebook viewer services like nbviewer.)';\n",
       "    } else if (res.status === 409) {\n",
       "        div.innerHTML = 'Visualization no longer in scope. Re-run this cell' +\n",
       "                        ' to see the visualization.';\n",
       "    } else if (res.ok) {\n",
       "        url = res.url;\n",
       "        div.innerHTML = '<iframe src=\\'' + url + '\\' style=\\'' +\n",
       "                        'width: 100%; height: 700px; border: 0;\\'>' +\n",
       "                        '</iframe><hr />Open in a: <a href=\\'' + url + '\\'' +\n",
       "                        ' target=\\'_blank\\'>new window</a>'\n",
       "    } else {\n",
       "        div.innerHTML = 'Something has gone wrong. Check notebook server for' +\n",
       "                        ' errors.';\n",
       "    }\n",
       "});\n",
       "})(this.parentElement, '/qiime2/redirect?location=/tmp/qiime2-archive-wka1l054')\" src=\"data:image/gif;base64,R0lGODlhAQABAIAAAP///wAAACH5BAEAAAAALAAAAAABAAEAAAICRAEAOw==\" /></div>"
      ],
      "text/plain": [
       "<visualization: Visualization uuid: b1e2b5b6-5b96-4d8a-bb5d-fa030f910e67>"
      ]
     },
     "execution_count": 13,
     "metadata": {},
     "output_type": "execute_result"
<<<<<<< HEAD
>>>>>>> 08b651d3cc8da8ae1472ae3a967ec13df5948e63
=======
>>>>>>> 08b651d3cc8da8ae1472ae3a967ec13df5948e63
    }
   ],
   "source": [
    "rep_seq = metadata.visualizers.tabulate(denoised_sequences.representative_sequences.view(qiime2.Metadata))\n",
    "rep_seq.visualization"
   ]
  },
  {
   "cell_type": "markdown",
   "metadata": {},
   "source": [
    "As well, you can visualize the denoising stats by running:"
   ]
  },
  {
   "cell_type": "code",
   "execution_count": 14,
   "metadata": {},
   "outputs": [
    {
     "data": {
      "text/html": [
       "<div><img onload=\"(function(div, url){\n",
       "if (typeof require !== 'undefined') {\n",
       "    var baseURL = require.toUrl('').split('/').slice(0, -2).join('/');\n",
       "} else {\n",
       "    var baseURL = JSON.parse(\n",
       "        document.getElementById('jupyter-config-data').innerHTML\n",
       "    ).baseUrl.slice(0, -1);\n",
       "}\n",
       "url = baseURL + url;\n",
       "fetch(url).then(function(res) {\n",
       "    if (res.status === 404) {\n",
       "        div.innerHTML = 'Install QIIME 2 Jupyter extension with:<br />' +\n",
       "                        '<code>jupyter serverextension enable --py qiime2' +\n",
       "                        ' --sys-prefix</code><br />then restart your server.' +\n",
       "                        '<br /><br />(Interactive output not available on ' +\n",
       "                        'static notebook viewer services like nbviewer.)';\n",
       "    } else if (res.status === 409) {\n",
       "        div.innerHTML = 'Visualization no longer in scope. Re-run this cell' +\n",
       "                        ' to see the visualization.';\n",
       "    } else if (res.ok) {\n",
       "        url = res.url;\n",
       "        div.innerHTML = '<iframe src=\\'' + url + '\\' style=\\'' +\n",
       "                        'width: 100%; height: 700px; border: 0;\\'>' +\n",
       "                        '</iframe><hr />Open in a: <a href=\\'' + url + '\\'' +\n",
       "                        ' target=\\'_blank\\'>new window</a>'\n",
       "    } else {\n",
       "        div.innerHTML = 'Something has gone wrong. Check notebook server for' +\n",
       "                        ' errors.';\n",
       "    }\n",
       "});\n",
       "})(this.parentElement, '/qiime2/redirect?location=/tmp/qiime2-archive-v8khay2w')\" src=\"data:image/gif;base64,R0lGODlhAQABAIAAAP///wAAACH5BAEAAAAALAAAAAABAAEAAAICRAEAOw==\" /></div>"
      ],
      "text/plain": [
       "<visualization: Visualization uuid: bef22cb9-81f2-47fd-b812-28819c477f76>"
      ]
     },
     "execution_count": 14,
     "metadata": {},
     "output_type": "execute_result"
    }
   ],
   "source": [
    "denoised_stats = metadata.visualizers.tabulate(denoised_sequences.denoising_stats.view(qiime2.Metadata))\n",
    "denoised_stats.visualization"
   ]
  },
  {
   "cell_type": "markdown",
   "metadata": {},
   "source": [
    "From this point, analysis of paired-end read data progresses in the same way as analysis of single-end read data. You can therefore continue your analyses of these data following the steps that you ran in the moving pictures tutorial."
   ]
  },
  {
   "cell_type": "markdown",
   "metadata": {},
   "source": [
    "# Questions to guide data analysis"
   ]
  },
  {
   "cell_type": "markdown",
   "metadata": {},
   "source": [
    "\n",
    "Use the following questions to guide your further analyses of these data data.\n",
    "\n",
<<<<<<< HEAD
<<<<<<< HEAD
    "1. What value would you choose to pass for `sampling_depth` ? How many samples will be excluded from your analysis based on this choice? Approximately how many total sequences will you be analyzing in the `core_metrics_phylogenetic` command?\n",
    "2. What sample metadata or combinations of sample metadata are most strongly associated with the differences in robial composition of the samples? Are these associations stronger with unweighted UniFrac or with Bray-Curtis? Based on what you know about these metrics, what does that difference suggest? For exploring associations between continuous metadata and sample composition, the commands `import distance_matrix` in combination with `mantel` and `bioenv` will be useful. These were not covered in the Moving Pictures tutorial, but you can learn about them by running them by pressing the `Shift + TAB`.\n",
    "3. What do you conclude about the associations between continuous sample metadata and the richness and evenness of these samples? For exploring associations between continuous metadata and richness or evenness, the command `alpha_correlation` will be useful. This was not covered in the Moving Pictures tutorial, but you can learn about it by pressing the `Shift + TAB` .\n",
    "4. Which categorical sample metadata columns are most strongly associated with the differences in microbial     community richness or evenness? Are these differences statistically significant?\n",
    "5. In taxonomic composition bar plots, sort the samples by their average soil relative humidity, and visualize them at the phylum level. What are the dominant phyla in these samples? Which phyla increase and which decrease with increasing average soil relative humidity?\n",
    "6. What phyla differ in abundance across vegetated and unvegetated sites?"
=======
=======
>>>>>>> 08b651d3cc8da8ae1472ae3a967ec13df5948e63
    "1.What value would you choose to pass for `--p-sampling-depth` ? How many samples will be excluded from your analysis based on this choice? Approximately how many total sequences will you be analyzing in the `core-metrics-phylogenetic` command?\n",
    "2.What sample metadata or combinations of sample metadata are most strongly associated with the differences in robial composition of the samples? Are these associations stronger with unweighted UniFrac or with Bray-Curtis? Based on what you know about these metrics, what does that difference suggest? For exploring associations between continuous metadata and sample composition, the commands `qiime metadata distance-matrix` in combination with `qiime diversity mantel` and `qiime diversity bioenv` will be useful. These were not covered in the Moving Pictures tutorial, but you can learn about them by running them with the `--help` parameter.\n",
    "3.What do you conclude about the associations between continuous sample metadata and the richness and evenness of these samples? For exploring associations between continuous metadata and richness or evenness, the command `qiime diversity alpha-correlation` will be useful. This was not covered in the Moving Pictures tutorial, but you can learn about it by running it with the `--help` parameter.\n",
    "4.Which categorical sample metadata columns are most strongly associated with the differences in microbial     community richness or evenness? Are these differences statistically significant?\n",
    "5.In taxonomic composition bar plots, sort the samples by their average soil relative humidity, and visualize them at the phylum level. What are the dominant phyla in these samples? Which phyla increase and which decrease with increasing average soil relative humidity?\n",
    "6.What phyla differ in abundance across vegetated and unvegetated sites?"
<<<<<<< HEAD
>>>>>>> 08b651d3cc8da8ae1472ae3a967ec13df5948e63
=======
>>>>>>> 08b651d3cc8da8ae1472ae3a967ec13df5948e63
   ]
  },
  {
   "cell_type": "markdown",
   "metadata": {},
   "source": [
    "# Acknowledgements"
   ]
  },
  {
   "cell_type": "markdown",
   "metadata": {},
   "source": [
    "The data used in this tutorial is presented in: `Significant Impacts of Increasing Aridity on the Arid Soil Microbiome. Julia W. Neilson, Katy Califf, Cesar Cardona, Audrey Copeland, Will van Treuren, Karen L. Josephson, Rob Knight, Jack A. Gilbert, Jay Quade, J. Gregory Caporaso, and Raina M. Maier. mSystems May 2017, 2 (3) e00195-16; DOI: 10.1128/mSystems.00195-16`."
   ]
<<<<<<< HEAD
<<<<<<< HEAD
=======
=======
>>>>>>> 08b651d3cc8da8ae1472ae3a967ec13df5948e63
  },
  {
   "cell_type": "code",
   "execution_count": null,
   "metadata": {},
   "outputs": [],
   "source": []
<<<<<<< HEAD
>>>>>>> 08b651d3cc8da8ae1472ae3a967ec13df5948e63
=======
>>>>>>> 08b651d3cc8da8ae1472ae3a967ec13df5948e63
  }
 ],
 "metadata": {
  "kernelspec": {
   "display_name": "Python 3",
   "language": "python",
   "name": "python3"
  },
  "language_info": {
   "codemirror_mode": {
    "name": "ipython",
    "version": 3
   },
   "file_extension": ".py",
   "mimetype": "text/x-python",
   "name": "python",
   "nbconvert_exporter": "python",
   "pygments_lexer": "ipython3",
   "version": "3.6.7"
  }
 },
 "nbformat": 4,
 "nbformat_minor": 4
}
