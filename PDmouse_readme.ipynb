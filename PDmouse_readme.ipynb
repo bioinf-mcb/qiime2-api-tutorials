{
 "cells": [
  {
   "cell_type": "markdown",
   "metadata": {},
   "source": [
    "## Parkinson’s Mouse Tutorial\n",
    "This repository includes the Jupyter notebooks to generate the figures using the 2020.2 version of QIIME 2. The full study is accessible at [Sampson et al, 2016](https://pubmed.ncbi.nlm.nih.gov/27912057/)\n",
    "\n",
    "\n",
    "### Notes to the reader\n",
    "This tutorial demonstrates a “typical” QIIME 2 analysis of 16S rRNA.  This tutorial dataset is a subset of data from two human donors. While we do not provide all the data in this repository we provide the Metadata tables, which contains all of the clinical data.\n",
    "\n",
    "### Repository Structure\n",
    "1. Artifact API\n",
    "This directory contains codes for each step of analysis. More descriptions can be found within the [website](https://docs.qiime2.org/2020.8/).\n",
    "\n",
    "2. Data\n",
    "This directory contains the input data download URL, including metadata and subsample data. \n",
    "\n",
    "3. Questions\n",
    "The crucial figures and tables from the paper which can be interpreted are followed with clarifying questions to ensure understanding and obtain essential information of tutorials. \n",
    "\n",
    "4. Instructions \n",
    "This notebook contains step-by-step instructions, which provide explanatory information for every part of analysis.\n",
    "\n",
    "### Notebooks running\n",
    "This guide assumes you have QIIME 2 installed (e.g. using [this procedure](https://docs.qiime2.org/2020.8/install/native/)). To execute the script properly, open this notebook in a Jupyter Notebook from within a conda QIIME 2 environment."
   ]
  }
 ],
 "metadata": {
  "kernelspec": {
   "display_name": "Python 3",
   "language": "python",
   "name": "python3"
  },
  "language_info": {
   "codemirror_mode": {
    "name": "ipython",
    "version": 3
   },
   "file_extension": ".py",
   "mimetype": "text/x-python",
   "name": "python",
   "nbconvert_exporter": "python",
   "pygments_lexer": "ipython3",
   "version": "3.6.7"
  }
 },
 "nbformat": 4,
 "nbformat_minor": 4
}
